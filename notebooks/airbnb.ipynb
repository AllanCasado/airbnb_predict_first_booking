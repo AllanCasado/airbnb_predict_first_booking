{
 "cells": [
  {
   "cell_type": "markdown",
   "id": "9e48df5b",
   "metadata": {},
   "source": [
    "# 0.0 Imports"
   ]
  },
  {
   "cell_type": "code",
   "execution_count": 1,
   "id": "5e2b650c",
   "metadata": {
    "ExecuteTime": {
     "end_time": "2023-05-10T13:30:39.191615Z",
     "start_time": "2023-05-10T13:30:35.719955Z"
    }
   },
   "outputs": [],
   "source": [
    "import pandas as pd\n",
    "import numpy as np"
   ]
  },
  {
   "cell_type": "markdown",
   "id": "ae70b5b2",
   "metadata": {},
   "source": [
    "# 1.0 Helper Functions"
   ]
  },
  {
   "cell_type": "markdown",
   "id": "1f990dfb",
   "metadata": {},
   "source": [
    "# 2.0 Data Collection"
   ]
  },
  {
   "cell_type": "markdown",
   "id": "91f56268",
   "metadata": {},
   "source": [
    "# 3.0 Data description"
   ]
  },
  {
   "cell_type": "markdown",
   "id": "7507e437",
   "metadata": {},
   "source": [
    "# 4.0 Data Cleaning"
   ]
  },
  {
   "cell_type": "markdown",
   "id": "8ca86595",
   "metadata": {
    "ExecuteTime": {
     "end_time": "2023-05-10T13:32:43.176121Z",
     "start_time": "2023-05-10T13:32:43.172115Z"
    }
   },
   "source": [
    "# 5.0 Feature Engineering"
   ]
  },
  {
   "cell_type": "markdown",
   "id": "53bb0e43",
   "metadata": {},
   "source": [
    "# 6.0 EDA"
   ]
  },
  {
   "cell_type": "markdown",
   "id": "f6c7e8b2",
   "metadata": {},
   "source": [
    "# 7.0 Data Preparation"
   ]
  },
  {
   "cell_type": "markdown",
   "id": "1b404caf",
   "metadata": {},
   "source": [
    "# 8.0 Feature Selection"
   ]
  },
  {
   "cell_type": "markdown",
   "id": "dddaaed0",
   "metadata": {},
   "source": [
    "# 9.0 Modelling"
   ]
  },
  {
   "cell_type": "markdown",
   "id": "1dc4be02",
   "metadata": {},
   "source": [
    "# 10.0 Hyperparameter Fine Tuning"
   ]
  },
  {
   "cell_type": "markdown",
   "id": "7521d5ae",
   "metadata": {},
   "source": [
    "# 11.0 Final Metrics"
   ]
  },
  {
   "cell_type": "markdown",
   "id": "e1b8f335",
   "metadata": {},
   "source": [
    "# 12.0 Business Performance"
   ]
  }
 ],
 "metadata": {
  "kernelspec": {
   "display_name": "Python 3 (ipykernel)",
   "language": "python",
   "name": "python3"
  },
  "language_info": {
   "codemirror_mode": {
    "name": "ipython",
    "version": 3
   },
   "file_extension": ".py",
   "mimetype": "text/x-python",
   "name": "python",
   "nbconvert_exporter": "python",
   "pygments_lexer": "ipython3",
   "version": "3.10.11"
  }
 },
 "nbformat": 4,
 "nbformat_minor": 5
}
