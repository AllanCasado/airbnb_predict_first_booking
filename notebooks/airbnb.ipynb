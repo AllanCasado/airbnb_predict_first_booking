{
 "cells": [
  {
   "cell_type": "markdown",
   "id": "9e48df5b",
   "metadata": {},
   "source": [
    "# 0.0 Imports"
   ]
  },
  {
   "cell_type": "code",
   "execution_count": 2,
   "id": "5e2b650c",
   "metadata": {
    "ExecuteTime": {
     "end_time": "2023-08-16T18:39:22.659922Z",
     "start_time": "2023-08-16T18:39:22.641258Z"
    }
   },
   "outputs": [],
   "source": [
    "import pandas            as pd\n",
    "import numpy             as np\n",
    "import matplotlib.pyplot as plt\n",
    "import seaborn           as sns"
   ]
  },
  {
   "cell_type": "markdown",
   "id": "ae70b5b2",
   "metadata": {},
   "source": [
    "# 1.0 Helper Functions"
   ]
  },
  {
   "cell_type": "markdown",
   "id": "1f990dfb",
   "metadata": {
    "heading_collapsed": true
   },
   "source": [
    "# 2.0 Data Collection"
   ]
  },
  {
   "cell_type": "markdown",
   "id": "32e26ca3",
   "metadata": {
    "hidden": true
   },
   "source": [
    "Data from Kaggle Airbnb competition: https://www.kaggle.com/competitions/airbnb-recruiting-new-user-bookings/data"
   ]
  },
  {
   "cell_type": "code",
   "execution_count": 43,
   "id": "3733c4e4",
   "metadata": {
    "ExecuteTime": {
     "end_time": "2023-08-16T19:10:09.011799Z",
     "start_time": "2023-08-16T19:10:00.137045Z"
    },
    "hidden": true
   },
   "outputs": [],
   "source": [
    "df_users_raw = pd.read_csv(\"../data/train_users_2.csv\")\n",
    "df_countries_raw = pd.read_csv(\"../data/countries.csv\")\n",
    "df_age_gender_raw = pd.read_csv(\"../data/age_gender_bkts.csv\")\n",
    "df_sessions_raw = pd.read_csv(\"../data/sessions.csv\", low_memory=True)"
   ]
  },
  {
   "cell_type": "markdown",
   "id": "91f56268",
   "metadata": {},
   "source": [
    "# 3.0 Data description"
   ]
  },
  {
   "cell_type": "markdown",
   "id": "97047122",
   "metadata": {
    "heading_collapsed": true
   },
   "source": [
    "## Users "
   ]
  },
  {
   "cell_type": "code",
   "execution_count": 44,
   "id": "97bc33c4",
   "metadata": {
    "ExecuteTime": {
     "end_time": "2023-08-16T19:10:35.969866Z",
     "start_time": "2023-08-16T19:10:35.899221Z"
    },
    "hidden": true
   },
   "outputs": [],
   "source": [
    "df_users_01 = df_users_raw.copy()"
   ]
  },
  {
   "cell_type": "markdown",
   "id": "c8972557",
   "metadata": {
    "hidden": true
   },
   "source": [
    "#### Data Dictionary"
   ]
  },
  {
   "cell_type": "markdown",
   "id": "afc25a1d",
   "metadata": {
    "hidden": true
   },
   "source": [
    "* <b>id</b>: user id\n",
    "* <b>date_account_created</b>: the date of account creation\n",
    "* <b>timestamp_first_active</b>: timestamp of the first activity, note that it can be earlier than date_account_created or date_first_booking because a user can search before signing up\n",
    "* <b>date_first_booking</b>: date of first booking\n",
    "* <b>gender</b>: user gender\n",
    "* <b>age</b>: user age\n",
    "* <b>signup_method</b>: what method user used to create the account (basic login and password, using google or facebook)\n",
    "* <b>signup_flow</b>: the page a user came to signup up from\n",
    "* <b>language</b>: international language preference\n",
    "* <b>affiliate_channel</b>: column tells us what type of paid marketing was used. For example, if Airbnb used search engines to attract new users, it would fall under the SEM (Search Engine Marketing) category. Similarly, if Airbnb sent emails to attract new users, it would fall under the email marketing category.\n",
    "* <b>affiliate_provider</b>:  tells us which company or platform was used for the paid marketing campaign.\n",
    "* <b>first_affiliate_tracked</b>: whats the first marketing the user interacted with before the signing up\n",
    "* <b>signup_app</b>: contains the name of the application or website that the user used to create their Airbnb account, such as \"Web\", \"iOS\", \"Android\", or \"Moweb\"\n",
    "* <b>first_device_type</b>: type of device used by the user to sign up for their Airbnb account, such as a desktop computer, smartphone, tablet, or other type of device.\n",
    "* <b>first_browser</b>:  contains the name of the web browser that the user used to sign up for their Airbnb account, such as Google Chrome, Mozilla Firefox, Safari, Internet Explorer, or others.\n",
    "* <b>country_destination</b>: this is the target variable you are to predict"
   ]
  },
  {
   "cell_type": "code",
   "execution_count": 5,
   "id": "62798c86",
   "metadata": {
    "ExecuteTime": {
     "end_time": "2023-08-16T18:40:09.427187Z",
     "start_time": "2023-08-16T18:40:09.242944Z"
    },
    "hidden": true
   },
   "outputs": [
    {
     "data": {
      "text/html": [
       "<div>\n",
       "<style scoped>\n",
       "    .dataframe tbody tr th:only-of-type {\n",
       "        vertical-align: middle;\n",
       "    }\n",
       "\n",
       "    .dataframe tbody tr th {\n",
       "        vertical-align: top;\n",
       "    }\n",
       "\n",
       "    .dataframe thead th {\n",
       "        text-align: right;\n",
       "    }\n",
       "</style>\n",
       "<table border=\"1\" class=\"dataframe\">\n",
       "  <thead>\n",
       "    <tr style=\"text-align: right;\">\n",
       "      <th></th>\n",
       "      <th>id</th>\n",
       "      <th>date_account_created</th>\n",
       "      <th>timestamp_first_active</th>\n",
       "      <th>date_first_booking</th>\n",
       "      <th>gender</th>\n",
       "      <th>age</th>\n",
       "      <th>signup_method</th>\n",
       "      <th>signup_flow</th>\n",
       "      <th>language</th>\n",
       "      <th>affiliate_channel</th>\n",
       "      <th>affiliate_provider</th>\n",
       "      <th>first_affiliate_tracked</th>\n",
       "      <th>signup_app</th>\n",
       "      <th>first_device_type</th>\n",
       "      <th>first_browser</th>\n",
       "      <th>country_destination</th>\n",
       "    </tr>\n",
       "  </thead>\n",
       "  <tbody>\n",
       "    <tr>\n",
       "      <th>0</th>\n",
       "      <td>gxn3p5htnn</td>\n",
       "      <td>2010-06-28</td>\n",
       "      <td>20090319043255</td>\n",
       "      <td>NaN</td>\n",
       "      <td>-unknown-</td>\n",
       "      <td>NaN</td>\n",
       "      <td>facebook</td>\n",
       "      <td>0</td>\n",
       "      <td>en</td>\n",
       "      <td>direct</td>\n",
       "      <td>direct</td>\n",
       "      <td>untracked</td>\n",
       "      <td>Web</td>\n",
       "      <td>Mac Desktop</td>\n",
       "      <td>Chrome</td>\n",
       "      <td>NDF</td>\n",
       "    </tr>\n",
       "    <tr>\n",
       "      <th>1</th>\n",
       "      <td>820tgsjxq7</td>\n",
       "      <td>2011-05-25</td>\n",
       "      <td>20090523174809</td>\n",
       "      <td>NaN</td>\n",
       "      <td>MALE</td>\n",
       "      <td>38.0</td>\n",
       "      <td>facebook</td>\n",
       "      <td>0</td>\n",
       "      <td>en</td>\n",
       "      <td>seo</td>\n",
       "      <td>google</td>\n",
       "      <td>untracked</td>\n",
       "      <td>Web</td>\n",
       "      <td>Mac Desktop</td>\n",
       "      <td>Chrome</td>\n",
       "      <td>NDF</td>\n",
       "    </tr>\n",
       "    <tr>\n",
       "      <th>2</th>\n",
       "      <td>4ft3gnwmtx</td>\n",
       "      <td>2010-09-28</td>\n",
       "      <td>20090609231247</td>\n",
       "      <td>2010-08-02</td>\n",
       "      <td>FEMALE</td>\n",
       "      <td>56.0</td>\n",
       "      <td>basic</td>\n",
       "      <td>3</td>\n",
       "      <td>en</td>\n",
       "      <td>direct</td>\n",
       "      <td>direct</td>\n",
       "      <td>untracked</td>\n",
       "      <td>Web</td>\n",
       "      <td>Windows Desktop</td>\n",
       "      <td>IE</td>\n",
       "      <td>US</td>\n",
       "    </tr>\n",
       "    <tr>\n",
       "      <th>3</th>\n",
       "      <td>bjjt8pjhuk</td>\n",
       "      <td>2011-12-05</td>\n",
       "      <td>20091031060129</td>\n",
       "      <td>2012-09-08</td>\n",
       "      <td>FEMALE</td>\n",
       "      <td>42.0</td>\n",
       "      <td>facebook</td>\n",
       "      <td>0</td>\n",
       "      <td>en</td>\n",
       "      <td>direct</td>\n",
       "      <td>direct</td>\n",
       "      <td>untracked</td>\n",
       "      <td>Web</td>\n",
       "      <td>Mac Desktop</td>\n",
       "      <td>Firefox</td>\n",
       "      <td>other</td>\n",
       "    </tr>\n",
       "    <tr>\n",
       "      <th>4</th>\n",
       "      <td>87mebub9p4</td>\n",
       "      <td>2010-09-14</td>\n",
       "      <td>20091208061105</td>\n",
       "      <td>2010-02-18</td>\n",
       "      <td>-unknown-</td>\n",
       "      <td>41.0</td>\n",
       "      <td>basic</td>\n",
       "      <td>0</td>\n",
       "      <td>en</td>\n",
       "      <td>direct</td>\n",
       "      <td>direct</td>\n",
       "      <td>untracked</td>\n",
       "      <td>Web</td>\n",
       "      <td>Mac Desktop</td>\n",
       "      <td>Chrome</td>\n",
       "      <td>US</td>\n",
       "    </tr>\n",
       "  </tbody>\n",
       "</table>\n",
       "</div>"
      ],
      "text/plain": [
       "           id date_account_created  timestamp_first_active date_first_booking  \\\n",
       "0  gxn3p5htnn           2010-06-28          20090319043255                NaN   \n",
       "1  820tgsjxq7           2011-05-25          20090523174809                NaN   \n",
       "2  4ft3gnwmtx           2010-09-28          20090609231247         2010-08-02   \n",
       "3  bjjt8pjhuk           2011-12-05          20091031060129         2012-09-08   \n",
       "4  87mebub9p4           2010-09-14          20091208061105         2010-02-18   \n",
       "\n",
       "      gender   age signup_method  signup_flow language affiliate_channel  \\\n",
       "0  -unknown-   NaN      facebook            0       en            direct   \n",
       "1       MALE  38.0      facebook            0       en               seo   \n",
       "2     FEMALE  56.0         basic            3       en            direct   \n",
       "3     FEMALE  42.0      facebook            0       en            direct   \n",
       "4  -unknown-  41.0         basic            0       en            direct   \n",
       "\n",
       "  affiliate_provider first_affiliate_tracked signup_app first_device_type  \\\n",
       "0             direct               untracked        Web       Mac Desktop   \n",
       "1             google               untracked        Web       Mac Desktop   \n",
       "2             direct               untracked        Web   Windows Desktop   \n",
       "3             direct               untracked        Web       Mac Desktop   \n",
       "4             direct               untracked        Web       Mac Desktop   \n",
       "\n",
       "  first_browser country_destination  \n",
       "0        Chrome                 NDF  \n",
       "1        Chrome                 NDF  \n",
       "2            IE                  US  \n",
       "3       Firefox               other  \n",
       "4        Chrome                  US  "
      ]
     },
     "execution_count": 5,
     "metadata": {},
     "output_type": "execute_result"
    }
   ],
   "source": [
    "df_users_01.head()"
   ]
  },
  {
   "cell_type": "markdown",
   "id": "dfbd121b",
   "metadata": {
    "heading_collapsed": true,
    "hidden": true
   },
   "source": [
    "### Data Dimension"
   ]
  },
  {
   "cell_type": "code",
   "execution_count": 45,
   "id": "f6aef064",
   "metadata": {
    "ExecuteTime": {
     "end_time": "2023-08-16T19:10:45.329284Z",
     "start_time": "2023-08-16T19:10:45.305477Z"
    },
    "hidden": true
   },
   "outputs": [
    {
     "data": {
      "text/plain": [
       "(213451, 16)"
      ]
     },
     "execution_count": 45,
     "metadata": {},
     "output_type": "execute_result"
    }
   ],
   "source": [
    "df_users_01.shape"
   ]
  },
  {
   "cell_type": "markdown",
   "id": "ffde92df",
   "metadata": {
    "heading_collapsed": true,
    "hidden": true
   },
   "source": [
    "### Data Types"
   ]
  },
  {
   "cell_type": "code",
   "execution_count": 46,
   "id": "abdce64a",
   "metadata": {
    "ExecuteTime": {
     "end_time": "2023-08-16T19:10:50.101307Z",
     "start_time": "2023-08-16T19:10:49.625060Z"
    },
    "hidden": true
   },
   "outputs": [
    {
     "name": "stdout",
     "output_type": "stream",
     "text": [
      "<class 'pandas.core.frame.DataFrame'>\n",
      "RangeIndex: 213451 entries, 0 to 213450\n",
      "Data columns (total 16 columns):\n",
      " #   Column                   Non-Null Count   Dtype  \n",
      "---  ------                   --------------   -----  \n",
      " 0   id                       213451 non-null  object \n",
      " 1   date_account_created     213451 non-null  object \n",
      " 2   timestamp_first_active   213451 non-null  int64  \n",
      " 3   date_first_booking       88908 non-null   object \n",
      " 4   gender                   213451 non-null  object \n",
      " 5   age                      125461 non-null  float64\n",
      " 6   signup_method            213451 non-null  object \n",
      " 7   signup_flow              213451 non-null  int64  \n",
      " 8   language                 213451 non-null  object \n",
      " 9   affiliate_channel        213451 non-null  object \n",
      " 10  affiliate_provider       213451 non-null  object \n",
      " 11  first_affiliate_tracked  207386 non-null  object \n",
      " 12  signup_app               213451 non-null  object \n",
      " 13  first_device_type        213451 non-null  object \n",
      " 14  first_browser            213451 non-null  object \n",
      " 15  country_destination      213451 non-null  object \n",
      "dtypes: float64(1), int64(2), object(13)\n",
      "memory usage: 26.1+ MB\n"
     ]
    }
   ],
   "source": [
    "df_users_01.info()"
   ]
  },
  {
   "cell_type": "markdown",
   "id": "753c9b86",
   "metadata": {
    "heading_collapsed": true,
    "hide_input": true
   },
   "source": [
    "### Change dtypes"
   ]
  },
  {
   "cell_type": "code",
   "execution_count": 47,
   "id": "d523152f",
   "metadata": {
    "ExecuteTime": {
     "end_time": "2023-08-16T19:11:03.003991Z",
     "start_time": "2023-08-16T19:11:01.951928Z"
    },
    "hidden": true
   },
   "outputs": [],
   "source": [
    "#date_account_created; object -> date\n",
    "df_users_01['date_account_created'] = pd.to_datetime(df_users_01['date_account_created'])\n",
    "\n",
    "#timestamp_first_active; int -> date\n",
    "df_users_01['date_first_active'] = pd.to_datetime(df_users_01['timestamp_first_active'], format='%Y%m%d%H%M%S').dt.date\n",
    "df_users_01 = df_users_01.drop('timestamp_first_active', axis=1)\n",
    "df_users_01['date_first_active'] = pd.to_datetime(df_users_01['date_first_active'])\n",
    "\n",
    "#date_first_booking; object -> date\n",
    "df_users_01['date_first_booking'] = pd.to_datetime(df_users_01['date_first_booking'])\n",
    "\n",
    "#age; float64 -> int32\n",
    "df_users_01['age'] = pd.to_numeric(df_users_01['age'], errors='coerce').astype('Int64')"
   ]
  },
  {
   "cell_type": "markdown",
   "id": "fb2de2ac",
   "metadata": {
    "heading_collapsed": true,
    "hide_input": true
   },
   "source": [
    "### Check duplicates"
   ]
  },
  {
   "cell_type": "code",
   "execution_count": 49,
   "id": "624d83dd",
   "metadata": {
    "ExecuteTime": {
     "end_time": "2023-08-16T19:12:15.299726Z",
     "start_time": "2023-08-16T19:12:14.977922Z"
    },
    "hidden": true
   },
   "outputs": [
    {
     "data": {
      "text/html": [
       "<div>\n",
       "<style scoped>\n",
       "    .dataframe tbody tr th:only-of-type {\n",
       "        vertical-align: middle;\n",
       "    }\n",
       "\n",
       "    .dataframe tbody tr th {\n",
       "        vertical-align: top;\n",
       "    }\n",
       "\n",
       "    .dataframe thead th {\n",
       "        text-align: right;\n",
       "    }\n",
       "</style>\n",
       "<table border=\"1\" class=\"dataframe\">\n",
       "  <thead>\n",
       "    <tr style=\"text-align: right;\">\n",
       "      <th></th>\n",
       "      <th>id</th>\n",
       "      <th>date_account_created</th>\n",
       "      <th>date_first_booking</th>\n",
       "      <th>gender</th>\n",
       "      <th>age</th>\n",
       "      <th>signup_method</th>\n",
       "      <th>signup_flow</th>\n",
       "      <th>language</th>\n",
       "      <th>affiliate_channel</th>\n",
       "      <th>affiliate_provider</th>\n",
       "      <th>first_affiliate_tracked</th>\n",
       "      <th>signup_app</th>\n",
       "      <th>first_device_type</th>\n",
       "      <th>first_browser</th>\n",
       "      <th>country_destination</th>\n",
       "      <th>date_first_active</th>\n",
       "    </tr>\n",
       "  </thead>\n",
       "  <tbody>\n",
       "  </tbody>\n",
       "</table>\n",
       "</div>"
      ],
      "text/plain": [
       "Empty DataFrame\n",
       "Columns: [id, date_account_created, date_first_booking, gender, age, signup_method, signup_flow, language, affiliate_channel, affiliate_provider, first_affiliate_tracked, signup_app, first_device_type, first_browser, country_destination, date_first_active]\n",
       "Index: []"
      ]
     },
     "execution_count": 49,
     "metadata": {},
     "output_type": "execute_result"
    }
   ],
   "source": [
    "df_users_01[df_users_01.duplicated()]"
   ]
  },
  {
   "cell_type": "markdown",
   "id": "d11c3c04",
   "metadata": {
    "hidden": true
   },
   "source": [
    "No duplicates."
   ]
  },
  {
   "cell_type": "markdown",
   "id": "56cf6ec2",
   "metadata": {
    "heading_collapsed": true
   },
   "source": [
    "## Countries"
   ]
  },
  {
   "cell_type": "code",
   "execution_count": 50,
   "id": "444a16d1",
   "metadata": {
    "ExecuteTime": {
     "end_time": "2023-08-16T19:12:50.304514Z",
     "start_time": "2023-08-16T19:12:50.300425Z"
    },
    "hidden": true
   },
   "outputs": [],
   "source": [
    "df_countries_01 = df_countries_raw.copy()"
   ]
  },
  {
   "cell_type": "markdown",
   "id": "8810a24a",
   "metadata": {
    "hidden": true
   },
   "source": [
    "#### Data Dictionary"
   ]
  },
  {
   "cell_type": "markdown",
   "id": "eabfcc7a",
   "metadata": {
    "hidden": true
   },
   "source": [
    "* <b>country_destination</b>: country\n",
    "* <b>lat_destination</b>: latitude of geographical center of the country\n",
    "* <b>lng_destination</b>: longitude of geographical center of the country\n",
    "* <b>distance_km</b>: distance between US and the country\n",
    "* <b>distance_km2</b>: squared distance between US and the country\n",
    "* <b>destination_language</b>: language of the country\n",
    "* <b>language_levenshtein_distance</b>: "
   ]
  },
  {
   "cell_type": "code",
   "execution_count": 51,
   "id": "0d0d921d",
   "metadata": {
    "ExecuteTime": {
     "end_time": "2023-08-16T19:12:54.299175Z",
     "start_time": "2023-08-16T19:12:54.283962Z"
    },
    "hidden": true
   },
   "outputs": [
    {
     "data": {
      "text/html": [
       "<div>\n",
       "<style scoped>\n",
       "    .dataframe tbody tr th:only-of-type {\n",
       "        vertical-align: middle;\n",
       "    }\n",
       "\n",
       "    .dataframe tbody tr th {\n",
       "        vertical-align: top;\n",
       "    }\n",
       "\n",
       "    .dataframe thead th {\n",
       "        text-align: right;\n",
       "    }\n",
       "</style>\n",
       "<table border=\"1\" class=\"dataframe\">\n",
       "  <thead>\n",
       "    <tr style=\"text-align: right;\">\n",
       "      <th></th>\n",
       "      <th>country_destination</th>\n",
       "      <th>lat_destination</th>\n",
       "      <th>lng_destination</th>\n",
       "      <th>distance_km</th>\n",
       "      <th>destination_km2</th>\n",
       "      <th>destination_language</th>\n",
       "      <th>language_levenshtein_distance</th>\n",
       "    </tr>\n",
       "  </thead>\n",
       "  <tbody>\n",
       "    <tr>\n",
       "      <th>0</th>\n",
       "      <td>AU</td>\n",
       "      <td>-26.853388</td>\n",
       "      <td>133.275160</td>\n",
       "      <td>15297.7440</td>\n",
       "      <td>7741220.0</td>\n",
       "      <td>eng</td>\n",
       "      <td>0.00</td>\n",
       "    </tr>\n",
       "    <tr>\n",
       "      <th>1</th>\n",
       "      <td>CA</td>\n",
       "      <td>62.393303</td>\n",
       "      <td>-96.818146</td>\n",
       "      <td>2828.1333</td>\n",
       "      <td>9984670.0</td>\n",
       "      <td>eng</td>\n",
       "      <td>0.00</td>\n",
       "    </tr>\n",
       "    <tr>\n",
       "      <th>2</th>\n",
       "      <td>DE</td>\n",
       "      <td>51.165707</td>\n",
       "      <td>10.452764</td>\n",
       "      <td>7879.5680</td>\n",
       "      <td>357022.0</td>\n",
       "      <td>deu</td>\n",
       "      <td>72.61</td>\n",
       "    </tr>\n",
       "    <tr>\n",
       "      <th>3</th>\n",
       "      <td>ES</td>\n",
       "      <td>39.896027</td>\n",
       "      <td>-2.487694</td>\n",
       "      <td>7730.7240</td>\n",
       "      <td>505370.0</td>\n",
       "      <td>spa</td>\n",
       "      <td>92.25</td>\n",
       "    </tr>\n",
       "    <tr>\n",
       "      <th>4</th>\n",
       "      <td>FR</td>\n",
       "      <td>46.232193</td>\n",
       "      <td>2.209667</td>\n",
       "      <td>7682.9450</td>\n",
       "      <td>643801.0</td>\n",
       "      <td>fra</td>\n",
       "      <td>92.06</td>\n",
       "    </tr>\n",
       "  </tbody>\n",
       "</table>\n",
       "</div>"
      ],
      "text/plain": [
       "  country_destination  lat_destination  lng_destination  distance_km  \\\n",
       "0                  AU       -26.853388       133.275160   15297.7440   \n",
       "1                  CA        62.393303       -96.818146    2828.1333   \n",
       "2                  DE        51.165707        10.452764    7879.5680   \n",
       "3                  ES        39.896027        -2.487694    7730.7240   \n",
       "4                  FR        46.232193         2.209667    7682.9450   \n",
       "\n",
       "   destination_km2 destination_language   language_levenshtein_distance  \n",
       "0        7741220.0                   eng                           0.00  \n",
       "1        9984670.0                   eng                           0.00  \n",
       "2         357022.0                   deu                          72.61  \n",
       "3         505370.0                   spa                          92.25  \n",
       "4         643801.0                   fra                          92.06  "
      ]
     },
     "execution_count": 51,
     "metadata": {},
     "output_type": "execute_result"
    }
   ],
   "source": [
    "df_countries_01.head()"
   ]
  },
  {
   "cell_type": "markdown",
   "id": "6485bbdf",
   "metadata": {
    "heading_collapsed": true,
    "hide_input": true
   },
   "source": [
    "### Data Dimension"
   ]
  },
  {
   "cell_type": "code",
   "execution_count": 52,
   "id": "54264335",
   "metadata": {
    "ExecuteTime": {
     "end_time": "2023-08-16T19:12:58.734183Z",
     "start_time": "2023-08-16T19:12:58.717729Z"
    },
    "hidden": true
   },
   "outputs": [
    {
     "data": {
      "text/plain": [
       "(10, 7)"
      ]
     },
     "execution_count": 52,
     "metadata": {},
     "output_type": "execute_result"
    }
   ],
   "source": [
    "df_countries_01.shape"
   ]
  },
  {
   "cell_type": "markdown",
   "id": "aa6f18cf",
   "metadata": {
    "heading_collapsed": true
   },
   "source": [
    "### Data Types"
   ]
  },
  {
   "cell_type": "code",
   "execution_count": 53,
   "id": "ef1e4fc6",
   "metadata": {
    "ExecuteTime": {
     "end_time": "2023-08-16T19:13:03.306503Z",
     "start_time": "2023-08-16T19:13:03.290500Z"
    },
    "hidden": true
   },
   "outputs": [
    {
     "name": "stdout",
     "output_type": "stream",
     "text": [
      "<class 'pandas.core.frame.DataFrame'>\n",
      "RangeIndex: 10 entries, 0 to 9\n",
      "Data columns (total 7 columns):\n",
      " #   Column                         Non-Null Count  Dtype  \n",
      "---  ------                         --------------  -----  \n",
      " 0   country_destination            10 non-null     object \n",
      " 1   lat_destination                10 non-null     float64\n",
      " 2   lng_destination                10 non-null     float64\n",
      " 3   distance_km                    10 non-null     float64\n",
      " 4   destination_km2                10 non-null     float64\n",
      " 5   destination_language           10 non-null     object \n",
      " 6   language_levenshtein_distance  10 non-null     float64\n",
      "dtypes: float64(5), object(2)\n",
      "memory usage: 688.0+ bytes\n"
     ]
    }
   ],
   "source": [
    "df_countries_01.info()"
   ]
  },
  {
   "cell_type": "markdown",
   "id": "24b05c21",
   "metadata": {},
   "source": [
    "### Change dtypes"
   ]
  },
  {
   "cell_type": "markdown",
   "id": "8e94f316",
   "metadata": {
    "ExecuteTime": {
     "end_time": "2023-08-16T19:16:46.663923Z",
     "start_time": "2023-08-16T19:16:46.623750Z"
    },
    "hidden": true
   },
   "source": [
    "No changes."
   ]
  },
  {
   "cell_type": "markdown",
   "id": "fb02e8ba",
   "metadata": {},
   "source": [
    "### Check duplicates"
   ]
  },
  {
   "cell_type": "code",
   "execution_count": 56,
   "id": "05671564",
   "metadata": {
    "ExecuteTime": {
     "end_time": "2023-08-16T19:15:40.273757Z",
     "start_time": "2023-08-16T19:15:40.262779Z"
    }
   },
   "outputs": [
    {
     "data": {
      "text/html": [
       "<div>\n",
       "<style scoped>\n",
       "    .dataframe tbody tr th:only-of-type {\n",
       "        vertical-align: middle;\n",
       "    }\n",
       "\n",
       "    .dataframe tbody tr th {\n",
       "        vertical-align: top;\n",
       "    }\n",
       "\n",
       "    .dataframe thead th {\n",
       "        text-align: right;\n",
       "    }\n",
       "</style>\n",
       "<table border=\"1\" class=\"dataframe\">\n",
       "  <thead>\n",
       "    <tr style=\"text-align: right;\">\n",
       "      <th></th>\n",
       "      <th>country_destination</th>\n",
       "      <th>lat_destination</th>\n",
       "      <th>lng_destination</th>\n",
       "      <th>distance_km</th>\n",
       "      <th>destination_km2</th>\n",
       "      <th>destination_language</th>\n",
       "      <th>language_levenshtein_distance</th>\n",
       "    </tr>\n",
       "  </thead>\n",
       "  <tbody>\n",
       "  </tbody>\n",
       "</table>\n",
       "</div>"
      ],
      "text/plain": [
       "Empty DataFrame\n",
       "Columns: [country_destination, lat_destination, lng_destination, distance_km, destination_km2, destination_language , language_levenshtein_distance]\n",
       "Index: []"
      ]
     },
     "execution_count": 56,
     "metadata": {},
     "output_type": "execute_result"
    }
   ],
   "source": [
    "df_countries_01[df_countries_01.duplicated()]"
   ]
  },
  {
   "cell_type": "markdown",
   "id": "61dc68dd",
   "metadata": {
    "hidden": true
   },
   "source": [
    "No duplicates."
   ]
  },
  {
   "cell_type": "markdown",
   "id": "48e2d216",
   "metadata": {
    "heading_collapsed": true
   },
   "source": [
    "## Population"
   ]
  },
  {
   "cell_type": "code",
   "execution_count": 57,
   "id": "8569442c",
   "metadata": {
    "ExecuteTime": {
     "end_time": "2023-08-16T19:14:24.368525Z",
     "start_time": "2023-08-16T19:14:24.360421Z"
    },
    "hidden": true
   },
   "outputs": [],
   "source": [
    "df_age_gender_01 = df_age_gender_raw.copy()"
   ]
  },
  {
   "cell_type": "markdown",
   "id": "e2d3af6e",
   "metadata": {
    "heading_collapsed": true,
    "hidden": true
   },
   "source": [
    "#### Data Dictionary"
   ]
  },
  {
   "cell_type": "markdown",
   "id": "79bcbe57",
   "metadata": {
    "hidden": true
   },
   "source": [
    "* <b>age_bucket</b>: age group\n",
    "* <b>country_destination</b>: country\n",
    "* <b>gender</b>: gender being analysed\n",
    "* <b>population_in_thousands</b>: population of that age bucket\n",
    "* <b>year</b>: year the data was collected"
   ]
  },
  {
   "cell_type": "code",
   "execution_count": 5,
   "id": "59c349ad",
   "metadata": {
    "ExecuteTime": {
     "end_time": "2023-05-12T19:27:32.440158Z",
     "start_time": "2023-05-12T19:27:32.411088Z"
    },
    "hidden": true
   },
   "outputs": [
    {
     "data": {
      "text/html": [
       "<div>\n",
       "<style scoped>\n",
       "    .dataframe tbody tr th:only-of-type {\n",
       "        vertical-align: middle;\n",
       "    }\n",
       "\n",
       "    .dataframe tbody tr th {\n",
       "        vertical-align: top;\n",
       "    }\n",
       "\n",
       "    .dataframe thead th {\n",
       "        text-align: right;\n",
       "    }\n",
       "</style>\n",
       "<table border=\"1\" class=\"dataframe\">\n",
       "  <thead>\n",
       "    <tr style=\"text-align: right;\">\n",
       "      <th></th>\n",
       "      <th>age_bucket</th>\n",
       "      <th>country_destination</th>\n",
       "      <th>gender</th>\n",
       "      <th>population_in_thousands</th>\n",
       "      <th>year</th>\n",
       "    </tr>\n",
       "  </thead>\n",
       "  <tbody>\n",
       "    <tr>\n",
       "      <th>0</th>\n",
       "      <td>100+</td>\n",
       "      <td>AU</td>\n",
       "      <td>male</td>\n",
       "      <td>1.0</td>\n",
       "      <td>2015.0</td>\n",
       "    </tr>\n",
       "    <tr>\n",
       "      <th>1</th>\n",
       "      <td>95-99</td>\n",
       "      <td>AU</td>\n",
       "      <td>male</td>\n",
       "      <td>9.0</td>\n",
       "      <td>2015.0</td>\n",
       "    </tr>\n",
       "    <tr>\n",
       "      <th>2</th>\n",
       "      <td>90-94</td>\n",
       "      <td>AU</td>\n",
       "      <td>male</td>\n",
       "      <td>47.0</td>\n",
       "      <td>2015.0</td>\n",
       "    </tr>\n",
       "    <tr>\n",
       "      <th>3</th>\n",
       "      <td>85-89</td>\n",
       "      <td>AU</td>\n",
       "      <td>male</td>\n",
       "      <td>118.0</td>\n",
       "      <td>2015.0</td>\n",
       "    </tr>\n",
       "    <tr>\n",
       "      <th>4</th>\n",
       "      <td>80-84</td>\n",
       "      <td>AU</td>\n",
       "      <td>male</td>\n",
       "      <td>199.0</td>\n",
       "      <td>2015.0</td>\n",
       "    </tr>\n",
       "  </tbody>\n",
       "</table>\n",
       "</div>"
      ],
      "text/plain": [
       "  age_bucket country_destination gender  population_in_thousands    year\n",
       "0       100+                  AU   male                      1.0  2015.0\n",
       "1      95-99                  AU   male                      9.0  2015.0\n",
       "2      90-94                  AU   male                     47.0  2015.0\n",
       "3      85-89                  AU   male                    118.0  2015.0\n",
       "4      80-84                  AU   male                    199.0  2015.0"
      ]
     },
     "execution_count": 5,
     "metadata": {},
     "output_type": "execute_result"
    }
   ],
   "source": [
    "df_age_gender_01.head()"
   ]
  },
  {
   "cell_type": "markdown",
   "id": "2fc3c531",
   "metadata": {
    "heading_collapsed": true,
    "hide_input": true
   },
   "source": [
    "### Data Dimension"
   ]
  },
  {
   "cell_type": "code",
   "execution_count": 20,
   "id": "1b8c035e",
   "metadata": {
    "ExecuteTime": {
     "end_time": "2023-08-16T18:50:43.861748Z",
     "start_time": "2023-08-16T18:50:43.842232Z"
    },
    "hidden": true
   },
   "outputs": [
    {
     "data": {
      "text/plain": [
       "(420, 5)"
      ]
     },
     "execution_count": 20,
     "metadata": {},
     "output_type": "execute_result"
    }
   ],
   "source": [
    "df_age_gender_01.shape"
   ]
  },
  {
   "cell_type": "markdown",
   "id": "dff2374e",
   "metadata": {
    "heading_collapsed": true
   },
   "source": [
    "### Data Types"
   ]
  },
  {
   "cell_type": "code",
   "execution_count": 58,
   "id": "0e5a3d7d",
   "metadata": {
    "ExecuteTime": {
     "end_time": "2023-08-16T19:14:36.716822Z",
     "start_time": "2023-08-16T19:14:36.700290Z"
    },
    "hidden": true
   },
   "outputs": [
    {
     "name": "stdout",
     "output_type": "stream",
     "text": [
      "<class 'pandas.core.frame.DataFrame'>\n",
      "RangeIndex: 420 entries, 0 to 419\n",
      "Data columns (total 5 columns):\n",
      " #   Column                   Non-Null Count  Dtype  \n",
      "---  ------                   --------------  -----  \n",
      " 0   age_bucket               420 non-null    object \n",
      " 1   country_destination      420 non-null    object \n",
      " 2   gender                   420 non-null    object \n",
      " 3   population_in_thousands  420 non-null    float64\n",
      " 4   year                     420 non-null    float64\n",
      "dtypes: float64(2), object(3)\n",
      "memory usage: 16.5+ KB\n"
     ]
    }
   ],
   "source": [
    "df_age_gender_01.info()"
   ]
  },
  {
   "cell_type": "markdown",
   "id": "b72231ed",
   "metadata": {},
   "source": [
    "### Change dtypes"
   ]
  },
  {
   "cell_type": "code",
   "execution_count": 60,
   "id": "e73de837",
   "metadata": {
    "ExecuteTime": {
     "end_time": "2023-08-16T19:15:25.469376Z",
     "start_time": "2023-08-16T19:15:25.458379Z"
    },
    "hidden": true
   },
   "outputs": [],
   "source": [
    "#year: float64 --> int64\n",
    "df_age_gender_01['year'] = df_age_gender_01['year'].astype('int')"
   ]
  },
  {
   "cell_type": "markdown",
   "id": "a425076f",
   "metadata": {},
   "source": [
    "### Check duplicates"
   ]
  },
  {
   "cell_type": "code",
   "execution_count": 61,
   "id": "ca5ba5b6",
   "metadata": {
    "ExecuteTime": {
     "end_time": "2023-08-16T19:15:40.273757Z",
     "start_time": "2023-08-16T19:15:40.262779Z"
    }
   },
   "outputs": [
    {
     "data": {
      "text/html": [
       "<div>\n",
       "<style scoped>\n",
       "    .dataframe tbody tr th:only-of-type {\n",
       "        vertical-align: middle;\n",
       "    }\n",
       "\n",
       "    .dataframe tbody tr th {\n",
       "        vertical-align: top;\n",
       "    }\n",
       "\n",
       "    .dataframe thead th {\n",
       "        text-align: right;\n",
       "    }\n",
       "</style>\n",
       "<table border=\"1\" class=\"dataframe\">\n",
       "  <thead>\n",
       "    <tr style=\"text-align: right;\">\n",
       "      <th></th>\n",
       "      <th>age_bucket</th>\n",
       "      <th>country_destination</th>\n",
       "      <th>gender</th>\n",
       "      <th>population_in_thousands</th>\n",
       "      <th>year</th>\n",
       "    </tr>\n",
       "  </thead>\n",
       "  <tbody>\n",
       "  </tbody>\n",
       "</table>\n",
       "</div>"
      ],
      "text/plain": [
       "Empty DataFrame\n",
       "Columns: [age_bucket, country_destination, gender, population_in_thousands, year]\n",
       "Index: []"
      ]
     },
     "execution_count": 61,
     "metadata": {},
     "output_type": "execute_result"
    }
   ],
   "source": [
    "df_age_gender_01[df_age_gender_01.duplicated()]"
   ]
  },
  {
   "cell_type": "markdown",
   "id": "41956a74",
   "metadata": {
    "hidden": true
   },
   "source": [
    "No duplicates."
   ]
  },
  {
   "cell_type": "markdown",
   "id": "e9c5c88e",
   "metadata": {},
   "source": [
    "## Sessions"
   ]
  },
  {
   "cell_type": "code",
   "execution_count": 62,
   "id": "0794735c",
   "metadata": {
    "ExecuteTime": {
     "end_time": "2023-08-16T19:16:15.090576Z",
     "start_time": "2023-08-16T19:16:14.475410Z"
    }
   },
   "outputs": [],
   "source": [
    "df_sessions_01 = df_sessions_raw.copy()"
   ]
  },
  {
   "cell_type": "markdown",
   "id": "1d77d80a",
   "metadata": {
    "heading_collapsed": true
   },
   "source": [
    "#### Data Dictionary"
   ]
  },
  {
   "cell_type": "markdown",
   "id": "3fb4beca",
   "metadata": {
    "hidden": true
   },
   "source": [
    "* <b>user_id</b>\n",
    "* <b>action</b>\n",
    "* <b>action_type</b>\n",
    "* <b>action_detail</b>\n",
    "* <b>device_type</b>\n",
    "* <b>secs_elapsed</b>"
   ]
  },
  {
   "cell_type": "code",
   "execution_count": 12,
   "id": "b05dd1d3",
   "metadata": {
    "ExecuteTime": {
     "end_time": "2023-08-16T18:43:06.198157Z",
     "start_time": "2023-08-16T18:43:06.181059Z"
    },
    "hidden": true
   },
   "outputs": [
    {
     "data": {
      "text/html": [
       "<div>\n",
       "<style scoped>\n",
       "    .dataframe tbody tr th:only-of-type {\n",
       "        vertical-align: middle;\n",
       "    }\n",
       "\n",
       "    .dataframe tbody tr th {\n",
       "        vertical-align: top;\n",
       "    }\n",
       "\n",
       "    .dataframe thead th {\n",
       "        text-align: right;\n",
       "    }\n",
       "</style>\n",
       "<table border=\"1\" class=\"dataframe\">\n",
       "  <thead>\n",
       "    <tr style=\"text-align: right;\">\n",
       "      <th></th>\n",
       "      <th>user_id</th>\n",
       "      <th>action</th>\n",
       "      <th>action_type</th>\n",
       "      <th>action_detail</th>\n",
       "      <th>device_type</th>\n",
       "      <th>secs_elapsed</th>\n",
       "    </tr>\n",
       "  </thead>\n",
       "  <tbody>\n",
       "    <tr>\n",
       "      <th>0</th>\n",
       "      <td>d1mm9tcy42</td>\n",
       "      <td>lookup</td>\n",
       "      <td>NaN</td>\n",
       "      <td>NaN</td>\n",
       "      <td>Windows Desktop</td>\n",
       "      <td>319.0</td>\n",
       "    </tr>\n",
       "    <tr>\n",
       "      <th>1</th>\n",
       "      <td>d1mm9tcy42</td>\n",
       "      <td>search_results</td>\n",
       "      <td>click</td>\n",
       "      <td>view_search_results</td>\n",
       "      <td>Windows Desktop</td>\n",
       "      <td>67753.0</td>\n",
       "    </tr>\n",
       "    <tr>\n",
       "      <th>2</th>\n",
       "      <td>d1mm9tcy42</td>\n",
       "      <td>lookup</td>\n",
       "      <td>NaN</td>\n",
       "      <td>NaN</td>\n",
       "      <td>Windows Desktop</td>\n",
       "      <td>301.0</td>\n",
       "    </tr>\n",
       "    <tr>\n",
       "      <th>3</th>\n",
       "      <td>d1mm9tcy42</td>\n",
       "      <td>search_results</td>\n",
       "      <td>click</td>\n",
       "      <td>view_search_results</td>\n",
       "      <td>Windows Desktop</td>\n",
       "      <td>22141.0</td>\n",
       "    </tr>\n",
       "    <tr>\n",
       "      <th>4</th>\n",
       "      <td>d1mm9tcy42</td>\n",
       "      <td>lookup</td>\n",
       "      <td>NaN</td>\n",
       "      <td>NaN</td>\n",
       "      <td>Windows Desktop</td>\n",
       "      <td>435.0</td>\n",
       "    </tr>\n",
       "  </tbody>\n",
       "</table>\n",
       "</div>"
      ],
      "text/plain": [
       "      user_id          action action_type        action_detail  \\\n",
       "0  d1mm9tcy42          lookup         NaN                  NaN   \n",
       "1  d1mm9tcy42  search_results       click  view_search_results   \n",
       "2  d1mm9tcy42          lookup         NaN                  NaN   \n",
       "3  d1mm9tcy42  search_results       click  view_search_results   \n",
       "4  d1mm9tcy42          lookup         NaN                  NaN   \n",
       "\n",
       "       device_type  secs_elapsed  \n",
       "0  Windows Desktop         319.0  \n",
       "1  Windows Desktop       67753.0  \n",
       "2  Windows Desktop         301.0  \n",
       "3  Windows Desktop       22141.0  \n",
       "4  Windows Desktop         435.0  "
      ]
     },
     "execution_count": 12,
     "metadata": {},
     "output_type": "execute_result"
    }
   ],
   "source": [
    "df_sessions_01.head()"
   ]
  },
  {
   "cell_type": "markdown",
   "id": "eed7484a",
   "metadata": {
    "heading_collapsed": true,
    "hide_input": true
   },
   "source": [
    "### Data Dimension"
   ]
  },
  {
   "cell_type": "code",
   "execution_count": null,
   "id": "c05b9f58",
   "metadata": {
    "hidden": true
   },
   "outputs": [],
   "source": [
    "df_sessions_01.head()"
   ]
  },
  {
   "cell_type": "markdown",
   "id": "5ca1610f",
   "metadata": {
    "heading_collapsed": true
   },
   "source": [
    "### Data Types"
   ]
  },
  {
   "cell_type": "code",
   "execution_count": 18,
   "id": "45aa66df",
   "metadata": {
    "ExecuteTime": {
     "end_time": "2023-08-16T18:48:21.661595Z",
     "start_time": "2023-08-16T18:48:21.639115Z"
    },
    "hidden": true
   },
   "outputs": [
    {
     "name": "stdout",
     "output_type": "stream",
     "text": [
      "<class 'pandas.core.frame.DataFrame'>\n",
      "RangeIndex: 10567737 entries, 0 to 10567736\n",
      "Data columns (total 6 columns):\n",
      " #   Column         Dtype  \n",
      "---  ------         -----  \n",
      " 0   user_id        object \n",
      " 1   action         object \n",
      " 2   action_type    object \n",
      " 3   action_detail  object \n",
      " 4   device_type    object \n",
      " 5   secs_elapsed   float64\n",
      "dtypes: float64(1), object(5)\n",
      "memory usage: 483.8+ MB\n"
     ]
    }
   ],
   "source": [
    "df_sessions_01.info()"
   ]
  },
  {
   "cell_type": "markdown",
   "id": "30fe016a",
   "metadata": {
    "heading_collapsed": true
   },
   "source": [
    "### Missing"
   ]
  },
  {
   "cell_type": "code",
   "execution_count": 15,
   "id": "3c4fd4fc",
   "metadata": {
    "ExecuteTime": {
     "end_time": "2023-08-16T18:43:38.906238Z",
     "start_time": "2023-08-16T18:43:32.997266Z"
    },
    "hidden": true
   },
   "outputs": [
    {
     "data": {
      "text/plain": [
       "user_id            34496\n",
       "action             79626\n",
       "action_type      1126204\n",
       "action_detail    1126204\n",
       "device_type            0\n",
       "secs_elapsed      136031\n",
       "dtype: int64"
      ]
     },
     "execution_count": 15,
     "metadata": {},
     "output_type": "execute_result"
    }
   ],
   "source": [
    "df_sessions_01.isnull().sum()"
   ]
  },
  {
   "cell_type": "markdown",
   "id": "8bc763c9",
   "metadata": {},
   "source": [
    "### Change dtypes"
   ]
  },
  {
   "cell_type": "markdown",
   "id": "9ec47314",
   "metadata": {},
   "source": [
    "No changes."
   ]
  },
  {
   "cell_type": "markdown",
   "id": "605401e4",
   "metadata": {},
   "source": [
    "### Check duplicates"
   ]
  },
  {
   "cell_type": "code",
   "execution_count": 68,
   "id": "c216798e",
   "metadata": {
    "ExecuteTime": {
     "end_time": "2023-08-16T19:17:38.201595Z",
     "start_time": "2023-08-16T19:17:28.062726Z"
    }
   },
   "outputs": [
    {
     "data": {
      "text/html": [
       "<div>\n",
       "<style scoped>\n",
       "    .dataframe tbody tr th:only-of-type {\n",
       "        vertical-align: middle;\n",
       "    }\n",
       "\n",
       "    .dataframe tbody tr th {\n",
       "        vertical-align: top;\n",
       "    }\n",
       "\n",
       "    .dataframe thead th {\n",
       "        text-align: right;\n",
       "    }\n",
       "</style>\n",
       "<table border=\"1\" class=\"dataframe\">\n",
       "  <thead>\n",
       "    <tr style=\"text-align: right;\">\n",
       "      <th></th>\n",
       "      <th>user_id</th>\n",
       "      <th>action</th>\n",
       "      <th>action_type</th>\n",
       "      <th>action_detail</th>\n",
       "      <th>device_type</th>\n",
       "      <th>secs_elapsed</th>\n",
       "    </tr>\n",
       "  </thead>\n",
       "  <tbody>\n",
       "    <tr>\n",
       "      <th>430</th>\n",
       "      <td>qtw88d9pbl</td>\n",
       "      <td>show</td>\n",
       "      <td>NaN</td>\n",
       "      <td>NaN</td>\n",
       "      <td>Mac Desktop</td>\n",
       "      <td>180.0</td>\n",
       "    </tr>\n",
       "    <tr>\n",
       "      <th>605</th>\n",
       "      <td>qtw88d9pbl</td>\n",
       "      <td>show</td>\n",
       "      <td>NaN</td>\n",
       "      <td>NaN</td>\n",
       "      <td>Mac Desktop</td>\n",
       "      <td>149.0</td>\n",
       "    </tr>\n",
       "    <tr>\n",
       "      <th>645</th>\n",
       "      <td>qtw88d9pbl</td>\n",
       "      <td>similar_listings</td>\n",
       "      <td>data</td>\n",
       "      <td>similar_listings</td>\n",
       "      <td>Mac Desktop</td>\n",
       "      <td>193.0</td>\n",
       "    </tr>\n",
       "    <tr>\n",
       "      <th>659</th>\n",
       "      <td>qtw88d9pbl</td>\n",
       "      <td>show</td>\n",
       "      <td>NaN</td>\n",
       "      <td>NaN</td>\n",
       "      <td>Mac Desktop</td>\n",
       "      <td>94.0</td>\n",
       "    </tr>\n",
       "    <tr>\n",
       "      <th>709</th>\n",
       "      <td>qtw88d9pbl</td>\n",
       "      <td>show</td>\n",
       "      <td>view</td>\n",
       "      <td>p3</td>\n",
       "      <td>Mac Desktop</td>\n",
       "      <td>2333.0</td>\n",
       "    </tr>\n",
       "    <tr>\n",
       "      <th>...</th>\n",
       "      <td>...</td>\n",
       "      <td>...</td>\n",
       "      <td>...</td>\n",
       "      <td>...</td>\n",
       "      <td>...</td>\n",
       "      <td>...</td>\n",
       "    </tr>\n",
       "    <tr>\n",
       "      <th>10566578</th>\n",
       "      <td>ozb2z0km6l</td>\n",
       "      <td>show</td>\n",
       "      <td>view</td>\n",
       "      <td>p3</td>\n",
       "      <td>Android Phone</td>\n",
       "      <td>753.0</td>\n",
       "    </tr>\n",
       "    <tr>\n",
       "      <th>10566603</th>\n",
       "      <td>ozb2z0km6l</td>\n",
       "      <td>show</td>\n",
       "      <td>view</td>\n",
       "      <td>p3</td>\n",
       "      <td>Android Phone</td>\n",
       "      <td>730.0</td>\n",
       "    </tr>\n",
       "    <tr>\n",
       "      <th>10566867</th>\n",
       "      <td>gpijioh4eh</td>\n",
       "      <td>similar_listings</td>\n",
       "      <td>data</td>\n",
       "      <td>similar_listings</td>\n",
       "      <td>Mac Desktop</td>\n",
       "      <td>171.0</td>\n",
       "    </tr>\n",
       "    <tr>\n",
       "      <th>10567058</th>\n",
       "      <td>3ptlvdxss9</td>\n",
       "      <td>personalize</td>\n",
       "      <td>data</td>\n",
       "      <td>wishlist_content_update</td>\n",
       "      <td>Windows Desktop</td>\n",
       "      <td>2840.0</td>\n",
       "    </tr>\n",
       "    <tr>\n",
       "      <th>10567705</th>\n",
       "      <td>fa6260ziny</td>\n",
       "      <td>personalize</td>\n",
       "      <td>data</td>\n",
       "      <td>wishlist_content_update</td>\n",
       "      <td>Windows Desktop</td>\n",
       "      <td>69.0</td>\n",
       "    </tr>\n",
       "  </tbody>\n",
       "</table>\n",
       "<p>252536 rows × 6 columns</p>\n",
       "</div>"
      ],
      "text/plain": [
       "             user_id            action action_type            action_detail  \\\n",
       "430       qtw88d9pbl              show         NaN                      NaN   \n",
       "605       qtw88d9pbl              show         NaN                      NaN   \n",
       "645       qtw88d9pbl  similar_listings        data         similar_listings   \n",
       "659       qtw88d9pbl              show         NaN                      NaN   \n",
       "709       qtw88d9pbl              show        view                       p3   \n",
       "...              ...               ...         ...                      ...   \n",
       "10566578  ozb2z0km6l              show        view                       p3   \n",
       "10566603  ozb2z0km6l              show        view                       p3   \n",
       "10566867  gpijioh4eh  similar_listings        data         similar_listings   \n",
       "10567058  3ptlvdxss9       personalize        data  wishlist_content_update   \n",
       "10567705  fa6260ziny       personalize        data  wishlist_content_update   \n",
       "\n",
       "              device_type  secs_elapsed  \n",
       "430           Mac Desktop         180.0  \n",
       "605           Mac Desktop         149.0  \n",
       "645           Mac Desktop         193.0  \n",
       "659           Mac Desktop          94.0  \n",
       "709           Mac Desktop        2333.0  \n",
       "...                   ...           ...  \n",
       "10566578    Android Phone         753.0  \n",
       "10566603    Android Phone         730.0  \n",
       "10566867      Mac Desktop         171.0  \n",
       "10567058  Windows Desktop        2840.0  \n",
       "10567705  Windows Desktop          69.0  \n",
       "\n",
       "[252536 rows x 6 columns]"
      ]
     },
     "execution_count": 68,
     "metadata": {},
     "output_type": "execute_result"
    }
   ],
   "source": [
    "df_sessions_01[df_sessions_01.duplicated()]"
   ]
  },
  {
   "cell_type": "markdown",
   "id": "010b7603",
   "metadata": {
    "ExecuteTime": {
     "end_time": "2023-08-16T19:15:40.273757Z",
     "start_time": "2023-08-16T19:15:40.262779Z"
    }
   },
   "source": [
    "É razoável que tenhamos linhas duplicadas nessa tabela, uma vez que um mesmo usuário pode ter realizado a mesma ação, no mesmo device. Agora se tiver alguma linha que o TEMPO da sessão também seja igual aí seria estranho."
   ]
  },
  {
   "cell_type": "code",
   "execution_count": 74,
   "id": "3a4bdd89",
   "metadata": {
    "ExecuteTime": {
     "end_time": "2023-08-16T19:22:27.073143Z",
     "start_time": "2023-08-16T19:22:18.641164Z"
    }
   },
   "outputs": [
    {
     "data": {
      "text/html": [
       "<div>\n",
       "<style scoped>\n",
       "    .dataframe tbody tr th:only-of-type {\n",
       "        vertical-align: middle;\n",
       "    }\n",
       "\n",
       "    .dataframe tbody tr th {\n",
       "        vertical-align: top;\n",
       "    }\n",
       "\n",
       "    .dataframe thead th {\n",
       "        text-align: right;\n",
       "    }\n",
       "</style>\n",
       "<table border=\"1\" class=\"dataframe\">\n",
       "  <thead>\n",
       "    <tr style=\"text-align: right;\">\n",
       "      <th></th>\n",
       "      <th>user_id</th>\n",
       "      <th>action</th>\n",
       "      <th>action_type</th>\n",
       "      <th>action_detail</th>\n",
       "      <th>device_type</th>\n",
       "      <th>secs_elapsed</th>\n",
       "    </tr>\n",
       "  </thead>\n",
       "  <tbody>\n",
       "    <tr>\n",
       "      <th>420</th>\n",
       "      <td>qtw88d9pbl</td>\n",
       "      <td>show</td>\n",
       "      <td>NaN</td>\n",
       "      <td>NaN</td>\n",
       "      <td>Mac Desktop</td>\n",
       "      <td>180.0</td>\n",
       "    </tr>\n",
       "    <tr>\n",
       "      <th>430</th>\n",
       "      <td>qtw88d9pbl</td>\n",
       "      <td>show</td>\n",
       "      <td>NaN</td>\n",
       "      <td>NaN</td>\n",
       "      <td>Mac Desktop</td>\n",
       "      <td>180.0</td>\n",
       "    </tr>\n",
       "    <tr>\n",
       "      <th>520</th>\n",
       "      <td>qtw88d9pbl</td>\n",
       "      <td>show</td>\n",
       "      <td>NaN</td>\n",
       "      <td>NaN</td>\n",
       "      <td>Mac Desktop</td>\n",
       "      <td>94.0</td>\n",
       "    </tr>\n",
       "    <tr>\n",
       "      <th>522</th>\n",
       "      <td>qtw88d9pbl</td>\n",
       "      <td>show</td>\n",
       "      <td>view</td>\n",
       "      <td>p3</td>\n",
       "      <td>Mac Desktop</td>\n",
       "      <td>2333.0</td>\n",
       "    </tr>\n",
       "    <tr>\n",
       "      <th>585</th>\n",
       "      <td>qtw88d9pbl</td>\n",
       "      <td>similar_listings</td>\n",
       "      <td>data</td>\n",
       "      <td>similar_listings</td>\n",
       "      <td>Mac Desktop</td>\n",
       "      <td>193.0</td>\n",
       "    </tr>\n",
       "    <tr>\n",
       "      <th>...</th>\n",
       "      <td>...</td>\n",
       "      <td>...</td>\n",
       "      <td>...</td>\n",
       "      <td>...</td>\n",
       "      <td>...</td>\n",
       "      <td>...</td>\n",
       "    </tr>\n",
       "    <tr>\n",
       "      <th>10566867</th>\n",
       "      <td>gpijioh4eh</td>\n",
       "      <td>similar_listings</td>\n",
       "      <td>data</td>\n",
       "      <td>similar_listings</td>\n",
       "      <td>Mac Desktop</td>\n",
       "      <td>171.0</td>\n",
       "    </tr>\n",
       "    <tr>\n",
       "      <th>10567053</th>\n",
       "      <td>3ptlvdxss9</td>\n",
       "      <td>personalize</td>\n",
       "      <td>data</td>\n",
       "      <td>wishlist_content_update</td>\n",
       "      <td>Windows Desktop</td>\n",
       "      <td>2840.0</td>\n",
       "    </tr>\n",
       "    <tr>\n",
       "      <th>10567058</th>\n",
       "      <td>3ptlvdxss9</td>\n",
       "      <td>personalize</td>\n",
       "      <td>data</td>\n",
       "      <td>wishlist_content_update</td>\n",
       "      <td>Windows Desktop</td>\n",
       "      <td>2840.0</td>\n",
       "    </tr>\n",
       "    <tr>\n",
       "      <th>10567675</th>\n",
       "      <td>fa6260ziny</td>\n",
       "      <td>personalize</td>\n",
       "      <td>data</td>\n",
       "      <td>wishlist_content_update</td>\n",
       "      <td>Windows Desktop</td>\n",
       "      <td>69.0</td>\n",
       "    </tr>\n",
       "    <tr>\n",
       "      <th>10567705</th>\n",
       "      <td>fa6260ziny</td>\n",
       "      <td>personalize</td>\n",
       "      <td>data</td>\n",
       "      <td>wishlist_content_update</td>\n",
       "      <td>Windows Desktop</td>\n",
       "      <td>69.0</td>\n",
       "    </tr>\n",
       "  </tbody>\n",
       "</table>\n",
       "<p>436532 rows × 6 columns</p>\n",
       "</div>"
      ],
      "text/plain": [
       "             user_id            action action_type            action_detail  \\\n",
       "420       qtw88d9pbl              show         NaN                      NaN   \n",
       "430       qtw88d9pbl              show         NaN                      NaN   \n",
       "520       qtw88d9pbl              show         NaN                      NaN   \n",
       "522       qtw88d9pbl              show        view                       p3   \n",
       "585       qtw88d9pbl  similar_listings        data         similar_listings   \n",
       "...              ...               ...         ...                      ...   \n",
       "10566867  gpijioh4eh  similar_listings        data         similar_listings   \n",
       "10567053  3ptlvdxss9       personalize        data  wishlist_content_update   \n",
       "10567058  3ptlvdxss9       personalize        data  wishlist_content_update   \n",
       "10567675  fa6260ziny       personalize        data  wishlist_content_update   \n",
       "10567705  fa6260ziny       personalize        data  wishlist_content_update   \n",
       "\n",
       "              device_type  secs_elapsed  \n",
       "420           Mac Desktop         180.0  \n",
       "430           Mac Desktop         180.0  \n",
       "520           Mac Desktop          94.0  \n",
       "522           Mac Desktop        2333.0  \n",
       "585           Mac Desktop         193.0  \n",
       "...                   ...           ...  \n",
       "10566867      Mac Desktop         171.0  \n",
       "10567053  Windows Desktop        2840.0  \n",
       "10567058  Windows Desktop        2840.0  \n",
       "10567675  Windows Desktop          69.0  \n",
       "10567705  Windows Desktop          69.0  \n",
       "\n",
       "[436532 rows x 6 columns]"
      ]
     },
     "execution_count": 74,
     "metadata": {},
     "output_type": "execute_result"
    }
   ],
   "source": [
    "df_sessions_01[df_sessions_01.duplicated(subset=None, keep=False)]"
   ]
  },
  {
   "cell_type": "markdown",
   "id": "7507e437",
   "metadata": {},
   "source": [
    "# 4.0 Data Cleaning"
   ]
  },
  {
   "cell_type": "markdown",
   "id": "8ca86595",
   "metadata": {
    "ExecuteTime": {
     "end_time": "2023-05-10T13:32:43.176121Z",
     "start_time": "2023-05-10T13:32:43.172115Z"
    }
   },
   "source": [
    "# 5.0 Feature Engineering"
   ]
  },
  {
   "cell_type": "markdown",
   "id": "53bb0e43",
   "metadata": {},
   "source": [
    "# 6.0 EDA"
   ]
  },
  {
   "cell_type": "markdown",
   "id": "f6c7e8b2",
   "metadata": {},
   "source": [
    "# 7.0 Data Preparation"
   ]
  },
  {
   "cell_type": "markdown",
   "id": "1b404caf",
   "metadata": {},
   "source": [
    "# 8.0 Feature Selection"
   ]
  },
  {
   "cell_type": "markdown",
   "id": "dddaaed0",
   "metadata": {},
   "source": [
    "# 9.0 Modelling"
   ]
  },
  {
   "cell_type": "markdown",
   "id": "1dc4be02",
   "metadata": {},
   "source": [
    "# 10.0 Hyperparameter Fine Tuning"
   ]
  },
  {
   "cell_type": "markdown",
   "id": "7521d5ae",
   "metadata": {},
   "source": [
    "# 11.0 Final Metrics"
   ]
  },
  {
   "cell_type": "markdown",
   "id": "e1b8f335",
   "metadata": {},
   "source": [
    "# 12.0 Business Performance"
   ]
  }
 ],
 "metadata": {
  "kernelspec": {
   "display_name": "Python 3 (ipykernel)",
   "language": "python",
   "name": "python3"
  },
  "language_info": {
   "codemirror_mode": {
    "name": "ipython",
    "version": 3
   },
   "file_extension": ".py",
   "mimetype": "text/x-python",
   "name": "python",
   "nbconvert_exporter": "python",
   "pygments_lexer": "ipython3",
   "version": "3.9.12"
  }
 },
 "nbformat": 4,
 "nbformat_minor": 5
}
