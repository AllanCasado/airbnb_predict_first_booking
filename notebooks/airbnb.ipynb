{
 "cells": [
  {
   "cell_type": "markdown",
   "id": "9e48df5b",
   "metadata": {},
   "source": [
    "# 0.0 Imports"
   ]
  },
  {
   "cell_type": "code",
   "execution_count": 197,
   "id": "5e2b650c",
   "metadata": {
    "ExecuteTime": {
     "end_time": "2023-09-18T18:50:42.428700Z",
     "start_time": "2023-09-18T18:50:42.418711Z"
    }
   },
   "outputs": [],
   "source": [
    "import pandas            as pd\n",
    "import numpy             as np\n",
    "import matplotlib.pyplot as plt\n",
    "import seaborn           as sns\n",
    "import datetime"
   ]
  },
  {
   "cell_type": "markdown",
   "id": "ae70b5b2",
   "metadata": {},
   "source": [
    "# 1.0 Helper Functions"
   ]
  },
  {
   "cell_type": "markdown",
   "id": "1f990dfb",
   "metadata": {
    "heading_collapsed": true
   },
   "source": [
    "# 2.0 Data Collection"
   ]
  },
  {
   "cell_type": "markdown",
   "id": "32e26ca3",
   "metadata": {
    "hidden": true
   },
   "source": [
    "Data from Kaggle Airbnb competition: https://www.kaggle.com/competitions/airbnb-recruiting-new-user-bookings/data"
   ]
  },
  {
   "cell_type": "code",
   "execution_count": 134,
   "id": "3733c4e4",
   "metadata": {
    "ExecuteTime": {
     "end_time": "2023-09-18T17:32:05.556656Z",
     "start_time": "2023-09-18T17:31:56.908177Z"
    },
    "hidden": true
   },
   "outputs": [],
   "source": [
    "df_users_raw = pd.read_csv(\"../data/train_users_2.csv\")\n",
    "df_countries_raw = pd.read_csv(\"../data/countries.csv\")\n",
    "df_age_gender_raw = pd.read_csv(\"../data/age_gender_bkts.csv\")\n",
    "df_sessions_raw = pd.read_csv(\"../data/sessions.csv\", low_memory=True)"
   ]
  },
  {
   "cell_type": "markdown",
   "id": "91f56268",
   "metadata": {
    "heading_collapsed": true
   },
   "source": [
    "# 3.0 Data description"
   ]
  },
  {
   "cell_type": "markdown",
   "id": "97047122",
   "metadata": {
    "heading_collapsed": true,
    "hidden": true
   },
   "source": [
    "## Users "
   ]
  },
  {
   "cell_type": "code",
   "execution_count": 135,
   "id": "97bc33c4",
   "metadata": {
    "ExecuteTime": {
     "end_time": "2023-09-18T17:32:05.591512Z",
     "start_time": "2023-09-18T17:32:05.557164Z"
    },
    "hidden": true
   },
   "outputs": [],
   "source": [
    "df_users_01 = df_users_raw.copy()"
   ]
  },
  {
   "cell_type": "markdown",
   "id": "c8972557",
   "metadata": {
    "hidden": true
   },
   "source": [
    "#### Data Dictionary"
   ]
  },
  {
   "cell_type": "markdown",
   "id": "afc25a1d",
   "metadata": {
    "hidden": true
   },
   "source": [
    "* <b>id</b>: user id\n",
    "* <b>date_account_created</b>: the date of account creation\n",
    "* <b>timestamp_first_active</b>: timestamp of the first activity, note that it can be earlier than date_account_created or date_first_booking because a user can search before signing up\n",
    "* <b>date_first_booking</b>: date of first booking\n",
    "* <b>gender</b>: user gender\n",
    "* <b>age</b>: user age\n",
    "* <b>signup_method</b>: what method user used to create the account (basic login and password, using google or facebook)\n",
    "* <b>signup_flow</b>: the page a user came to signup up from\n",
    "* <b>language</b>: international language preference\n",
    "* <b>affiliate_channel</b>: column tells us what type of paid marketing was used. For example, if Airbnb used search engines to attract new users, it would fall under the SEM (Search Engine Marketing) category. Similarly, if Airbnb sent emails to attract new users, it would fall under the email marketing category.\n",
    "* <b>affiliate_provider</b>:  tells us which company or platform was used for the paid marketing campaign.\n",
    "* <b>first_affiliate_tracked</b>: whats the first marketing the user interacted with before the signing up\n",
    "* <b>signup_app</b>: contains the name of the application or website that the user used to create their Airbnb account, such as \"Web\", \"iOS\", \"Android\", or \"Moweb\"\n",
    "* <b>first_device_type</b>: type of device used by the user to sign up for their Airbnb account, such as a desktop computer, smartphone, tablet, or other type of device.\n",
    "* <b>first_browser</b>:  contains the name of the web browser that the user used to sign up for their Airbnb account, such as Google Chrome, Mozilla Firefox, Safari, Internet Explorer, or others.\n",
    "* <b>country_destination</b>: this is the target variable you are to predict"
   ]
  },
  {
   "cell_type": "code",
   "execution_count": 136,
   "id": "62798c86",
   "metadata": {
    "ExecuteTime": {
     "end_time": "2023-09-18T17:32:05.606996Z",
     "start_time": "2023-09-18T17:32:05.594514Z"
    },
    "hidden": true
   },
   "outputs": [
    {
     "data": {
      "text/html": [
       "<div>\n",
       "<style scoped>\n",
       "    .dataframe tbody tr th:only-of-type {\n",
       "        vertical-align: middle;\n",
       "    }\n",
       "\n",
       "    .dataframe tbody tr th {\n",
       "        vertical-align: top;\n",
       "    }\n",
       "\n",
       "    .dataframe thead th {\n",
       "        text-align: right;\n",
       "    }\n",
       "</style>\n",
       "<table border=\"1\" class=\"dataframe\">\n",
       "  <thead>\n",
       "    <tr style=\"text-align: right;\">\n",
       "      <th></th>\n",
       "      <th>id</th>\n",
       "      <th>date_account_created</th>\n",
       "      <th>timestamp_first_active</th>\n",
       "      <th>date_first_booking</th>\n",
       "      <th>gender</th>\n",
       "      <th>age</th>\n",
       "      <th>signup_method</th>\n",
       "      <th>signup_flow</th>\n",
       "      <th>language</th>\n",
       "      <th>affiliate_channel</th>\n",
       "      <th>affiliate_provider</th>\n",
       "      <th>first_affiliate_tracked</th>\n",
       "      <th>signup_app</th>\n",
       "      <th>first_device_type</th>\n",
       "      <th>first_browser</th>\n",
       "      <th>country_destination</th>\n",
       "    </tr>\n",
       "  </thead>\n",
       "  <tbody>\n",
       "    <tr>\n",
       "      <th>0</th>\n",
       "      <td>gxn3p5htnn</td>\n",
       "      <td>2010-06-28</td>\n",
       "      <td>20090319043255</td>\n",
       "      <td>NaN</td>\n",
       "      <td>-unknown-</td>\n",
       "      <td>NaN</td>\n",
       "      <td>facebook</td>\n",
       "      <td>0</td>\n",
       "      <td>en</td>\n",
       "      <td>direct</td>\n",
       "      <td>direct</td>\n",
       "      <td>untracked</td>\n",
       "      <td>Web</td>\n",
       "      <td>Mac Desktop</td>\n",
       "      <td>Chrome</td>\n",
       "      <td>NDF</td>\n",
       "    </tr>\n",
       "    <tr>\n",
       "      <th>1</th>\n",
       "      <td>820tgsjxq7</td>\n",
       "      <td>2011-05-25</td>\n",
       "      <td>20090523174809</td>\n",
       "      <td>NaN</td>\n",
       "      <td>MALE</td>\n",
       "      <td>38.0</td>\n",
       "      <td>facebook</td>\n",
       "      <td>0</td>\n",
       "      <td>en</td>\n",
       "      <td>seo</td>\n",
       "      <td>google</td>\n",
       "      <td>untracked</td>\n",
       "      <td>Web</td>\n",
       "      <td>Mac Desktop</td>\n",
       "      <td>Chrome</td>\n",
       "      <td>NDF</td>\n",
       "    </tr>\n",
       "    <tr>\n",
       "      <th>2</th>\n",
       "      <td>4ft3gnwmtx</td>\n",
       "      <td>2010-09-28</td>\n",
       "      <td>20090609231247</td>\n",
       "      <td>2010-08-02</td>\n",
       "      <td>FEMALE</td>\n",
       "      <td>56.0</td>\n",
       "      <td>basic</td>\n",
       "      <td>3</td>\n",
       "      <td>en</td>\n",
       "      <td>direct</td>\n",
       "      <td>direct</td>\n",
       "      <td>untracked</td>\n",
       "      <td>Web</td>\n",
       "      <td>Windows Desktop</td>\n",
       "      <td>IE</td>\n",
       "      <td>US</td>\n",
       "    </tr>\n",
       "    <tr>\n",
       "      <th>3</th>\n",
       "      <td>bjjt8pjhuk</td>\n",
       "      <td>2011-12-05</td>\n",
       "      <td>20091031060129</td>\n",
       "      <td>2012-09-08</td>\n",
       "      <td>FEMALE</td>\n",
       "      <td>42.0</td>\n",
       "      <td>facebook</td>\n",
       "      <td>0</td>\n",
       "      <td>en</td>\n",
       "      <td>direct</td>\n",
       "      <td>direct</td>\n",
       "      <td>untracked</td>\n",
       "      <td>Web</td>\n",
       "      <td>Mac Desktop</td>\n",
       "      <td>Firefox</td>\n",
       "      <td>other</td>\n",
       "    </tr>\n",
       "    <tr>\n",
       "      <th>4</th>\n",
       "      <td>87mebub9p4</td>\n",
       "      <td>2010-09-14</td>\n",
       "      <td>20091208061105</td>\n",
       "      <td>2010-02-18</td>\n",
       "      <td>-unknown-</td>\n",
       "      <td>41.0</td>\n",
       "      <td>basic</td>\n",
       "      <td>0</td>\n",
       "      <td>en</td>\n",
       "      <td>direct</td>\n",
       "      <td>direct</td>\n",
       "      <td>untracked</td>\n",
       "      <td>Web</td>\n",
       "      <td>Mac Desktop</td>\n",
       "      <td>Chrome</td>\n",
       "      <td>US</td>\n",
       "    </tr>\n",
       "  </tbody>\n",
       "</table>\n",
       "</div>"
      ],
      "text/plain": [
       "           id date_account_created  timestamp_first_active date_first_booking  \\\n",
       "0  gxn3p5htnn           2010-06-28          20090319043255                NaN   \n",
       "1  820tgsjxq7           2011-05-25          20090523174809                NaN   \n",
       "2  4ft3gnwmtx           2010-09-28          20090609231247         2010-08-02   \n",
       "3  bjjt8pjhuk           2011-12-05          20091031060129         2012-09-08   \n",
       "4  87mebub9p4           2010-09-14          20091208061105         2010-02-18   \n",
       "\n",
       "      gender   age signup_method  signup_flow language affiliate_channel  \\\n",
       "0  -unknown-   NaN      facebook            0       en            direct   \n",
       "1       MALE  38.0      facebook            0       en               seo   \n",
       "2     FEMALE  56.0         basic            3       en            direct   \n",
       "3     FEMALE  42.0      facebook            0       en            direct   \n",
       "4  -unknown-  41.0         basic            0       en            direct   \n",
       "\n",
       "  affiliate_provider first_affiliate_tracked signup_app first_device_type  \\\n",
       "0             direct               untracked        Web       Mac Desktop   \n",
       "1             google               untracked        Web       Mac Desktop   \n",
       "2             direct               untracked        Web   Windows Desktop   \n",
       "3             direct               untracked        Web       Mac Desktop   \n",
       "4             direct               untracked        Web       Mac Desktop   \n",
       "\n",
       "  first_browser country_destination  \n",
       "0        Chrome                 NDF  \n",
       "1        Chrome                 NDF  \n",
       "2            IE                  US  \n",
       "3       Firefox               other  \n",
       "4        Chrome                  US  "
      ]
     },
     "execution_count": 136,
     "metadata": {},
     "output_type": "execute_result"
    }
   ],
   "source": [
    "df_users_01.head()"
   ]
  },
  {
   "cell_type": "markdown",
   "id": "dfbd121b",
   "metadata": {
    "hidden": true
   },
   "source": [
    "### Data Dimension"
   ]
  },
  {
   "cell_type": "code",
   "execution_count": 137,
   "id": "f6aef064",
   "metadata": {
    "ExecuteTime": {
     "end_time": "2023-09-18T17:32:05.615417Z",
     "start_time": "2023-09-18T17:32:05.608997Z"
    },
    "hidden": true
   },
   "outputs": [
    {
     "data": {
      "text/plain": [
       "(213451, 16)"
      ]
     },
     "execution_count": 137,
     "metadata": {},
     "output_type": "execute_result"
    }
   ],
   "source": [
    "df_users_01.shape"
   ]
  },
  {
   "cell_type": "markdown",
   "id": "ffde92df",
   "metadata": {
    "hidden": true
   },
   "source": [
    "### Data Types"
   ]
  },
  {
   "cell_type": "code",
   "execution_count": 138,
   "id": "abdce64a",
   "metadata": {
    "ExecuteTime": {
     "end_time": "2023-09-18T17:32:06.007472Z",
     "start_time": "2023-09-18T17:32:05.615417Z"
    },
    "hidden": true
   },
   "outputs": [
    {
     "name": "stdout",
     "output_type": "stream",
     "text": [
      "<class 'pandas.core.frame.DataFrame'>\n",
      "RangeIndex: 213451 entries, 0 to 213450\n",
      "Data columns (total 16 columns):\n",
      " #   Column                   Non-Null Count   Dtype  \n",
      "---  ------                   --------------   -----  \n",
      " 0   id                       213451 non-null  object \n",
      " 1   date_account_created     213451 non-null  object \n",
      " 2   timestamp_first_active   213451 non-null  int64  \n",
      " 3   date_first_booking       88908 non-null   object \n",
      " 4   gender                   213451 non-null  object \n",
      " 5   age                      125461 non-null  float64\n",
      " 6   signup_method            213451 non-null  object \n",
      " 7   signup_flow              213451 non-null  int64  \n",
      " 8   language                 213451 non-null  object \n",
      " 9   affiliate_channel        213451 non-null  object \n",
      " 10  affiliate_provider       213451 non-null  object \n",
      " 11  first_affiliate_tracked  207386 non-null  object \n",
      " 12  signup_app               213451 non-null  object \n",
      " 13  first_device_type        213451 non-null  object \n",
      " 14  first_browser            213451 non-null  object \n",
      " 15  country_destination      213451 non-null  object \n",
      "dtypes: float64(1), int64(2), object(13)\n",
      "memory usage: 26.1+ MB\n"
     ]
    }
   ],
   "source": [
    "df_users_01.info()"
   ]
  },
  {
   "cell_type": "markdown",
   "id": "753c9b86",
   "metadata": {
    "hidden": true,
    "hide_input": true
   },
   "source": [
    "### Change dtypes"
   ]
  },
  {
   "cell_type": "code",
   "execution_count": 139,
   "id": "d523152f",
   "metadata": {
    "ExecuteTime": {
     "end_time": "2023-09-18T17:32:07.089678Z",
     "start_time": "2023-09-18T17:32:06.009489Z"
    },
    "hidden": true
   },
   "outputs": [],
   "source": [
    "#date_account_created; object -> date\n",
    "df_users_01['date_account_created'] = pd.to_datetime(df_users_01['date_account_created'])\n",
    "\n",
    "#timestamp_first_active; int -> date\n",
    "df_users_01['date_first_active'] = pd.to_datetime(df_users_01['timestamp_first_active'], format='%Y%m%d%H%M%S').dt.date\n",
    "df_users_01 = df_users_01.drop('timestamp_first_active', axis=1)\n",
    "df_users_01['date_first_active'] = pd.to_datetime(df_users_01['date_first_active'])\n",
    "\n",
    "#date_first_booking; object -> date\n",
    "df_users_01['date_first_booking'] = pd.to_datetime(df_users_01['date_first_booking'])\n",
    "\n",
    "#age; float64 -> int32\n",
    "df_users_01['age'] = pd.to_numeric(df_users_01['age'], errors='coerce').astype('Int64')"
   ]
  },
  {
   "cell_type": "markdown",
   "id": "fb2de2ac",
   "metadata": {
    "hidden": true,
    "hide_input": true
   },
   "source": [
    "### Check duplicates"
   ]
  },
  {
   "cell_type": "code",
   "execution_count": 140,
   "id": "624d83dd",
   "metadata": {
    "ExecuteTime": {
     "end_time": "2023-09-18T17:32:07.394482Z",
     "start_time": "2023-09-18T17:32:07.091708Z"
    },
    "hidden": true
   },
   "outputs": [
    {
     "data": {
      "text/html": [
       "<div>\n",
       "<style scoped>\n",
       "    .dataframe tbody tr th:only-of-type {\n",
       "        vertical-align: middle;\n",
       "    }\n",
       "\n",
       "    .dataframe tbody tr th {\n",
       "        vertical-align: top;\n",
       "    }\n",
       "\n",
       "    .dataframe thead th {\n",
       "        text-align: right;\n",
       "    }\n",
       "</style>\n",
       "<table border=\"1\" class=\"dataframe\">\n",
       "  <thead>\n",
       "    <tr style=\"text-align: right;\">\n",
       "      <th></th>\n",
       "      <th>id</th>\n",
       "      <th>date_account_created</th>\n",
       "      <th>date_first_booking</th>\n",
       "      <th>gender</th>\n",
       "      <th>age</th>\n",
       "      <th>signup_method</th>\n",
       "      <th>signup_flow</th>\n",
       "      <th>language</th>\n",
       "      <th>affiliate_channel</th>\n",
       "      <th>affiliate_provider</th>\n",
       "      <th>first_affiliate_tracked</th>\n",
       "      <th>signup_app</th>\n",
       "      <th>first_device_type</th>\n",
       "      <th>first_browser</th>\n",
       "      <th>country_destination</th>\n",
       "      <th>date_first_active</th>\n",
       "    </tr>\n",
       "  </thead>\n",
       "  <tbody>\n",
       "  </tbody>\n",
       "</table>\n",
       "</div>"
      ],
      "text/plain": [
       "Empty DataFrame\n",
       "Columns: [id, date_account_created, date_first_booking, gender, age, signup_method, signup_flow, language, affiliate_channel, affiliate_provider, first_affiliate_tracked, signup_app, first_device_type, first_browser, country_destination, date_first_active]\n",
       "Index: []"
      ]
     },
     "execution_count": 140,
     "metadata": {},
     "output_type": "execute_result"
    }
   ],
   "source": [
    "df_users_01[df_users_01.duplicated()]"
   ]
  },
  {
   "cell_type": "markdown",
   "id": "d11c3c04",
   "metadata": {
    "hidden": true
   },
   "source": [
    "No duplicates."
   ]
  },
  {
   "cell_type": "markdown",
   "id": "56cf6ec2",
   "metadata": {
    "heading_collapsed": true,
    "hidden": true
   },
   "source": [
    "## Countries"
   ]
  },
  {
   "cell_type": "code",
   "execution_count": 141,
   "id": "444a16d1",
   "metadata": {
    "ExecuteTime": {
     "end_time": "2023-09-18T17:32:07.410322Z",
     "start_time": "2023-09-18T17:32:07.394482Z"
    },
    "hidden": true
   },
   "outputs": [],
   "source": [
    "df_countries_01 = df_countries_raw.copy()"
   ]
  },
  {
   "cell_type": "markdown",
   "id": "8810a24a",
   "metadata": {
    "hidden": true
   },
   "source": [
    "#### Data Dictionary"
   ]
  },
  {
   "cell_type": "markdown",
   "id": "eabfcc7a",
   "metadata": {
    "hidden": true
   },
   "source": [
    "* <b>country_destination</b>: country\n",
    "* <b>lat_destination</b>: latitude of geographical center of the country\n",
    "* <b>lng_destination</b>: longitude of geographical center of the country\n",
    "* <b>distance_km</b>: distance between US and the country\n",
    "* <b>distance_km2</b>: squared distance between US and the country\n",
    "* <b>destination_language</b>: language of the country\n",
    "* <b>language_levenshtein_distance</b>: "
   ]
  },
  {
   "cell_type": "code",
   "execution_count": 142,
   "id": "0d0d921d",
   "metadata": {
    "ExecuteTime": {
     "end_time": "2023-09-18T17:32:07.461428Z",
     "start_time": "2023-09-18T17:32:07.413175Z"
    },
    "hidden": true
   },
   "outputs": [
    {
     "data": {
      "text/html": [
       "<div>\n",
       "<style scoped>\n",
       "    .dataframe tbody tr th:only-of-type {\n",
       "        vertical-align: middle;\n",
       "    }\n",
       "\n",
       "    .dataframe tbody tr th {\n",
       "        vertical-align: top;\n",
       "    }\n",
       "\n",
       "    .dataframe thead th {\n",
       "        text-align: right;\n",
       "    }\n",
       "</style>\n",
       "<table border=\"1\" class=\"dataframe\">\n",
       "  <thead>\n",
       "    <tr style=\"text-align: right;\">\n",
       "      <th></th>\n",
       "      <th>country_destination</th>\n",
       "      <th>lat_destination</th>\n",
       "      <th>lng_destination</th>\n",
       "      <th>distance_km</th>\n",
       "      <th>destination_km2</th>\n",
       "      <th>destination_language</th>\n",
       "      <th>language_levenshtein_distance</th>\n",
       "    </tr>\n",
       "  </thead>\n",
       "  <tbody>\n",
       "    <tr>\n",
       "      <th>0</th>\n",
       "      <td>AU</td>\n",
       "      <td>-26.853388</td>\n",
       "      <td>133.275160</td>\n",
       "      <td>15297.7440</td>\n",
       "      <td>7741220.0</td>\n",
       "      <td>eng</td>\n",
       "      <td>0.00</td>\n",
       "    </tr>\n",
       "    <tr>\n",
       "      <th>1</th>\n",
       "      <td>CA</td>\n",
       "      <td>62.393303</td>\n",
       "      <td>-96.818146</td>\n",
       "      <td>2828.1333</td>\n",
       "      <td>9984670.0</td>\n",
       "      <td>eng</td>\n",
       "      <td>0.00</td>\n",
       "    </tr>\n",
       "    <tr>\n",
       "      <th>2</th>\n",
       "      <td>DE</td>\n",
       "      <td>51.165707</td>\n",
       "      <td>10.452764</td>\n",
       "      <td>7879.5680</td>\n",
       "      <td>357022.0</td>\n",
       "      <td>deu</td>\n",
       "      <td>72.61</td>\n",
       "    </tr>\n",
       "    <tr>\n",
       "      <th>3</th>\n",
       "      <td>ES</td>\n",
       "      <td>39.896027</td>\n",
       "      <td>-2.487694</td>\n",
       "      <td>7730.7240</td>\n",
       "      <td>505370.0</td>\n",
       "      <td>spa</td>\n",
       "      <td>92.25</td>\n",
       "    </tr>\n",
       "    <tr>\n",
       "      <th>4</th>\n",
       "      <td>FR</td>\n",
       "      <td>46.232193</td>\n",
       "      <td>2.209667</td>\n",
       "      <td>7682.9450</td>\n",
       "      <td>643801.0</td>\n",
       "      <td>fra</td>\n",
       "      <td>92.06</td>\n",
       "    </tr>\n",
       "  </tbody>\n",
       "</table>\n",
       "</div>"
      ],
      "text/plain": [
       "  country_destination  lat_destination  lng_destination  distance_km  \\\n",
       "0                  AU       -26.853388       133.275160   15297.7440   \n",
       "1                  CA        62.393303       -96.818146    2828.1333   \n",
       "2                  DE        51.165707        10.452764    7879.5680   \n",
       "3                  ES        39.896027        -2.487694    7730.7240   \n",
       "4                  FR        46.232193         2.209667    7682.9450   \n",
       "\n",
       "   destination_km2 destination_language   language_levenshtein_distance  \n",
       "0        7741220.0                   eng                           0.00  \n",
       "1        9984670.0                   eng                           0.00  \n",
       "2         357022.0                   deu                          72.61  \n",
       "3         505370.0                   spa                          92.25  \n",
       "4         643801.0                   fra                          92.06  "
      ]
     },
     "execution_count": 142,
     "metadata": {},
     "output_type": "execute_result"
    }
   ],
   "source": [
    "df_countries_01.head()"
   ]
  },
  {
   "cell_type": "markdown",
   "id": "6485bbdf",
   "metadata": {
    "hidden": true,
    "hide_input": true
   },
   "source": [
    "### Data Dimension"
   ]
  },
  {
   "cell_type": "code",
   "execution_count": 143,
   "id": "54264335",
   "metadata": {
    "ExecuteTime": {
     "end_time": "2023-09-18T17:32:07.477014Z",
     "start_time": "2023-09-18T17:32:07.461428Z"
    },
    "hidden": true
   },
   "outputs": [
    {
     "data": {
      "text/plain": [
       "(10, 7)"
      ]
     },
     "execution_count": 143,
     "metadata": {},
     "output_type": "execute_result"
    }
   ],
   "source": [
    "df_countries_01.shape"
   ]
  },
  {
   "cell_type": "markdown",
   "id": "aa6f18cf",
   "metadata": {
    "hidden": true
   },
   "source": [
    "### Data Types"
   ]
  },
  {
   "cell_type": "code",
   "execution_count": 144,
   "id": "ef1e4fc6",
   "metadata": {
    "ExecuteTime": {
     "end_time": "2023-09-18T17:32:07.494341Z",
     "start_time": "2023-09-18T17:32:07.479182Z"
    },
    "hidden": true
   },
   "outputs": [
    {
     "name": "stdout",
     "output_type": "stream",
     "text": [
      "<class 'pandas.core.frame.DataFrame'>\n",
      "RangeIndex: 10 entries, 0 to 9\n",
      "Data columns (total 7 columns):\n",
      " #   Column                         Non-Null Count  Dtype  \n",
      "---  ------                         --------------  -----  \n",
      " 0   country_destination            10 non-null     object \n",
      " 1   lat_destination                10 non-null     float64\n",
      " 2   lng_destination                10 non-null     float64\n",
      " 3   distance_km                    10 non-null     float64\n",
      " 4   destination_km2                10 non-null     float64\n",
      " 5   destination_language           10 non-null     object \n",
      " 6   language_levenshtein_distance  10 non-null     float64\n",
      "dtypes: float64(5), object(2)\n",
      "memory usage: 688.0+ bytes\n"
     ]
    }
   ],
   "source": [
    "df_countries_01.info()"
   ]
  },
  {
   "cell_type": "markdown",
   "id": "24b05c21",
   "metadata": {
    "hidden": true
   },
   "source": [
    "### Change dtypes"
   ]
  },
  {
   "cell_type": "markdown",
   "id": "8e94f316",
   "metadata": {
    "ExecuteTime": {
     "end_time": "2023-08-16T19:16:46.663923Z",
     "start_time": "2023-08-16T19:16:46.623750Z"
    },
    "hidden": true
   },
   "source": [
    "No changes."
   ]
  },
  {
   "cell_type": "markdown",
   "id": "fb02e8ba",
   "metadata": {
    "hidden": true
   },
   "source": [
    "### Check duplicates"
   ]
  },
  {
   "cell_type": "code",
   "execution_count": 145,
   "id": "05671564",
   "metadata": {
    "ExecuteTime": {
     "end_time": "2023-09-18T17:32:07.509762Z",
     "start_time": "2023-09-18T17:32:07.494982Z"
    },
    "hidden": true
   },
   "outputs": [
    {
     "data": {
      "text/html": [
       "<div>\n",
       "<style scoped>\n",
       "    .dataframe tbody tr th:only-of-type {\n",
       "        vertical-align: middle;\n",
       "    }\n",
       "\n",
       "    .dataframe tbody tr th {\n",
       "        vertical-align: top;\n",
       "    }\n",
       "\n",
       "    .dataframe thead th {\n",
       "        text-align: right;\n",
       "    }\n",
       "</style>\n",
       "<table border=\"1\" class=\"dataframe\">\n",
       "  <thead>\n",
       "    <tr style=\"text-align: right;\">\n",
       "      <th></th>\n",
       "      <th>country_destination</th>\n",
       "      <th>lat_destination</th>\n",
       "      <th>lng_destination</th>\n",
       "      <th>distance_km</th>\n",
       "      <th>destination_km2</th>\n",
       "      <th>destination_language</th>\n",
       "      <th>language_levenshtein_distance</th>\n",
       "    </tr>\n",
       "  </thead>\n",
       "  <tbody>\n",
       "  </tbody>\n",
       "</table>\n",
       "</div>"
      ],
      "text/plain": [
       "Empty DataFrame\n",
       "Columns: [country_destination, lat_destination, lng_destination, distance_km, destination_km2, destination_language , language_levenshtein_distance]\n",
       "Index: []"
      ]
     },
     "execution_count": 145,
     "metadata": {},
     "output_type": "execute_result"
    }
   ],
   "source": [
    "df_countries_01[df_countries_01.duplicated()]"
   ]
  },
  {
   "cell_type": "markdown",
   "id": "61dc68dd",
   "metadata": {
    "hidden": true
   },
   "source": [
    "No duplicates."
   ]
  },
  {
   "cell_type": "markdown",
   "id": "48e2d216",
   "metadata": {
    "heading_collapsed": true,
    "hidden": true
   },
   "source": [
    "## Population"
   ]
  },
  {
   "cell_type": "code",
   "execution_count": 146,
   "id": "8569442c",
   "metadata": {
    "ExecuteTime": {
     "end_time": "2023-09-18T17:32:07.527841Z",
     "start_time": "2023-09-18T17:32:07.512550Z"
    },
    "hidden": true
   },
   "outputs": [],
   "source": [
    "df_age_gender_01 = df_age_gender_raw.copy()"
   ]
  },
  {
   "cell_type": "markdown",
   "id": "e2d3af6e",
   "metadata": {
    "hidden": true
   },
   "source": [
    "#### Data Dictionary"
   ]
  },
  {
   "cell_type": "markdown",
   "id": "79bcbe57",
   "metadata": {
    "hidden": true
   },
   "source": [
    "* <b>age_bucket</b>: age group\n",
    "* <b>country_destination</b>: country\n",
    "* <b>gender</b>: gender being analysed\n",
    "* <b>population_in_thousands</b>: population of that age bucket\n",
    "* <b>year</b>: year the data was collected"
   ]
  },
  {
   "cell_type": "code",
   "execution_count": 147,
   "id": "59c349ad",
   "metadata": {
    "ExecuteTime": {
     "end_time": "2023-09-18T17:32:07.543204Z",
     "start_time": "2023-09-18T17:32:07.528766Z"
    },
    "hidden": true
   },
   "outputs": [
    {
     "data": {
      "text/html": [
       "<div>\n",
       "<style scoped>\n",
       "    .dataframe tbody tr th:only-of-type {\n",
       "        vertical-align: middle;\n",
       "    }\n",
       "\n",
       "    .dataframe tbody tr th {\n",
       "        vertical-align: top;\n",
       "    }\n",
       "\n",
       "    .dataframe thead th {\n",
       "        text-align: right;\n",
       "    }\n",
       "</style>\n",
       "<table border=\"1\" class=\"dataframe\">\n",
       "  <thead>\n",
       "    <tr style=\"text-align: right;\">\n",
       "      <th></th>\n",
       "      <th>age_bucket</th>\n",
       "      <th>country_destination</th>\n",
       "      <th>gender</th>\n",
       "      <th>population_in_thousands</th>\n",
       "      <th>year</th>\n",
       "    </tr>\n",
       "  </thead>\n",
       "  <tbody>\n",
       "    <tr>\n",
       "      <th>0</th>\n",
       "      <td>100+</td>\n",
       "      <td>AU</td>\n",
       "      <td>male</td>\n",
       "      <td>1.0</td>\n",
       "      <td>2015.0</td>\n",
       "    </tr>\n",
       "    <tr>\n",
       "      <th>1</th>\n",
       "      <td>95-99</td>\n",
       "      <td>AU</td>\n",
       "      <td>male</td>\n",
       "      <td>9.0</td>\n",
       "      <td>2015.0</td>\n",
       "    </tr>\n",
       "    <tr>\n",
       "      <th>2</th>\n",
       "      <td>90-94</td>\n",
       "      <td>AU</td>\n",
       "      <td>male</td>\n",
       "      <td>47.0</td>\n",
       "      <td>2015.0</td>\n",
       "    </tr>\n",
       "    <tr>\n",
       "      <th>3</th>\n",
       "      <td>85-89</td>\n",
       "      <td>AU</td>\n",
       "      <td>male</td>\n",
       "      <td>118.0</td>\n",
       "      <td>2015.0</td>\n",
       "    </tr>\n",
       "    <tr>\n",
       "      <th>4</th>\n",
       "      <td>80-84</td>\n",
       "      <td>AU</td>\n",
       "      <td>male</td>\n",
       "      <td>199.0</td>\n",
       "      <td>2015.0</td>\n",
       "    </tr>\n",
       "  </tbody>\n",
       "</table>\n",
       "</div>"
      ],
      "text/plain": [
       "  age_bucket country_destination gender  population_in_thousands    year\n",
       "0       100+                  AU   male                      1.0  2015.0\n",
       "1      95-99                  AU   male                      9.0  2015.0\n",
       "2      90-94                  AU   male                     47.0  2015.0\n",
       "3      85-89                  AU   male                    118.0  2015.0\n",
       "4      80-84                  AU   male                    199.0  2015.0"
      ]
     },
     "execution_count": 147,
     "metadata": {},
     "output_type": "execute_result"
    }
   ],
   "source": [
    "df_age_gender_01.head()"
   ]
  },
  {
   "cell_type": "markdown",
   "id": "2fc3c531",
   "metadata": {
    "hidden": true,
    "hide_input": true
   },
   "source": [
    "### Data Dimension"
   ]
  },
  {
   "cell_type": "code",
   "execution_count": 148,
   "id": "1b8c035e",
   "metadata": {
    "ExecuteTime": {
     "end_time": "2023-09-18T17:32:07.565007Z",
     "start_time": "2023-09-18T17:32:07.545217Z"
    },
    "hidden": true
   },
   "outputs": [
    {
     "data": {
      "text/plain": [
       "(420, 5)"
      ]
     },
     "execution_count": 148,
     "metadata": {},
     "output_type": "execute_result"
    }
   ],
   "source": [
    "df_age_gender_01.shape"
   ]
  },
  {
   "cell_type": "markdown",
   "id": "dff2374e",
   "metadata": {
    "hidden": true
   },
   "source": [
    "### Data Types"
   ]
  },
  {
   "cell_type": "code",
   "execution_count": 149,
   "id": "0e5a3d7d",
   "metadata": {
    "ExecuteTime": {
     "end_time": "2023-09-18T17:32:07.580675Z",
     "start_time": "2023-09-18T17:32:07.565568Z"
    },
    "hidden": true
   },
   "outputs": [
    {
     "name": "stdout",
     "output_type": "stream",
     "text": [
      "<class 'pandas.core.frame.DataFrame'>\n",
      "RangeIndex: 420 entries, 0 to 419\n",
      "Data columns (total 5 columns):\n",
      " #   Column                   Non-Null Count  Dtype  \n",
      "---  ------                   --------------  -----  \n",
      " 0   age_bucket               420 non-null    object \n",
      " 1   country_destination      420 non-null    object \n",
      " 2   gender                   420 non-null    object \n",
      " 3   population_in_thousands  420 non-null    float64\n",
      " 4   year                     420 non-null    float64\n",
      "dtypes: float64(2), object(3)\n",
      "memory usage: 16.5+ KB\n"
     ]
    }
   ],
   "source": [
    "df_age_gender_01.info()"
   ]
  },
  {
   "cell_type": "markdown",
   "id": "b72231ed",
   "metadata": {
    "hidden": true
   },
   "source": [
    "### Change dtypes"
   ]
  },
  {
   "cell_type": "code",
   "execution_count": 150,
   "id": "e73de837",
   "metadata": {
    "ExecuteTime": {
     "end_time": "2023-09-18T17:32:07.596680Z",
     "start_time": "2023-09-18T17:32:07.583670Z"
    },
    "hidden": true
   },
   "outputs": [],
   "source": [
    "#year: float64 --> int64\n",
    "df_age_gender_01['year'] = df_age_gender_01['year'].astype('int')"
   ]
  },
  {
   "cell_type": "markdown",
   "id": "a425076f",
   "metadata": {
    "hidden": true
   },
   "source": [
    "### Check duplicates"
   ]
  },
  {
   "cell_type": "code",
   "execution_count": 151,
   "id": "ca5ba5b6",
   "metadata": {
    "ExecuteTime": {
     "end_time": "2023-09-18T17:32:07.612148Z",
     "start_time": "2023-09-18T17:32:07.598131Z"
    },
    "hidden": true
   },
   "outputs": [
    {
     "data": {
      "text/html": [
       "<div>\n",
       "<style scoped>\n",
       "    .dataframe tbody tr th:only-of-type {\n",
       "        vertical-align: middle;\n",
       "    }\n",
       "\n",
       "    .dataframe tbody tr th {\n",
       "        vertical-align: top;\n",
       "    }\n",
       "\n",
       "    .dataframe thead th {\n",
       "        text-align: right;\n",
       "    }\n",
       "</style>\n",
       "<table border=\"1\" class=\"dataframe\">\n",
       "  <thead>\n",
       "    <tr style=\"text-align: right;\">\n",
       "      <th></th>\n",
       "      <th>age_bucket</th>\n",
       "      <th>country_destination</th>\n",
       "      <th>gender</th>\n",
       "      <th>population_in_thousands</th>\n",
       "      <th>year</th>\n",
       "    </tr>\n",
       "  </thead>\n",
       "  <tbody>\n",
       "  </tbody>\n",
       "</table>\n",
       "</div>"
      ],
      "text/plain": [
       "Empty DataFrame\n",
       "Columns: [age_bucket, country_destination, gender, population_in_thousands, year]\n",
       "Index: []"
      ]
     },
     "execution_count": 151,
     "metadata": {},
     "output_type": "execute_result"
    }
   ],
   "source": [
    "df_age_gender_01[df_age_gender_01.duplicated()]"
   ]
  },
  {
   "cell_type": "markdown",
   "id": "41956a74",
   "metadata": {
    "hidden": true
   },
   "source": [
    "No duplicates."
   ]
  },
  {
   "cell_type": "markdown",
   "id": "e9c5c88e",
   "metadata": {
    "heading_collapsed": true,
    "hidden": true
   },
   "source": [
    "## Sessions"
   ]
  },
  {
   "cell_type": "code",
   "execution_count": 152,
   "id": "0794735c",
   "metadata": {
    "ExecuteTime": {
     "end_time": "2023-09-18T17:32:07.820431Z",
     "start_time": "2023-09-18T17:32:07.614076Z"
    },
    "hidden": true
   },
   "outputs": [],
   "source": [
    "df_sessions_01 = df_sessions_raw.copy()"
   ]
  },
  {
   "cell_type": "markdown",
   "id": "1d77d80a",
   "metadata": {
    "hidden": true
   },
   "source": [
    "#### Data Dictionary"
   ]
  },
  {
   "cell_type": "markdown",
   "id": "3fb4beca",
   "metadata": {
    "hidden": true
   },
   "source": [
    "* <b>user_id</b>\n",
    "* <b>action</b>\n",
    "* <b>action_type</b>\n",
    "* <b>action_detail</b>\n",
    "* <b>device_type</b>\n",
    "* <b>secs_elapsed</b>"
   ]
  },
  {
   "cell_type": "code",
   "execution_count": 153,
   "id": "b05dd1d3",
   "metadata": {
    "ExecuteTime": {
     "end_time": "2023-09-18T17:32:07.844199Z",
     "start_time": "2023-09-18T17:32:07.822432Z"
    },
    "hidden": true
   },
   "outputs": [
    {
     "data": {
      "text/html": [
       "<div>\n",
       "<style scoped>\n",
       "    .dataframe tbody tr th:only-of-type {\n",
       "        vertical-align: middle;\n",
       "    }\n",
       "\n",
       "    .dataframe tbody tr th {\n",
       "        vertical-align: top;\n",
       "    }\n",
       "\n",
       "    .dataframe thead th {\n",
       "        text-align: right;\n",
       "    }\n",
       "</style>\n",
       "<table border=\"1\" class=\"dataframe\">\n",
       "  <thead>\n",
       "    <tr style=\"text-align: right;\">\n",
       "      <th></th>\n",
       "      <th>user_id</th>\n",
       "      <th>action</th>\n",
       "      <th>action_type</th>\n",
       "      <th>action_detail</th>\n",
       "      <th>device_type</th>\n",
       "      <th>secs_elapsed</th>\n",
       "    </tr>\n",
       "  </thead>\n",
       "  <tbody>\n",
       "    <tr>\n",
       "      <th>0</th>\n",
       "      <td>d1mm9tcy42</td>\n",
       "      <td>lookup</td>\n",
       "      <td>NaN</td>\n",
       "      <td>NaN</td>\n",
       "      <td>Windows Desktop</td>\n",
       "      <td>319.0</td>\n",
       "    </tr>\n",
       "    <tr>\n",
       "      <th>1</th>\n",
       "      <td>d1mm9tcy42</td>\n",
       "      <td>search_results</td>\n",
       "      <td>click</td>\n",
       "      <td>view_search_results</td>\n",
       "      <td>Windows Desktop</td>\n",
       "      <td>67753.0</td>\n",
       "    </tr>\n",
       "    <tr>\n",
       "      <th>2</th>\n",
       "      <td>d1mm9tcy42</td>\n",
       "      <td>lookup</td>\n",
       "      <td>NaN</td>\n",
       "      <td>NaN</td>\n",
       "      <td>Windows Desktop</td>\n",
       "      <td>301.0</td>\n",
       "    </tr>\n",
       "    <tr>\n",
       "      <th>3</th>\n",
       "      <td>d1mm9tcy42</td>\n",
       "      <td>search_results</td>\n",
       "      <td>click</td>\n",
       "      <td>view_search_results</td>\n",
       "      <td>Windows Desktop</td>\n",
       "      <td>22141.0</td>\n",
       "    </tr>\n",
       "    <tr>\n",
       "      <th>4</th>\n",
       "      <td>d1mm9tcy42</td>\n",
       "      <td>lookup</td>\n",
       "      <td>NaN</td>\n",
       "      <td>NaN</td>\n",
       "      <td>Windows Desktop</td>\n",
       "      <td>435.0</td>\n",
       "    </tr>\n",
       "  </tbody>\n",
       "</table>\n",
       "</div>"
      ],
      "text/plain": [
       "      user_id          action action_type        action_detail  \\\n",
       "0  d1mm9tcy42          lookup         NaN                  NaN   \n",
       "1  d1mm9tcy42  search_results       click  view_search_results   \n",
       "2  d1mm9tcy42          lookup         NaN                  NaN   \n",
       "3  d1mm9tcy42  search_results       click  view_search_results   \n",
       "4  d1mm9tcy42          lookup         NaN                  NaN   \n",
       "\n",
       "       device_type  secs_elapsed  \n",
       "0  Windows Desktop         319.0  \n",
       "1  Windows Desktop       67753.0  \n",
       "2  Windows Desktop         301.0  \n",
       "3  Windows Desktop       22141.0  \n",
       "4  Windows Desktop         435.0  "
      ]
     },
     "execution_count": 153,
     "metadata": {},
     "output_type": "execute_result"
    }
   ],
   "source": [
    "df_sessions_01.head()"
   ]
  },
  {
   "cell_type": "markdown",
   "id": "eed7484a",
   "metadata": {
    "hidden": true,
    "hide_input": true
   },
   "source": [
    "### Data Dimension"
   ]
  },
  {
   "cell_type": "code",
   "execution_count": 154,
   "id": "c05b9f58",
   "metadata": {
    "ExecuteTime": {
     "end_time": "2023-09-18T17:32:07.860124Z",
     "start_time": "2023-09-18T17:32:07.844504Z"
    },
    "hidden": true
   },
   "outputs": [
    {
     "data": {
      "text/html": [
       "<div>\n",
       "<style scoped>\n",
       "    .dataframe tbody tr th:only-of-type {\n",
       "        vertical-align: middle;\n",
       "    }\n",
       "\n",
       "    .dataframe tbody tr th {\n",
       "        vertical-align: top;\n",
       "    }\n",
       "\n",
       "    .dataframe thead th {\n",
       "        text-align: right;\n",
       "    }\n",
       "</style>\n",
       "<table border=\"1\" class=\"dataframe\">\n",
       "  <thead>\n",
       "    <tr style=\"text-align: right;\">\n",
       "      <th></th>\n",
       "      <th>user_id</th>\n",
       "      <th>action</th>\n",
       "      <th>action_type</th>\n",
       "      <th>action_detail</th>\n",
       "      <th>device_type</th>\n",
       "      <th>secs_elapsed</th>\n",
       "    </tr>\n",
       "  </thead>\n",
       "  <tbody>\n",
       "    <tr>\n",
       "      <th>0</th>\n",
       "      <td>d1mm9tcy42</td>\n",
       "      <td>lookup</td>\n",
       "      <td>NaN</td>\n",
       "      <td>NaN</td>\n",
       "      <td>Windows Desktop</td>\n",
       "      <td>319.0</td>\n",
       "    </tr>\n",
       "    <tr>\n",
       "      <th>1</th>\n",
       "      <td>d1mm9tcy42</td>\n",
       "      <td>search_results</td>\n",
       "      <td>click</td>\n",
       "      <td>view_search_results</td>\n",
       "      <td>Windows Desktop</td>\n",
       "      <td>67753.0</td>\n",
       "    </tr>\n",
       "    <tr>\n",
       "      <th>2</th>\n",
       "      <td>d1mm9tcy42</td>\n",
       "      <td>lookup</td>\n",
       "      <td>NaN</td>\n",
       "      <td>NaN</td>\n",
       "      <td>Windows Desktop</td>\n",
       "      <td>301.0</td>\n",
       "    </tr>\n",
       "    <tr>\n",
       "      <th>3</th>\n",
       "      <td>d1mm9tcy42</td>\n",
       "      <td>search_results</td>\n",
       "      <td>click</td>\n",
       "      <td>view_search_results</td>\n",
       "      <td>Windows Desktop</td>\n",
       "      <td>22141.0</td>\n",
       "    </tr>\n",
       "    <tr>\n",
       "      <th>4</th>\n",
       "      <td>d1mm9tcy42</td>\n",
       "      <td>lookup</td>\n",
       "      <td>NaN</td>\n",
       "      <td>NaN</td>\n",
       "      <td>Windows Desktop</td>\n",
       "      <td>435.0</td>\n",
       "    </tr>\n",
       "  </tbody>\n",
       "</table>\n",
       "</div>"
      ],
      "text/plain": [
       "      user_id          action action_type        action_detail  \\\n",
       "0  d1mm9tcy42          lookup         NaN                  NaN   \n",
       "1  d1mm9tcy42  search_results       click  view_search_results   \n",
       "2  d1mm9tcy42          lookup         NaN                  NaN   \n",
       "3  d1mm9tcy42  search_results       click  view_search_results   \n",
       "4  d1mm9tcy42          lookup         NaN                  NaN   \n",
       "\n",
       "       device_type  secs_elapsed  \n",
       "0  Windows Desktop         319.0  \n",
       "1  Windows Desktop       67753.0  \n",
       "2  Windows Desktop         301.0  \n",
       "3  Windows Desktop       22141.0  \n",
       "4  Windows Desktop         435.0  "
      ]
     },
     "execution_count": 154,
     "metadata": {},
     "output_type": "execute_result"
    }
   ],
   "source": [
    "df_sessions_01.head()"
   ]
  },
  {
   "cell_type": "markdown",
   "id": "5ca1610f",
   "metadata": {
    "hidden": true
   },
   "source": [
    "### Data Types"
   ]
  },
  {
   "cell_type": "code",
   "execution_count": 155,
   "id": "45aa66df",
   "metadata": {
    "ExecuteTime": {
     "end_time": "2023-09-18T17:32:07.877480Z",
     "start_time": "2023-09-18T17:32:07.862093Z"
    },
    "hidden": true
   },
   "outputs": [
    {
     "name": "stdout",
     "output_type": "stream",
     "text": [
      "<class 'pandas.core.frame.DataFrame'>\n",
      "RangeIndex: 10567737 entries, 0 to 10567736\n",
      "Data columns (total 6 columns):\n",
      " #   Column         Dtype  \n",
      "---  ------         -----  \n",
      " 0   user_id        object \n",
      " 1   action         object \n",
      " 2   action_type    object \n",
      " 3   action_detail  object \n",
      " 4   device_type    object \n",
      " 5   secs_elapsed   float64\n",
      "dtypes: float64(1), object(5)\n",
      "memory usage: 483.8+ MB\n"
     ]
    }
   ],
   "source": [
    "df_sessions_01.info()"
   ]
  },
  {
   "cell_type": "markdown",
   "id": "30fe016a",
   "metadata": {
    "hidden": true
   },
   "source": [
    "### Missing"
   ]
  },
  {
   "cell_type": "code",
   "execution_count": 156,
   "id": "3c4fd4fc",
   "metadata": {
    "ExecuteTime": {
     "end_time": "2023-09-18T17:32:17.107076Z",
     "start_time": "2023-09-18T17:32:07.879404Z"
    },
    "hidden": true
   },
   "outputs": [
    {
     "data": {
      "text/plain": [
       "user_id            34496\n",
       "action             79626\n",
       "action_type      1126204\n",
       "action_detail    1126204\n",
       "device_type            0\n",
       "secs_elapsed      136031\n",
       "dtype: int64"
      ]
     },
     "execution_count": 156,
     "metadata": {},
     "output_type": "execute_result"
    }
   ],
   "source": [
    "df_sessions_01.isnull().sum()"
   ]
  },
  {
   "cell_type": "markdown",
   "id": "8bc763c9",
   "metadata": {
    "hidden": true
   },
   "source": [
    "### Change dtypes"
   ]
  },
  {
   "cell_type": "markdown",
   "id": "9ec47314",
   "metadata": {
    "hidden": true
   },
   "source": [
    "No changes."
   ]
  },
  {
   "cell_type": "markdown",
   "id": "605401e4",
   "metadata": {
    "hidden": true
   },
   "source": [
    "### Check duplicates"
   ]
  },
  {
   "cell_type": "code",
   "execution_count": 157,
   "id": "c216798e",
   "metadata": {
    "ExecuteTime": {
     "end_time": "2023-09-18T17:32:25.287490Z",
     "start_time": "2023-09-18T17:32:17.109390Z"
    },
    "hidden": true
   },
   "outputs": [
    {
     "data": {
      "text/html": [
       "<div>\n",
       "<style scoped>\n",
       "    .dataframe tbody tr th:only-of-type {\n",
       "        vertical-align: middle;\n",
       "    }\n",
       "\n",
       "    .dataframe tbody tr th {\n",
       "        vertical-align: top;\n",
       "    }\n",
       "\n",
       "    .dataframe thead th {\n",
       "        text-align: right;\n",
       "    }\n",
       "</style>\n",
       "<table border=\"1\" class=\"dataframe\">\n",
       "  <thead>\n",
       "    <tr style=\"text-align: right;\">\n",
       "      <th></th>\n",
       "      <th>user_id</th>\n",
       "      <th>action</th>\n",
       "      <th>action_type</th>\n",
       "      <th>action_detail</th>\n",
       "      <th>device_type</th>\n",
       "      <th>secs_elapsed</th>\n",
       "    </tr>\n",
       "  </thead>\n",
       "  <tbody>\n",
       "    <tr>\n",
       "      <th>430</th>\n",
       "      <td>qtw88d9pbl</td>\n",
       "      <td>show</td>\n",
       "      <td>NaN</td>\n",
       "      <td>NaN</td>\n",
       "      <td>Mac Desktop</td>\n",
       "      <td>180.0</td>\n",
       "    </tr>\n",
       "    <tr>\n",
       "      <th>605</th>\n",
       "      <td>qtw88d9pbl</td>\n",
       "      <td>show</td>\n",
       "      <td>NaN</td>\n",
       "      <td>NaN</td>\n",
       "      <td>Mac Desktop</td>\n",
       "      <td>149.0</td>\n",
       "    </tr>\n",
       "    <tr>\n",
       "      <th>645</th>\n",
       "      <td>qtw88d9pbl</td>\n",
       "      <td>similar_listings</td>\n",
       "      <td>data</td>\n",
       "      <td>similar_listings</td>\n",
       "      <td>Mac Desktop</td>\n",
       "      <td>193.0</td>\n",
       "    </tr>\n",
       "    <tr>\n",
       "      <th>659</th>\n",
       "      <td>qtw88d9pbl</td>\n",
       "      <td>show</td>\n",
       "      <td>NaN</td>\n",
       "      <td>NaN</td>\n",
       "      <td>Mac Desktop</td>\n",
       "      <td>94.0</td>\n",
       "    </tr>\n",
       "    <tr>\n",
       "      <th>709</th>\n",
       "      <td>qtw88d9pbl</td>\n",
       "      <td>show</td>\n",
       "      <td>view</td>\n",
       "      <td>p3</td>\n",
       "      <td>Mac Desktop</td>\n",
       "      <td>2333.0</td>\n",
       "    </tr>\n",
       "    <tr>\n",
       "      <th>...</th>\n",
       "      <td>...</td>\n",
       "      <td>...</td>\n",
       "      <td>...</td>\n",
       "      <td>...</td>\n",
       "      <td>...</td>\n",
       "      <td>...</td>\n",
       "    </tr>\n",
       "    <tr>\n",
       "      <th>10566578</th>\n",
       "      <td>ozb2z0km6l</td>\n",
       "      <td>show</td>\n",
       "      <td>view</td>\n",
       "      <td>p3</td>\n",
       "      <td>Android Phone</td>\n",
       "      <td>753.0</td>\n",
       "    </tr>\n",
       "    <tr>\n",
       "      <th>10566603</th>\n",
       "      <td>ozb2z0km6l</td>\n",
       "      <td>show</td>\n",
       "      <td>view</td>\n",
       "      <td>p3</td>\n",
       "      <td>Android Phone</td>\n",
       "      <td>730.0</td>\n",
       "    </tr>\n",
       "    <tr>\n",
       "      <th>10566867</th>\n",
       "      <td>gpijioh4eh</td>\n",
       "      <td>similar_listings</td>\n",
       "      <td>data</td>\n",
       "      <td>similar_listings</td>\n",
       "      <td>Mac Desktop</td>\n",
       "      <td>171.0</td>\n",
       "    </tr>\n",
       "    <tr>\n",
       "      <th>10567058</th>\n",
       "      <td>3ptlvdxss9</td>\n",
       "      <td>personalize</td>\n",
       "      <td>data</td>\n",
       "      <td>wishlist_content_update</td>\n",
       "      <td>Windows Desktop</td>\n",
       "      <td>2840.0</td>\n",
       "    </tr>\n",
       "    <tr>\n",
       "      <th>10567705</th>\n",
       "      <td>fa6260ziny</td>\n",
       "      <td>personalize</td>\n",
       "      <td>data</td>\n",
       "      <td>wishlist_content_update</td>\n",
       "      <td>Windows Desktop</td>\n",
       "      <td>69.0</td>\n",
       "    </tr>\n",
       "  </tbody>\n",
       "</table>\n",
       "<p>252536 rows × 6 columns</p>\n",
       "</div>"
      ],
      "text/plain": [
       "             user_id            action action_type            action_detail  \\\n",
       "430       qtw88d9pbl              show         NaN                      NaN   \n",
       "605       qtw88d9pbl              show         NaN                      NaN   \n",
       "645       qtw88d9pbl  similar_listings        data         similar_listings   \n",
       "659       qtw88d9pbl              show         NaN                      NaN   \n",
       "709       qtw88d9pbl              show        view                       p3   \n",
       "...              ...               ...         ...                      ...   \n",
       "10566578  ozb2z0km6l              show        view                       p3   \n",
       "10566603  ozb2z0km6l              show        view                       p3   \n",
       "10566867  gpijioh4eh  similar_listings        data         similar_listings   \n",
       "10567058  3ptlvdxss9       personalize        data  wishlist_content_update   \n",
       "10567705  fa6260ziny       personalize        data  wishlist_content_update   \n",
       "\n",
       "              device_type  secs_elapsed  \n",
       "430           Mac Desktop         180.0  \n",
       "605           Mac Desktop         149.0  \n",
       "645           Mac Desktop         193.0  \n",
       "659           Mac Desktop          94.0  \n",
       "709           Mac Desktop        2333.0  \n",
       "...                   ...           ...  \n",
       "10566578    Android Phone         753.0  \n",
       "10566603    Android Phone         730.0  \n",
       "10566867      Mac Desktop         171.0  \n",
       "10567058  Windows Desktop        2840.0  \n",
       "10567705  Windows Desktop          69.0  \n",
       "\n",
       "[252536 rows x 6 columns]"
      ]
     },
     "execution_count": 157,
     "metadata": {},
     "output_type": "execute_result"
    }
   ],
   "source": [
    "df_sessions_01[df_sessions_01.duplicated()]"
   ]
  },
  {
   "cell_type": "markdown",
   "id": "010b7603",
   "metadata": {
    "ExecuteTime": {
     "end_time": "2023-08-16T19:15:40.273757Z",
     "start_time": "2023-08-16T19:15:40.262779Z"
    },
    "hidden": true
   },
   "source": [
    "É razoável que tenhamos linhas duplicadas nessa tabela, uma vez que um mesmo usuário pode ter realizado a mesma ação, no mesmo device. Agora se tiver alguma linha que o TEMPO da sessão também seja igual aí seria estranho."
   ]
  },
  {
   "cell_type": "code",
   "execution_count": 158,
   "id": "3a4bdd89",
   "metadata": {
    "ExecuteTime": {
     "end_time": "2023-09-18T17:32:33.118982Z",
     "start_time": "2023-09-18T17:32:25.289490Z"
    },
    "hidden": true
   },
   "outputs": [
    {
     "data": {
      "text/html": [
       "<div>\n",
       "<style scoped>\n",
       "    .dataframe tbody tr th:only-of-type {\n",
       "        vertical-align: middle;\n",
       "    }\n",
       "\n",
       "    .dataframe tbody tr th {\n",
       "        vertical-align: top;\n",
       "    }\n",
       "\n",
       "    .dataframe thead th {\n",
       "        text-align: right;\n",
       "    }\n",
       "</style>\n",
       "<table border=\"1\" class=\"dataframe\">\n",
       "  <thead>\n",
       "    <tr style=\"text-align: right;\">\n",
       "      <th></th>\n",
       "      <th>user_id</th>\n",
       "      <th>action</th>\n",
       "      <th>action_type</th>\n",
       "      <th>action_detail</th>\n",
       "      <th>device_type</th>\n",
       "      <th>secs_elapsed</th>\n",
       "    </tr>\n",
       "  </thead>\n",
       "  <tbody>\n",
       "    <tr>\n",
       "      <th>420</th>\n",
       "      <td>qtw88d9pbl</td>\n",
       "      <td>show</td>\n",
       "      <td>NaN</td>\n",
       "      <td>NaN</td>\n",
       "      <td>Mac Desktop</td>\n",
       "      <td>180.0</td>\n",
       "    </tr>\n",
       "    <tr>\n",
       "      <th>430</th>\n",
       "      <td>qtw88d9pbl</td>\n",
       "      <td>show</td>\n",
       "      <td>NaN</td>\n",
       "      <td>NaN</td>\n",
       "      <td>Mac Desktop</td>\n",
       "      <td>180.0</td>\n",
       "    </tr>\n",
       "    <tr>\n",
       "      <th>520</th>\n",
       "      <td>qtw88d9pbl</td>\n",
       "      <td>show</td>\n",
       "      <td>NaN</td>\n",
       "      <td>NaN</td>\n",
       "      <td>Mac Desktop</td>\n",
       "      <td>94.0</td>\n",
       "    </tr>\n",
       "    <tr>\n",
       "      <th>522</th>\n",
       "      <td>qtw88d9pbl</td>\n",
       "      <td>show</td>\n",
       "      <td>view</td>\n",
       "      <td>p3</td>\n",
       "      <td>Mac Desktop</td>\n",
       "      <td>2333.0</td>\n",
       "    </tr>\n",
       "    <tr>\n",
       "      <th>585</th>\n",
       "      <td>qtw88d9pbl</td>\n",
       "      <td>similar_listings</td>\n",
       "      <td>data</td>\n",
       "      <td>similar_listings</td>\n",
       "      <td>Mac Desktop</td>\n",
       "      <td>193.0</td>\n",
       "    </tr>\n",
       "    <tr>\n",
       "      <th>...</th>\n",
       "      <td>...</td>\n",
       "      <td>...</td>\n",
       "      <td>...</td>\n",
       "      <td>...</td>\n",
       "      <td>...</td>\n",
       "      <td>...</td>\n",
       "    </tr>\n",
       "    <tr>\n",
       "      <th>10566867</th>\n",
       "      <td>gpijioh4eh</td>\n",
       "      <td>similar_listings</td>\n",
       "      <td>data</td>\n",
       "      <td>similar_listings</td>\n",
       "      <td>Mac Desktop</td>\n",
       "      <td>171.0</td>\n",
       "    </tr>\n",
       "    <tr>\n",
       "      <th>10567053</th>\n",
       "      <td>3ptlvdxss9</td>\n",
       "      <td>personalize</td>\n",
       "      <td>data</td>\n",
       "      <td>wishlist_content_update</td>\n",
       "      <td>Windows Desktop</td>\n",
       "      <td>2840.0</td>\n",
       "    </tr>\n",
       "    <tr>\n",
       "      <th>10567058</th>\n",
       "      <td>3ptlvdxss9</td>\n",
       "      <td>personalize</td>\n",
       "      <td>data</td>\n",
       "      <td>wishlist_content_update</td>\n",
       "      <td>Windows Desktop</td>\n",
       "      <td>2840.0</td>\n",
       "    </tr>\n",
       "    <tr>\n",
       "      <th>10567675</th>\n",
       "      <td>fa6260ziny</td>\n",
       "      <td>personalize</td>\n",
       "      <td>data</td>\n",
       "      <td>wishlist_content_update</td>\n",
       "      <td>Windows Desktop</td>\n",
       "      <td>69.0</td>\n",
       "    </tr>\n",
       "    <tr>\n",
       "      <th>10567705</th>\n",
       "      <td>fa6260ziny</td>\n",
       "      <td>personalize</td>\n",
       "      <td>data</td>\n",
       "      <td>wishlist_content_update</td>\n",
       "      <td>Windows Desktop</td>\n",
       "      <td>69.0</td>\n",
       "    </tr>\n",
       "  </tbody>\n",
       "</table>\n",
       "<p>436532 rows × 6 columns</p>\n",
       "</div>"
      ],
      "text/plain": [
       "             user_id            action action_type            action_detail  \\\n",
       "420       qtw88d9pbl              show         NaN                      NaN   \n",
       "430       qtw88d9pbl              show         NaN                      NaN   \n",
       "520       qtw88d9pbl              show         NaN                      NaN   \n",
       "522       qtw88d9pbl              show        view                       p3   \n",
       "585       qtw88d9pbl  similar_listings        data         similar_listings   \n",
       "...              ...               ...         ...                      ...   \n",
       "10566867  gpijioh4eh  similar_listings        data         similar_listings   \n",
       "10567053  3ptlvdxss9       personalize        data  wishlist_content_update   \n",
       "10567058  3ptlvdxss9       personalize        data  wishlist_content_update   \n",
       "10567675  fa6260ziny       personalize        data  wishlist_content_update   \n",
       "10567705  fa6260ziny       personalize        data  wishlist_content_update   \n",
       "\n",
       "              device_type  secs_elapsed  \n",
       "420           Mac Desktop         180.0  \n",
       "430           Mac Desktop         180.0  \n",
       "520           Mac Desktop          94.0  \n",
       "522           Mac Desktop        2333.0  \n",
       "585           Mac Desktop         193.0  \n",
       "...                   ...           ...  \n",
       "10566867      Mac Desktop         171.0  \n",
       "10567053  Windows Desktop        2840.0  \n",
       "10567058  Windows Desktop        2840.0  \n",
       "10567675  Windows Desktop          69.0  \n",
       "10567705  Windows Desktop          69.0  \n",
       "\n",
       "[436532 rows x 6 columns]"
      ]
     },
     "execution_count": 158,
     "metadata": {},
     "output_type": "execute_result"
    }
   ],
   "source": [
    "df_sessions_01[df_sessions_01.duplicated(subset=None, keep=False)]"
   ]
  },
  {
   "cell_type": "markdown",
   "id": "9027987e",
   "metadata": {},
   "source": [
    "# 4.0 Descriptive Statistics"
   ]
  },
  {
   "cell_type": "markdown",
   "id": "d14a0576",
   "metadata": {},
   "source": [
    "## Users "
   ]
  },
  {
   "cell_type": "code",
   "execution_count": 159,
   "id": "f1cef140",
   "metadata": {
    "ExecuteTime": {
     "end_time": "2023-09-18T17:32:33.270579Z",
     "start_time": "2023-09-18T17:32:33.121428Z"
    }
   },
   "outputs": [],
   "source": [
    "df_users_02 = df_users_01.copy()\n",
    "df_users_02.drop('id', axis=1, inplace=True)"
   ]
  },
  {
   "cell_type": "code",
   "execution_count": 160,
   "id": "36c9988e",
   "metadata": {
    "ExecuteTime": {
     "end_time": "2023-09-18T17:32:33.323621Z",
     "start_time": "2023-09-18T17:32:33.277408Z"
    }
   },
   "outputs": [
    {
     "data": {
      "text/html": [
       "<div>\n",
       "<style scoped>\n",
       "    .dataframe tbody tr th:only-of-type {\n",
       "        vertical-align: middle;\n",
       "    }\n",
       "\n",
       "    .dataframe tbody tr th {\n",
       "        vertical-align: top;\n",
       "    }\n",
       "\n",
       "    .dataframe thead th {\n",
       "        text-align: right;\n",
       "    }\n",
       "</style>\n",
       "<table border=\"1\" class=\"dataframe\">\n",
       "  <thead>\n",
       "    <tr style=\"text-align: right;\">\n",
       "      <th></th>\n",
       "      <th>date_account_created</th>\n",
       "      <th>date_first_booking</th>\n",
       "      <th>gender</th>\n",
       "      <th>age</th>\n",
       "      <th>signup_method</th>\n",
       "      <th>signup_flow</th>\n",
       "      <th>language</th>\n",
       "      <th>affiliate_channel</th>\n",
       "      <th>affiliate_provider</th>\n",
       "      <th>first_affiliate_tracked</th>\n",
       "      <th>signup_app</th>\n",
       "      <th>first_device_type</th>\n",
       "      <th>first_browser</th>\n",
       "      <th>country_destination</th>\n",
       "      <th>date_first_active</th>\n",
       "    </tr>\n",
       "  </thead>\n",
       "  <tbody>\n",
       "    <tr>\n",
       "      <th>0</th>\n",
       "      <td>2010-06-28</td>\n",
       "      <td>NaT</td>\n",
       "      <td>-unknown-</td>\n",
       "      <td>&lt;NA&gt;</td>\n",
       "      <td>facebook</td>\n",
       "      <td>0</td>\n",
       "      <td>en</td>\n",
       "      <td>direct</td>\n",
       "      <td>direct</td>\n",
       "      <td>untracked</td>\n",
       "      <td>Web</td>\n",
       "      <td>Mac Desktop</td>\n",
       "      <td>Chrome</td>\n",
       "      <td>NDF</td>\n",
       "      <td>2009-03-19</td>\n",
       "    </tr>\n",
       "    <tr>\n",
       "      <th>1</th>\n",
       "      <td>2011-05-25</td>\n",
       "      <td>NaT</td>\n",
       "      <td>MALE</td>\n",
       "      <td>38</td>\n",
       "      <td>facebook</td>\n",
       "      <td>0</td>\n",
       "      <td>en</td>\n",
       "      <td>seo</td>\n",
       "      <td>google</td>\n",
       "      <td>untracked</td>\n",
       "      <td>Web</td>\n",
       "      <td>Mac Desktop</td>\n",
       "      <td>Chrome</td>\n",
       "      <td>NDF</td>\n",
       "      <td>2009-05-23</td>\n",
       "    </tr>\n",
       "    <tr>\n",
       "      <th>2</th>\n",
       "      <td>2010-09-28</td>\n",
       "      <td>2010-08-02</td>\n",
       "      <td>FEMALE</td>\n",
       "      <td>56</td>\n",
       "      <td>basic</td>\n",
       "      <td>3</td>\n",
       "      <td>en</td>\n",
       "      <td>direct</td>\n",
       "      <td>direct</td>\n",
       "      <td>untracked</td>\n",
       "      <td>Web</td>\n",
       "      <td>Windows Desktop</td>\n",
       "      <td>IE</td>\n",
       "      <td>US</td>\n",
       "      <td>2009-06-09</td>\n",
       "    </tr>\n",
       "    <tr>\n",
       "      <th>3</th>\n",
       "      <td>2011-12-05</td>\n",
       "      <td>2012-09-08</td>\n",
       "      <td>FEMALE</td>\n",
       "      <td>42</td>\n",
       "      <td>facebook</td>\n",
       "      <td>0</td>\n",
       "      <td>en</td>\n",
       "      <td>direct</td>\n",
       "      <td>direct</td>\n",
       "      <td>untracked</td>\n",
       "      <td>Web</td>\n",
       "      <td>Mac Desktop</td>\n",
       "      <td>Firefox</td>\n",
       "      <td>other</td>\n",
       "      <td>2009-10-31</td>\n",
       "    </tr>\n",
       "    <tr>\n",
       "      <th>4</th>\n",
       "      <td>2010-09-14</td>\n",
       "      <td>2010-02-18</td>\n",
       "      <td>-unknown-</td>\n",
       "      <td>41</td>\n",
       "      <td>basic</td>\n",
       "      <td>0</td>\n",
       "      <td>en</td>\n",
       "      <td>direct</td>\n",
       "      <td>direct</td>\n",
       "      <td>untracked</td>\n",
       "      <td>Web</td>\n",
       "      <td>Mac Desktop</td>\n",
       "      <td>Chrome</td>\n",
       "      <td>US</td>\n",
       "      <td>2009-12-08</td>\n",
       "    </tr>\n",
       "  </tbody>\n",
       "</table>\n",
       "</div>"
      ],
      "text/plain": [
       "  date_account_created date_first_booking     gender   age signup_method  \\\n",
       "0           2010-06-28                NaT  -unknown-  <NA>      facebook   \n",
       "1           2011-05-25                NaT       MALE    38      facebook   \n",
       "2           2010-09-28         2010-08-02     FEMALE    56         basic   \n",
       "3           2011-12-05         2012-09-08     FEMALE    42      facebook   \n",
       "4           2010-09-14         2010-02-18  -unknown-    41         basic   \n",
       "\n",
       "   signup_flow language affiliate_channel affiliate_provider  \\\n",
       "0            0       en            direct             direct   \n",
       "1            0       en               seo             google   \n",
       "2            3       en            direct             direct   \n",
       "3            0       en            direct             direct   \n",
       "4            0       en            direct             direct   \n",
       "\n",
       "  first_affiliate_tracked signup_app first_device_type first_browser  \\\n",
       "0               untracked        Web       Mac Desktop        Chrome   \n",
       "1               untracked        Web       Mac Desktop        Chrome   \n",
       "2               untracked        Web   Windows Desktop            IE   \n",
       "3               untracked        Web       Mac Desktop       Firefox   \n",
       "4               untracked        Web       Mac Desktop        Chrome   \n",
       "\n",
       "  country_destination date_first_active  \n",
       "0                 NDF        2009-03-19  \n",
       "1                 NDF        2009-05-23  \n",
       "2                  US        2009-06-09  \n",
       "3               other        2009-10-31  \n",
       "4                  US        2009-12-08  "
      ]
     },
     "execution_count": 160,
     "metadata": {},
     "output_type": "execute_result"
    }
   ],
   "source": [
    "df_users_02.head()"
   ]
  },
  {
   "cell_type": "code",
   "execution_count": 161,
   "id": "79a41eb6",
   "metadata": {
    "ExecuteTime": {
     "end_time": "2023-09-18T17:32:33.341523Z",
     "start_time": "2023-09-18T17:32:33.324722Z"
    }
   },
   "outputs": [],
   "source": [
    "cat_attributes_users = df_users_02.select_dtypes(include=['object'])\n",
    "num_attributes_users = df_users_02.select_dtypes(include=['int', 'float'])"
   ]
  },
  {
   "cell_type": "markdown",
   "id": "0419ed06",
   "metadata": {
    "heading_collapsed": true
   },
   "source": [
    "### Numerical Attributes"
   ]
  },
  {
   "cell_type": "code",
   "execution_count": 162,
   "id": "11b5b01c",
   "metadata": {
    "ExecuteTime": {
     "end_time": "2023-09-18T17:32:33.476298Z",
     "start_time": "2023-09-18T17:32:33.344536Z"
    },
    "hidden": true
   },
   "outputs": [
    {
     "data": {
      "text/html": [
       "<div>\n",
       "<style scoped>\n",
       "    .dataframe tbody tr th:only-of-type {\n",
       "        vertical-align: middle;\n",
       "    }\n",
       "\n",
       "    .dataframe tbody tr th {\n",
       "        vertical-align: top;\n",
       "    }\n",
       "\n",
       "    .dataframe thead th {\n",
       "        text-align: right;\n",
       "    }\n",
       "</style>\n",
       "<table border=\"1\" class=\"dataframe\">\n",
       "  <thead>\n",
       "    <tr style=\"text-align: right;\">\n",
       "      <th></th>\n",
       "      <th>count</th>\n",
       "      <th>mean</th>\n",
       "      <th>std</th>\n",
       "      <th>min</th>\n",
       "      <th>25%</th>\n",
       "      <th>50%</th>\n",
       "      <th>75%</th>\n",
       "      <th>max</th>\n",
       "      <th>skewness</th>\n",
       "      <th>kurtosis</th>\n",
       "    </tr>\n",
       "  </thead>\n",
       "  <tbody>\n",
       "    <tr>\n",
       "      <th>age</th>\n",
       "      <td>125461.0</td>\n",
       "      <td>49.668335</td>\n",
       "      <td>155.666612</td>\n",
       "      <td>1.0</td>\n",
       "      <td>28.0</td>\n",
       "      <td>34.0</td>\n",
       "      <td>43.0</td>\n",
       "      <td>2014.0</td>\n",
       "      <td>12.422586</td>\n",
       "      <td>153.568929</td>\n",
       "    </tr>\n",
       "    <tr>\n",
       "      <th>signup_flow</th>\n",
       "      <td>213451.0</td>\n",
       "      <td>3.267387</td>\n",
       "      <td>7.637707</td>\n",
       "      <td>0.0</td>\n",
       "      <td>0.0</td>\n",
       "      <td>0.0</td>\n",
       "      <td>0.0</td>\n",
       "      <td>25.0</td>\n",
       "      <td>2.234366</td>\n",
       "      <td>3.324444</td>\n",
       "    </tr>\n",
       "  </tbody>\n",
       "</table>\n",
       "</div>"
      ],
      "text/plain": [
       "                count       mean         std  min   25%   50%   75%     max  \\\n",
       "age          125461.0  49.668335  155.666612  1.0  28.0  34.0  43.0  2014.0   \n",
       "signup_flow  213451.0   3.267387    7.637707  0.0   0.0   0.0   0.0    25.0   \n",
       "\n",
       "              skewness    kurtosis  \n",
       "age          12.422586  153.568929  \n",
       "signup_flow   2.234366    3.324444  "
      ]
     },
     "execution_count": 162,
     "metadata": {},
     "output_type": "execute_result"
    }
   ],
   "source": [
    "m1 = num_attributes_users.describe()\n",
    "m1.loc['skewness'] = num_attributes_users.apply(lambda x: x.skew()).tolist()\n",
    "m1.loc['kurtosis'] = num_attributes_users.apply(lambda x: x.kurtosis()).tolist()\n",
    "m1.T"
   ]
  },
  {
   "cell_type": "markdown",
   "id": "eff2970f",
   "metadata": {
    "hidden": true
   },
   "source": [
    "Pontos para ver se faz sentido:\n",
    "\n",
    "* idade minima 1 e máxima 2015?\n",
    "* signup_flow maximo 25?\n",
    "\n",
    "Interpretação das métricas:\n",
    "\n",
    "* skewness da idade é positiva (cauda a direita), mas isso é provavelmente devido aos outliers que tem na variável idade."
   ]
  },
  {
   "cell_type": "code",
   "execution_count": 163,
   "id": "cc47d098",
   "metadata": {
    "ExecuteTime": {
     "end_time": "2023-09-18T17:32:33.876411Z",
     "start_time": "2023-09-18T17:32:33.476298Z"
    },
    "hidden": true
   },
   "outputs": [
    {
     "data": {
      "image/png": "[encoded data removed]",
      "text/plain": [
       "<Figure size 432x288 with 1 Axes>"
      ]
     },
     "metadata": {
      "needs_background": "light"
     },
     "output_type": "display_data"
    }
   ],
   "source": [
    "df_users_02.age.hist(bins=50)\n",
    "plt.show()"
   ]
  },
  {
   "cell_type": "code",
   "execution_count": 164,
   "id": "c3097f4b",
   "metadata": {
    "ExecuteTime": {
     "end_time": "2023-09-18T17:32:34.110075Z",
     "start_time": "2023-09-18T17:32:33.876411Z"
    },
    "hidden": true
   },
   "outputs": [
    {
     "data": {
      "image/png": "[encoded data removed]",
      "text/plain": [
       "<Figure size 432x288 with 1 Axes>"
      ]
     },
     "metadata": {
      "needs_background": "light"
     },
     "output_type": "display_data"
    }
   ],
   "source": [
    "sns.countplot(data=df_users_02, x='signup_flow')\n",
    "plt.show()"
   ]
  },
  {
   "cell_type": "markdown",
   "id": "38806d9b",
   "metadata": {
    "heading_collapsed": true
   },
   "source": [
    "### Categorical Attributes"
   ]
  },
  {
   "cell_type": "code",
   "execution_count": 165,
   "id": "70a55488",
   "metadata": {
    "ExecuteTime": {
     "end_time": "2023-09-18T17:32:34.376961Z",
     "start_time": "2023-09-18T17:32:34.110075Z"
    },
    "hidden": true
   },
   "outputs": [
    {
     "data": {
      "text/html": [
       "<div>\n",
       "<style scoped>\n",
       "    .dataframe tbody tr th:only-of-type {\n",
       "        vertical-align: middle;\n",
       "    }\n",
       "\n",
       "    .dataframe tbody tr th {\n",
       "        vertical-align: top;\n",
       "    }\n",
       "\n",
       "    .dataframe thead th {\n",
       "        text-align: right;\n",
       "    }\n",
       "</style>\n",
       "<table border=\"1\" class=\"dataframe\">\n",
       "  <thead>\n",
       "    <tr style=\"text-align: right;\">\n",
       "      <th></th>\n",
       "      <th>gender</th>\n",
       "      <th>signup_method</th>\n",
       "      <th>language</th>\n",
       "      <th>affiliate_channel</th>\n",
       "      <th>affiliate_provider</th>\n",
       "      <th>first_affiliate_tracked</th>\n",
       "      <th>signup_app</th>\n",
       "      <th>first_device_type</th>\n",
       "      <th>first_browser</th>\n",
       "      <th>country_destination</th>\n",
       "    </tr>\n",
       "  </thead>\n",
       "  <tbody>\n",
       "    <tr>\n",
       "      <th>count</th>\n",
       "      <td>213451</td>\n",
       "      <td>213451</td>\n",
       "      <td>213451</td>\n",
       "      <td>213451</td>\n",
       "      <td>213451</td>\n",
       "      <td>207386</td>\n",
       "      <td>213451</td>\n",
       "      <td>213451</td>\n",
       "      <td>213451</td>\n",
       "      <td>213451</td>\n",
       "    </tr>\n",
       "    <tr>\n",
       "      <th>unique</th>\n",
       "      <td>4</td>\n",
       "      <td>3</td>\n",
       "      <td>25</td>\n",
       "      <td>8</td>\n",
       "      <td>18</td>\n",
       "      <td>7</td>\n",
       "      <td>4</td>\n",
       "      <td>9</td>\n",
       "      <td>52</td>\n",
       "      <td>12</td>\n",
       "    </tr>\n",
       "    <tr>\n",
       "      <th>top</th>\n",
       "      <td>-unknown-</td>\n",
       "      <td>basic</td>\n",
       "      <td>en</td>\n",
       "      <td>direct</td>\n",
       "      <td>direct</td>\n",
       "      <td>untracked</td>\n",
       "      <td>Web</td>\n",
       "      <td>Mac Desktop</td>\n",
       "      <td>Chrome</td>\n",
       "      <td>NDF</td>\n",
       "    </tr>\n",
       "    <tr>\n",
       "      <th>freq</th>\n",
       "      <td>95688</td>\n",
       "      <td>152897</td>\n",
       "      <td>206314</td>\n",
       "      <td>137727</td>\n",
       "      <td>137426</td>\n",
       "      <td>109232</td>\n",
       "      <td>182717</td>\n",
       "      <td>89600</td>\n",
       "      <td>63845</td>\n",
       "      <td>124543</td>\n",
       "    </tr>\n",
       "  </tbody>\n",
       "</table>\n",
       "</div>"
      ],
      "text/plain": [
       "           gender signup_method language affiliate_channel affiliate_provider  \\\n",
       "count      213451        213451   213451            213451             213451   \n",
       "unique          4             3       25                 8                 18   \n",
       "top     -unknown-         basic       en            direct             direct   \n",
       "freq        95688        152897   206314            137727             137426   \n",
       "\n",
       "       first_affiliate_tracked signup_app first_device_type first_browser  \\\n",
       "count                   207386     213451            213451        213451   \n",
       "unique                       7          4                 9            52   \n",
       "top                  untracked        Web       Mac Desktop        Chrome   \n",
       "freq                    109232     182717             89600         63845   \n",
       "\n",
       "       country_destination  \n",
       "count               213451  \n",
       "unique                  12  \n",
       "top                    NDF  \n",
       "freq                124543  "
      ]
     },
     "execution_count": 165,
     "metadata": {},
     "output_type": "execute_result"
    }
   ],
   "source": [
    "cat_attributes_users.describe()"
   ]
  },
  {
   "cell_type": "code",
   "execution_count": 166,
   "id": "33c717a9",
   "metadata": {
    "ExecuteTime": {
     "end_time": "2023-09-18T17:32:37.403649Z",
     "start_time": "2023-09-18T17:32:34.376961Z"
    },
    "hidden": true,
    "scrolled": true
   },
   "outputs": [
    {
     "name": "stdout",
     "output_type": "stream",
     "text": [
      "gender: \n",
      "['-unknown-' 'MALE' 'FEMALE' 'OTHER'] \n",
      "\n"
     ]
    },
    {
     "data": {
      "image/png": "[encoded data removed]",
      "text/plain": [
       "<Figure size 1080x216 with 1 Axes>"
      ]
     },
     "metadata": {
      "needs_background": "light"
     },
     "output_type": "display_data"
    },
    {
     "name": "stdout",
     "output_type": "stream",
     "text": [
      "signup_method: \n",
      "['facebook' 'basic' 'google'] \n",
      "\n"
     ]
    },
    {
     "data": {
      "image/png": "[encoded data removed]",
      "text/plain": [
       "<Figure size 1080x216 with 1 Axes>"
      ]
     },
     "metadata": {
      "needs_background": "light"
     },
     "output_type": "display_data"
    },
    {
     "name": "stdout",
     "output_type": "stream",
     "text": [
      "language: \n",
      "['en' 'fr' 'de' 'es' 'it' 'pt' 'zh' 'ko' 'ja' 'ru' 'pl' 'el' 'sv' 'nl'\n",
      " 'hu' 'da' 'id' 'fi' 'no' 'tr' 'th' 'cs' 'hr' 'ca' 'is'] \n",
      "\n"
     ]
    },
    {
     "data": {
      "image/png": "[encoded data removed]",
      "text/plain": [
       "<Figure size 1080x216 with 1 Axes>"
      ]
     },
     "metadata": {
      "needs_background": "light"
     },
     "output_type": "display_data"
    },
    {
     "name": "stdout",
     "output_type": "stream",
     "text": [
      "affiliate_channel: \n",
      "['direct' 'seo' 'other' 'sem-non-brand' 'content' 'sem-brand'\n",
      " 'remarketing' 'api'] \n",
      "\n"
     ]
    },
    {
     "data": {
      "image/png": "[encoded data removed]",
      "text/plain": [
       "<Figure size 1080x216 with 1 Axes>"
      ]
     },
     "metadata": {
      "needs_background": "light"
     },
     "output_type": "display_data"
    },
    {
     "name": "stdout",
     "output_type": "stream",
     "text": [
      "affiliate_provider: \n",
      "['direct' 'google' 'other' 'craigslist' 'facebook' 'vast' 'bing' 'meetup'\n",
      " 'facebook-open-graph' 'email-marketing' 'yahoo' 'padmapper' 'gsp' 'wayn'\n",
      " 'naver' 'baidu' 'yandex' 'daum'] \n",
      "\n"
     ]
    },
    {
     "data": {
      "image/png": "[encoded data removed]",
      "text/plain": [
       "<Figure size 1080x216 with 1 Axes>"
      ]
     },
     "metadata": {
      "needs_background": "light"
     },
     "output_type": "display_data"
    },
    {
     "name": "stdout",
     "output_type": "stream",
     "text": [
      "first_affiliate_tracked: \n",
      "['untracked' 'omg' nan 'linked' 'tracked-other' 'product' 'marketing'\n",
      " 'local ops'] \n",
      "\n"
     ]
    },
    {
     "data": {
      "image/png": "[encoded data removed]",
      "text/plain": [
       "<Figure size 1080x216 with 1 Axes>"
      ]
     },
     "metadata": {
      "needs_background": "light"
     },
     "output_type": "display_data"
    },
    {
     "name": "stdout",
     "output_type": "stream",
     "text": [
      "signup_app: \n",
      "['Web' 'Moweb' 'iOS' 'Android'] \n",
      "\n"
     ]
    },
    {
     "data": {
      "image/png": "[encoded data removed]",
      "text/plain": [
       "<Figure size 1080x216 with 1 Axes>"
      ]
     },
     "metadata": {
      "needs_background": "light"
     },
     "output_type": "display_data"
    },
    {
     "name": "stdout",
     "output_type": "stream",
     "text": [
      "first_device_type: \n",
      "['Mac Desktop' 'Windows Desktop' 'iPhone' 'Other/Unknown'\n",
      " 'Desktop (Other)' 'Android Tablet' 'iPad' 'Android Phone'\n",
      " 'SmartPhone (Other)'] \n",
      "\n"
     ]
    },
    {
     "data": {
      "image/png": "[encoded data removed]",
      "text/plain": [
       "<Figure size 1080x216 with 1 Axes>"
      ]
     },
     "metadata": {
      "needs_background": "light"
     },
     "output_type": "display_data"
    },
    {
     "name": "stdout",
     "output_type": "stream",
     "text": [
      "first_browser: \n",
      "['Chrome' 'IE' 'Firefox' 'Safari' '-unknown-' 'Mobile Safari'\n",
      " 'Chrome Mobile' 'RockMelt' 'Chromium' 'Android Browser' 'AOL Explorer'\n",
      " 'Palm Pre web browser' 'Mobile Firefox' 'Opera' 'TenFourFox' 'IE Mobile'\n",
      " 'Apple Mail' 'Silk' 'Camino' 'Arora' 'BlackBerry Browser' 'SeaMonkey'\n",
      " 'Iron' 'Sogou Explorer' 'IceWeasel' 'Opera Mini' 'SiteKiosk' 'Maxthon'\n",
      " 'Kindle Browser' 'CoolNovo' 'Conkeror' 'wOSBrowser' 'Google Earth'\n",
      " 'Crazy Browser' 'Mozilla' 'OmniWeb' 'PS Vita browser' 'NetNewsWire'\n",
      " 'CometBird' 'Comodo Dragon' 'Flock' 'Pale Moon' 'Avant Browser'\n",
      " 'Opera Mobile' 'Yandex.Browser' 'TheWorld Browser' 'SlimBrowser' 'Epic'\n",
      " 'Stainless' 'Googlebot' 'Outlook 2007' 'IceDragon'] \n",
      "\n"
     ]
    },
    {
     "data": {
      "image/png": "[encoded data removed]",
      "text/plain": [
       "<Figure size 1080x216 with 1 Axes>"
      ]
     },
     "metadata": {
      "needs_background": "light"
     },
     "output_type": "display_data"
    },
    {
     "name": "stdout",
     "output_type": "stream",
     "text": [
      "country_destination: \n",
      "['NDF' 'US' 'other' 'FR' 'CA' 'GB' 'ES' 'IT' 'PT' 'NL' 'DE' 'AU'] \n",
      "\n"
     ]
    },
    {
     "data": {
      "image/png": "[encoded data removed]",
      "text/plain": [
       "<Figure size 1080x216 with 1 Axes>"
      ]
     },
     "metadata": {
      "needs_background": "light"
     },
     "output_type": "display_data"
    }
   ],
   "source": [
    "for col in cat_attributes_users.columns:\n",
    "    print(f'{col}: \\n{cat_attributes_users[col].unique()} \\n')\n",
    "    plt.figure(figsize=(15,3))\n",
    "    sns.countplot(data=cat_attributes_users, x=col)\n",
    "    plt.xticks(rotation=90)\n",
    "    plt.show()"
   ]
  },
  {
   "cell_type": "markdown",
   "id": "01e70b83",
   "metadata": {
    "heading_collapsed": true
   },
   "source": [
    "## Sessions"
   ]
  },
  {
   "cell_type": "code",
   "execution_count": 167,
   "id": "cf6e5499",
   "metadata": {
    "ExecuteTime": {
     "end_time": "2023-09-18T17:32:38.030872Z",
     "start_time": "2023-09-18T17:32:37.403649Z"
    },
    "hidden": true
   },
   "outputs": [],
   "source": [
    "df_sessions_02 = df_sessions_01.copy()\n",
    "df_sessions_02.drop('user_id', axis=1, inplace=True)"
   ]
  },
  {
   "cell_type": "code",
   "execution_count": 168,
   "id": "f4076985",
   "metadata": {
    "ExecuteTime": {
     "end_time": "2023-09-18T17:32:38.046141Z",
     "start_time": "2023-09-18T17:32:38.030872Z"
    },
    "hidden": true
   },
   "outputs": [
    {
     "data": {
      "text/html": [
       "<div>\n",
       "<style scoped>\n",
       "    .dataframe tbody tr th:only-of-type {\n",
       "        vertical-align: middle;\n",
       "    }\n",
       "\n",
       "    .dataframe tbody tr th {\n",
       "        vertical-align: top;\n",
       "    }\n",
       "\n",
       "    .dataframe thead th {\n",
       "        text-align: right;\n",
       "    }\n",
       "</style>\n",
       "<table border=\"1\" class=\"dataframe\">\n",
       "  <thead>\n",
       "    <tr style=\"text-align: right;\">\n",
       "      <th></th>\n",
       "      <th>action</th>\n",
       "      <th>action_type</th>\n",
       "      <th>action_detail</th>\n",
       "      <th>device_type</th>\n",
       "      <th>secs_elapsed</th>\n",
       "    </tr>\n",
       "  </thead>\n",
       "  <tbody>\n",
       "    <tr>\n",
       "      <th>0</th>\n",
       "      <td>lookup</td>\n",
       "      <td>NaN</td>\n",
       "      <td>NaN</td>\n",
       "      <td>Windows Desktop</td>\n",
       "      <td>319.0</td>\n",
       "    </tr>\n",
       "    <tr>\n",
       "      <th>1</th>\n",
       "      <td>search_results</td>\n",
       "      <td>click</td>\n",
       "      <td>view_search_results</td>\n",
       "      <td>Windows Desktop</td>\n",
       "      <td>67753.0</td>\n",
       "    </tr>\n",
       "    <tr>\n",
       "      <th>2</th>\n",
       "      <td>lookup</td>\n",
       "      <td>NaN</td>\n",
       "      <td>NaN</td>\n",
       "      <td>Windows Desktop</td>\n",
       "      <td>301.0</td>\n",
       "    </tr>\n",
       "    <tr>\n",
       "      <th>3</th>\n",
       "      <td>search_results</td>\n",
       "      <td>click</td>\n",
       "      <td>view_search_results</td>\n",
       "      <td>Windows Desktop</td>\n",
       "      <td>22141.0</td>\n",
       "    </tr>\n",
       "    <tr>\n",
       "      <th>4</th>\n",
       "      <td>lookup</td>\n",
       "      <td>NaN</td>\n",
       "      <td>NaN</td>\n",
       "      <td>Windows Desktop</td>\n",
       "      <td>435.0</td>\n",
       "    </tr>\n",
       "  </tbody>\n",
       "</table>\n",
       "</div>"
      ],
      "text/plain": [
       "           action action_type        action_detail      device_type  \\\n",
       "0          lookup         NaN                  NaN  Windows Desktop   \n",
       "1  search_results       click  view_search_results  Windows Desktop   \n",
       "2          lookup         NaN                  NaN  Windows Desktop   \n",
       "3  search_results       click  view_search_results  Windows Desktop   \n",
       "4          lookup         NaN                  NaN  Windows Desktop   \n",
       "\n",
       "   secs_elapsed  \n",
       "0         319.0  \n",
       "1       67753.0  \n",
       "2         301.0  \n",
       "3       22141.0  \n",
       "4         435.0  "
      ]
     },
     "execution_count": 168,
     "metadata": {},
     "output_type": "execute_result"
    }
   ],
   "source": [
    "df_sessions_02.head()"
   ]
  },
  {
   "cell_type": "code",
   "execution_count": 169,
   "id": "08485f4e",
   "metadata": {
    "ExecuteTime": {
     "end_time": "2023-09-18T17:32:38.060609Z",
     "start_time": "2023-09-18T17:32:38.049138Z"
    },
    "hidden": true
   },
   "outputs": [],
   "source": [
    "cat_attributes_sessions = df_sessions_02.select_dtypes(include=['object'])\n",
    "num_attributes_sessions = df_sessions_02.select_dtypes(include=['int', 'float'])"
   ]
  },
  {
   "cell_type": "markdown",
   "id": "8244ab3f",
   "metadata": {
    "heading_collapsed": true,
    "hidden": true
   },
   "source": [
    "### Numerical Attributes"
   ]
  },
  {
   "cell_type": "code",
   "execution_count": 170,
   "id": "8ce06f13",
   "metadata": {
    "ExecuteTime": {
     "end_time": "2023-09-18T17:32:38.883571Z",
     "start_time": "2023-09-18T17:32:38.060609Z"
    },
    "hidden": true
   },
   "outputs": [
    {
     "data": {
      "text/html": [
       "<div>\n",
       "<style scoped>\n",
       "    .dataframe tbody tr th:only-of-type {\n",
       "        vertical-align: middle;\n",
       "    }\n",
       "\n",
       "    .dataframe tbody tr th {\n",
       "        vertical-align: top;\n",
       "    }\n",
       "\n",
       "    .dataframe thead th {\n",
       "        text-align: right;\n",
       "    }\n",
       "</style>\n",
       "<table border=\"1\" class=\"dataframe\">\n",
       "  <thead>\n",
       "    <tr style=\"text-align: right;\">\n",
       "      <th></th>\n",
       "      <th>count</th>\n",
       "      <th>mean</th>\n",
       "      <th>std</th>\n",
       "      <th>min</th>\n",
       "      <th>25%</th>\n",
       "      <th>50%</th>\n",
       "      <th>75%</th>\n",
       "      <th>max</th>\n",
       "      <th>skewness</th>\n",
       "      <th>kurtosis</th>\n",
       "    </tr>\n",
       "  </thead>\n",
       "  <tbody>\n",
       "    <tr>\n",
       "      <th>secs_elapsed</th>\n",
       "      <td>10431706.0</td>\n",
       "      <td>19405.810751</td>\n",
       "      <td>88884.243208</td>\n",
       "      <td>0.0</td>\n",
       "      <td>229.0</td>\n",
       "      <td>1147.0</td>\n",
       "      <td>8444.0</td>\n",
       "      <td>1799977.0</td>\n",
       "      <td>11.141939</td>\n",
       "      <td>154.748944</td>\n",
       "    </tr>\n",
       "  </tbody>\n",
       "</table>\n",
       "</div>"
      ],
      "text/plain": [
       "                   count          mean           std  min    25%     50%  \\\n",
       "secs_elapsed  10431706.0  19405.810751  88884.243208  0.0  229.0  1147.0   \n",
       "\n",
       "                 75%        max   skewness    kurtosis  \n",
       "secs_elapsed  8444.0  1799977.0  11.141939  154.748944  "
      ]
     },
     "execution_count": 170,
     "metadata": {},
     "output_type": "execute_result"
    }
   ],
   "source": [
    "m2 = num_attributes_sessions.describe()\n",
    "m2.loc['skewness'] = num_attributes_sessions.apply(lambda x: x.skew()).tolist()\n",
    "m2.loc['kurtosis'] = num_attributes_sessions.apply(lambda x: x.kurtosis()).tolist()\n",
    "m2.T"
   ]
  },
  {
   "cell_type": "markdown",
   "id": "cad4d163",
   "metadata": {
    "hidden": true
   },
   "source": [
    "* 0 segundos?\n",
    "* ver se o tempo máximo não é muito outlier"
   ]
  },
  {
   "cell_type": "code",
   "execution_count": 171,
   "id": "b06bbf3f",
   "metadata": {
    "ExecuteTime": {
     "end_time": "2023-09-18T17:32:39.271053Z",
     "start_time": "2023-09-18T17:32:38.883571Z"
    },
    "hidden": true
   },
   "outputs": [
    {
     "data": {
      "image/png": "[encoded data removed]",
      "text/plain": [
       "<Figure size 432x288 with 1 Axes>"
      ]
     },
     "metadata": {
      "needs_background": "light"
     },
     "output_type": "display_data"
    }
   ],
   "source": [
    "df_sessions_02.secs_elapsed.hist(bins=50)\n",
    "plt.show()"
   ]
  },
  {
   "cell_type": "markdown",
   "id": "d254412e",
   "metadata": {
    "heading_collapsed": true,
    "hidden": true
   },
   "source": [
    "### Categorical Attributes"
   ]
  },
  {
   "cell_type": "code",
   "execution_count": 172,
   "id": "67da880a",
   "metadata": {
    "ExecuteTime": {
     "end_time": "2023-09-18T17:32:43.055796Z",
     "start_time": "2023-09-18T17:32:39.273061Z"
    },
    "hidden": true
   },
   "outputs": [
    {
     "data": {
      "text/html": [
       "<div>\n",
       "<style scoped>\n",
       "    .dataframe tbody tr th:only-of-type {\n",
       "        vertical-align: middle;\n",
       "    }\n",
       "\n",
       "    .dataframe tbody tr th {\n",
       "        vertical-align: top;\n",
       "    }\n",
       "\n",
       "    .dataframe thead th {\n",
       "        text-align: right;\n",
       "    }\n",
       "</style>\n",
       "<table border=\"1\" class=\"dataframe\">\n",
       "  <thead>\n",
       "    <tr style=\"text-align: right;\">\n",
       "      <th></th>\n",
       "      <th>action</th>\n",
       "      <th>action_type</th>\n",
       "      <th>action_detail</th>\n",
       "      <th>device_type</th>\n",
       "    </tr>\n",
       "  </thead>\n",
       "  <tbody>\n",
       "    <tr>\n",
       "      <th>count</th>\n",
       "      <td>10488111</td>\n",
       "      <td>9441533</td>\n",
       "      <td>9441533</td>\n",
       "      <td>10567737</td>\n",
       "    </tr>\n",
       "    <tr>\n",
       "      <th>unique</th>\n",
       "      <td>359</td>\n",
       "      <td>10</td>\n",
       "      <td>155</td>\n",
       "      <td>14</td>\n",
       "    </tr>\n",
       "    <tr>\n",
       "      <th>top</th>\n",
       "      <td>show</td>\n",
       "      <td>view</td>\n",
       "      <td>view_search_results</td>\n",
       "      <td>Mac Desktop</td>\n",
       "    </tr>\n",
       "    <tr>\n",
       "      <th>freq</th>\n",
       "      <td>2768278</td>\n",
       "      <td>3560902</td>\n",
       "      <td>1776885</td>\n",
       "      <td>3594286</td>\n",
       "    </tr>\n",
       "  </tbody>\n",
       "</table>\n",
       "</div>"
      ],
      "text/plain": [
       "          action action_type        action_detail  device_type\n",
       "count   10488111     9441533              9441533     10567737\n",
       "unique       359          10                  155           14\n",
       "top         show        view  view_search_results  Mac Desktop\n",
       "freq     2768278     3560902              1776885      3594286"
      ]
     },
     "execution_count": 172,
     "metadata": {},
     "output_type": "execute_result"
    }
   ],
   "source": [
    "cat_attributes_sessions.describe()"
   ]
  },
  {
   "cell_type": "code",
   "execution_count": 173,
   "id": "45125032",
   "metadata": {
    "ExecuteTime": {
     "end_time": "2023-09-18T17:33:13.089039Z",
     "start_time": "2023-09-18T17:32:43.058422Z"
    },
    "hidden": true,
    "scrolled": true
   },
   "outputs": [
    {
     "name": "stdout",
     "output_type": "stream",
     "text": [
      "action: \n",
      "['lookup' 'search_results' 'personalize' 'index' 'similar_listings'\n",
      " 'ajax_refresh_subtotal' 'show' 'header_userpic' 'ask_question' nan\n",
      " 'other_hosting_reviews_first' 'hosting_social_proof' 'decision_tree'\n",
      " 'recent_reservations' 'faq_experiment_ids' 'multi' 'active' 'dashboard'\n",
      " 'create' 'confirm_email' 'show_personalize' 'verify' 'pending'\n",
      " 'requested' 'concierge' 'faq' 'clear_reservation' 'cancellation_policies'\n",
      " 'track_page_view' 'update' 'my' 'campaigns' 'notifications' 'listings'\n",
      " 'unavailabilities' 'ajax_lwlb_contact' 'ajax_check_dates' 'qt2'\n",
      " 'request_new_confirm_email' 'ajax_photo_widget_form_iframe'\n",
      " 'facebook_auto_login' 'identity' 'qt_reply_v2' 'travel_plans_current'\n",
      " 'complete_status' 'populate_from_facebook' 'kba_update' 'kba' 'login'\n",
      " 'authenticate' 'calendar_tab_inner2' 'other_hosting_reviews'\n",
      " 'social_connections' 'relationship' '15' 'collections' '12'\n",
      " 'jumio_redirect' 'jumio_token' 'login_modal' 'domains'\n",
      " 'toggle_archived_thread' 'search' 'edit_verification' 'edit' 'ajax_ldp'\n",
      " 'connect' 'account' 'delete' 'phone_number_widget' 'callback'\n",
      " 'signup_modal' '10' 'open_graph_setting' 'reviews' 'signup_login'\n",
      " 'payment_instruments' 'payment_methods' 'pay' 'unread' 'at_checkpoint'\n",
      " 'push_notification_callback' 'faq_category' 'localization_settings'\n",
      " 'update_notifications' 'manage_listing' 'set_user' 'references'\n",
      " 'languages_multiselect' 'salute' 'rentals' 'currencies' 'new' 'position'\n",
      " 'populate_help_dropdown' 'popular' 'popular_listing' 'listing'\n",
      " 'available' 'glob' 'this_hosting_reviews' 'widget' 'complete'\n",
      " 'profile_pic' 'signature' 'apply_reservation' 'ajax_statsd' 'travel'\n",
      " 'tos_confirm' 'uptodate' 'ajax_payout_options_by_country'\n",
      " 'payout_preferences' 'payout_update' 'ajax_payout_edit' 'pending_tickets'\n",
      " 'issue' 'contact_new' 'itinerary' 'receipt'\n",
      " 'update_hide_from_search_engines' 'settings' 'privacy' 'reviews_new'\n",
      " 'add_guests' 'ajax_image_upload' 'qt_with' 'webcam_upload' 'friends'\n",
      " 'ajax_google_translate_description' 'trust' 'guarantee' 'supported'\n",
      " 'countries' 'status' 'upload' 'authorize' 'rate' 'remove_dashboard_alert'\n",
      " 'ajax_get_results' 'recommend' 'change_currency'\n",
      " 'transaction_history_paginated' 'transaction_history' 'set_password'\n",
      " 'cancel' 'phone_verification_modal' 'submit_contact' 'detect_fb_session'\n",
      " 'tell_a_friend' 'change' 'clickthrough' 'multi_message_attributes'\n",
      " 'update_friends_display' 'my_listings' 'email_itinerary_colorbox'\n",
      " 'mobile_landing_page' 'create_ach' 'country_options' '11' 'host_2013'\n",
      " 'terms' 'multi_message' 'ajax_send_message' 'airbnb_picks' 'friends_new'\n",
      " 'reputation' 'complete_redirect' 'toggle_starred_thread' 'email_share'\n",
      " 'email_wishlist' 'destroy' 'add_note' 'overview' 'requirements'\n",
      " 'update_reservation_requirements' 'image_order' 'review_page'\n",
      " 'ajax_worth' 'place_worth' 'google_importer' 'change_availability'\n",
      " 'hospitality' 'change_password' 'feed' 'host_summary'\n",
      " 'ajax_price_and_availability' 'jumio' 'guest_booked_elsewhere' 'about_us'\n",
      " 'founders' 'travel_plans_previous' 'why_host' 'hospitality_standards'\n",
      " 'social' 'recommendations' 'update_cached' 'become_user' 'departments'\n",
      " 'department' 'office_location' 'photography' 'preapproval'\n",
      " 'maybe_information' 'toggle_availability' 'payoneer_account_redirect'\n",
      " 'forgot_password' 'new_host' 'payoneer_signup_complete'\n",
      " 'ajax_google_translate' 'onenight' 'approve' 'nyan' 'booking'\n",
      " 'payout_delete' 'change_default_payout' 'envoy_bank_details_redirect'\n",
      " 'respond' 'request_photography' 'zendesk_login_jwt' 'ajax_photo_widget'\n",
      " 'message' 'southern-europe' 'life' 'press_release' 'media_resources'\n",
      " 'press_news' 'referrer_status' 'create_multiple' 'load_more'\n",
      " 'create_paypal' 'locale_from_host' 'terms_and_conditions'\n",
      " 'invalid_action' 'photography_update' 'badge' 'apply' 'redirect'\n",
      " 'pricing' 'apply_code' 'slideshow' 'locations'\n",
      " 'ajax_google_translate_reviews' 'new_session' 'has_profile_pic' 'sublets'\n",
      " 'wishlists' 'reservation' 'localized' 'home_safety_landing' 'click'\n",
      " 'how_it_works' 'ajax_get_referrals_amt' 'phone_verification' 'satisfy'\n",
      " 'city_count' 'recommendation_page' 'press_content'\n",
      " 'guest_billing_receipt' 'ajax_payout_split_edit' 'print_confirmation'\n",
      " 'envoy_form' 'ajax_special_offer_dates_available'\n",
      " 'ajax_referral_banner_experiment_type' 'patch' 'questions'\n",
      " 'home_safety_terms' 'track_activity' 'check' 'sldf'\n",
      " 'recommended_listings' 'mobile_oauth_callback' 'show_code'\n",
      " 'signed_out_modal' 'plaxo_cb' 'views' 'friend_listing'\n",
      " 'ajax_referral_banner_type' 'deactivate' 'sync' 'social-media'\n",
      " 'united-states' 'email_by_key' 'disaster_action' 'views_campaign'\n",
      " 'update_message' 'spoken_languages' 'use_mobile_site' 'deauthorize'\n",
      " 'special_offer' 'top_destinations' 'create_airbnb' 'handle_vanity_url'\n",
      " 'impressions' 'message_to_host_focus' 'cancellation_policy_click'\n",
      " 'message_to_host_change' 'agree_terms_check' 'read_policy_click'\n",
      " 'phone_verification_success'\n",
      " 'phone_verification_number_sucessfully_submitted'\n",
      " 'phone_verification_number_submitted_for_sms'\n",
      " 'phone_verification_phone_number_removed' 'endpoint_error'\n",
      " 'p4_refund_policy_terms' 'apply_coupon_error_type' 'apply_coupon_error'\n",
      " 'apply_coupon_click' 'coupon_field_focus' 'coupon_code_click'\n",
      " 'agree_terms_uncheck' 'p4_terms'\n",
      " 'phone_verification_call_taking_too_long'\n",
      " 'phone_verification_number_submitted_for_call' 'phone_verification_error'\n",
      " 'apply_coupon_click_success' 'set_default' 'update_country_of_residence'\n",
      " 'open_hard_fallback_modal' 'tos_2014' 'views_campaign_rules'\n",
      " 'weibo_signup_referral_finish' 'signup_weibo_referral'\n",
      " 'similar_listings_v2' 'confirmation' 'signup_weibo'\n",
      " 'acculynk_load_pin_pad' 'acculynk_bin_check_success'\n",
      " 'acculynk_session_obtained' 'acculynk_pin_pad_inactive' 'reactivate'\n",
      " 'airbrb' 'desks' 'sandy' 'unsubscribe' 'host_cancel'\n",
      " 'acculynk_bin_check_failed' 'acculynk_pin_pad_error'\n",
      " 'custom_recommended_destinations' 'this_hosting_reviews_3000'\n",
      " 'reset_calendar' 'events' 'business_travel' 'add_guest_colorbox'\n",
      " 'hard_fallback_submit' 'add_business_address_colorbox' 'my_reservations'\n",
      " 'report' 'book' 'revert_to_admin' 'acculynk_pin_pad_success'\n",
      " 'south-america' 'braintree_client_token' 'view' 'stpcv'\n",
      " 'set_minimum_payout_amount' 'support_phone_numbers'\n",
      " 'refund_guest_cancellation' 'accept_decline' 'deactivated'\n",
      " 'rest-of-world'] \n",
      "\n"
     ]
    },
    {
     "data": {
      "image/png": "[encoded data removed]",
      "text/plain": [
       "<Figure size 1080x216 with 1 Axes>"
      ]
     },
     "metadata": {
      "needs_background": "light"
     },
     "output_type": "display_data"
    },
    {
     "name": "stdout",
     "output_type": "stream",
     "text": [
      "action_type: \n",
      "[nan 'click' 'data' 'view' 'submit' 'message_post' '-unknown-'\n",
      " 'booking_request' 'partner_callback' 'booking_response' 'modify'] \n",
      "\n"
     ]
    },
    {
     "data": {
      "image/png": "[encoded data removed]",
      "text/plain": [
       "<Figure size 1080x216 with 1 Axes>"
      ]
     },
     "metadata": {
      "needs_background": "light"
     },
     "output_type": "display_data"
    },
    {
     "name": "stdout",
     "output_type": "stream",
     "text": [
      "action_detail: \n",
      "[nan 'view_search_results' 'wishlist_content_update' 'similar_listings'\n",
      " 'change_trip_characteristics' 'p3' 'header_userpic' 'contact_host'\n",
      " 'message_post' '-unknown-' 'dashboard' 'create_user' 'confirm_email_link'\n",
      " 'user_profile_content_update' 'user_profile' 'pending' 'p5'\n",
      " 'create_phone_numbers' 'cancellation_policies' 'user_wishlists'\n",
      " 'change_contact_host_dates' 'wishlist' 'message_thread'\n",
      " 'request_new_confirm_email' 'send_message' 'your_trips' 'login_page'\n",
      " 'login' 'login_modal' 'toggle_archived_thread' 'p1'\n",
      " 'profile_verifications' 'edit_profile' 'oauth_login'\n",
      " 'post_checkout_action' 'account_notification_settings'\n",
      " 'update_user_profile' 'oauth_response' 'signup_modal' 'signup_login_page'\n",
      " 'at_checkpoint' 'manage_listing' 'create_listing' 'your_listings'\n",
      " 'profile_references' 'list_your_space' 'popular_wishlists'\n",
      " 'listing_reviews_page' 'apply_coupon' 'user_tax_forms'\n",
      " 'account_payout_preferences' 'guest_itinerary' 'guest_receipt'\n",
      " 'account_privacy_settings' 'lookup_message_thread' 'friends_wishlists'\n",
      " 'host_guarantee' 'delete_phone_numbers' 'account_transaction_history'\n",
      " 'set_password' 'guest_cancellation' 'change_or_alter' 'your_reservations'\n",
      " 'terms_and_privacy' 'airbnb_picks_wishlists' 'toggle_starred_thread'\n",
      " 'email_wishlist' 'email_wishlist_button' 'wishlist_note'\n",
      " 'calculate_worth' 'place_worth' 'change_password' 'alteration_field'\n",
      " 'previous_trips' 'update_listing' 'update_listing_description'\n",
      " 'user_reviews' 'update_user' 'notifications' 'user_social_connections'\n",
      " 'unavailable_dates' 'reservations' 'listing_reviews' 'user_listings'\n",
      " 'signup' 'message_inbox' 'trip_availability' 'payment_instruments'\n",
      " 'admin_templates' 'host_home' 'translations' 'forgot_password' 'homepage'\n",
      " 'remove_dashboard_alert' 'user_friend_recommendations' 'confirm_email'\n",
      " 'host_respond' 'booking' 'respond_to_alteration_request'\n",
      " 'alteration_request' 'create_alteration_request' 'delete_listing'\n",
      " 'set_password_page' 'delete_listing_description'\n",
      " 'translate_listing_reviews' 'book_it' 'instant_book' 'request_to_book'\n",
      " 'complete_booking' 'change_availability' 'special_offer_field'\n",
      " 'listing_recommendations' 'view_listing' 'listing_descriptions'\n",
      " 'user_languages' 'p4' 'message_to_host_focus' 'cancellation_policy_click'\n",
      " 'message_to_host_change' 'read_policy_click' 'phone_verification_success'\n",
      " 'p4_refund_policy_terms' 'apply_coupon_error' 'apply_coupon_click'\n",
      " 'coupon_field_focus' 'coupon_code_click' 'p4_terms'\n",
      " 'apply_coupon_click_success' 'tos_2014' 'view_reservations'\n",
      " 'view_locations' 'modify_users' 'view_security_checks' 'phone_numbers'\n",
      " 'profile_reviews' 'modify_reservations' 'view_resolutions'\n",
      " 'account_payment_methods' 'create_payment_instrument'\n",
      " 'set_default_payment_instrument' 'delete_payment_instrument' 'photos'\n",
      " 'click_reviews' 'move_map' 'share' 'cancellation_policy'\n",
      " 'click_about_host' 'click_amenities' 'host_refund_guest'\n",
      " 'host_respond_page' 'view_user_real_names' 'view_identity_verifications'\n",
      " 'view_ghosting_reasons' 'view_ghostings' 'host_standard_suspension'\n",
      " 'deactivate_user_account'] \n",
      "\n"
     ]
    },
    {
     "data": {
      "image/png": "[encoded data removed]",
      "text/plain": [
       "<Figure size 1080x216 with 1 Axes>"
      ]
     },
     "metadata": {
      "needs_background": "light"
     },
     "output_type": "display_data"
    },
    {
     "name": "stdout",
     "output_type": "stream",
     "text": [
      "device_type: \n",
      "['Windows Desktop' '-unknown-' 'Mac Desktop' 'Android Phone' 'iPhone'\n",
      " 'iPad Tablet' 'Android App Unknown Phone/Tablet' 'Linux Desktop' 'Tablet'\n",
      " 'Chromebook' 'Blackberry' 'iPodtouch' 'Windows Phone' 'Opera Phone'] \n",
      "\n"
     ]
    },
    {
     "data": {
      "image/png": "[encoded data removed]",
      "text/plain": [
       "<Figure size 1080x216 with 1 Axes>"
      ]
     },
     "metadata": {
      "needs_background": "light"
     },
     "output_type": "display_data"
    }
   ],
   "source": [
    "for col in cat_attributes_sessions.columns:\n",
    "    print(f'{col}: \\n{cat_attributes_sessions[col].unique()} \\n')\n",
    "    plt.figure(figsize=(15,3))\n",
    "    sns.countplot(data=cat_attributes_sessions, x=col)\n",
    "    plt.xticks(rotation=90)\n",
    "    plt.show()"
   ]
  },
  {
   "cell_type": "markdown",
   "id": "7507e437",
   "metadata": {
    "heading_collapsed": true
   },
   "source": [
    "# 5.0 Data Cleaning"
   ]
  },
  {
   "cell_type": "markdown",
   "id": "b3e30a1b",
   "metadata": {
    "heading_collapsed": true,
    "hidden": true
   },
   "source": [
    "## Users"
   ]
  },
  {
   "cell_type": "code",
   "execution_count": 175,
   "id": "55dbf210",
   "metadata": {
    "ExecuteTime": {
     "end_time": "2023-09-18T17:34:15.552419Z",
     "start_time": "2023-09-18T17:34:15.391579Z"
    },
    "hidden": true
   },
   "outputs": [],
   "source": [
    "# remover outliers da idade\n",
    "q1 = df_users_01['age'].quantile(0.25)\n",
    "q3 = df_users_01['age'].quantile(0.75)\n",
    "\n",
    "iqr = q3 - q1\n",
    "\n",
    "lower_bound = q1 - 1.5*iqr\n",
    "upper_bound = q3 + 1.5*iqr\n",
    "\n",
    "df_users_01 = df_users_01[(df_users_01['age'] >= lower_bound) & (df_users_01['age'] <= upper_bound)]"
   ]
  },
  {
   "cell_type": "code",
   "execution_count": 177,
   "id": "96e54490",
   "metadata": {
    "ExecuteTime": {
     "end_time": "2023-09-18T17:35:16.066774Z",
     "start_time": "2023-09-18T17:35:16.037511Z"
    },
    "hidden": true
   },
   "outputs": [],
   "source": [
    "# na coluna gender substituir '-unknown-' por 'nan'\n",
    "df_users_01.loc[df_users_01['gender'] == '-unknown-', 'gender'] = np.nan\n",
    "\n",
    "# na coluna first_browser substituir '-unknown-' por 'nan'\n",
    "df_users_01.loc[df_users_01['first_browser'] == '-unknown-', 'first_browser'] = np.nan"
   ]
  },
  {
   "cell_type": "code",
   "execution_count": 182,
   "id": "a49354f3",
   "metadata": {
    "ExecuteTime": {
     "end_time": "2023-09-18T17:37:45.382650Z",
     "start_time": "2023-09-18T17:37:45.066366Z"
    },
    "hidden": true
   },
   "outputs": [],
   "source": [
    "# deixar tudo em letra minúscula nas colunas categoricas\n",
    "df_users_01[cat_attributes_users.columns] = df_users_01[cat_attributes_users.columns].apply(lambda x: x.str.lower())"
   ]
  },
  {
   "cell_type": "code",
   "execution_count": 199,
   "id": "aa907c95",
   "metadata": {
    "ExecuteTime": {
     "end_time": "2023-09-18T18:51:03.094328Z",
     "start_time": "2023-09-18T18:51:03.064998Z"
    },
    "hidden": true
   },
   "outputs": [],
   "source": [
    "# preencher date_first_booking com a data de hoje\n",
    "today = datetime.datetime.today().strftime('%Y-%m-%d')\n",
    "df_users_01['date_first_booking'].fillna(today, inplace=True)"
   ]
  },
  {
   "cell_type": "markdown",
   "id": "29b0519f",
   "metadata": {
    "heading_collapsed": true,
    "hidden": true
   },
   "source": [
    "## Sessions"
   ]
  },
  {
   "cell_type": "code",
   "execution_count": 184,
   "id": "44354ea6",
   "metadata": {
    "ExecuteTime": {
     "end_time": "2023-09-18T17:38:41.274121Z",
     "start_time": "2023-09-18T17:38:40.127674Z"
    },
    "hidden": true
   },
   "outputs": [],
   "source": [
    "# remover outliers de secs_elapsed\n",
    "q1 = df_sessions_01['secs_elapsed'].quantile(0.25)\n",
    "q3 = df_sessions_01['secs_elapsed'].quantile(0.75)\n",
    "\n",
    "iqr = q3 - q1\n",
    "\n",
    "lower_bound = q1 - 1.5*iqr\n",
    "upper_bound = q3 + 1.5*iqr\n",
    "\n",
    "df_sessions_01 = df_sessions_01[(df_sessions_01['secs_elapsed'] >= lower_bound) & (df_sessions_01['secs_elapsed'] <= upper_bound)]"
   ]
  },
  {
   "cell_type": "code",
   "execution_count": 185,
   "id": "20d44021",
   "metadata": {
    "ExecuteTime": {
     "end_time": "2023-09-18T17:39:41.869783Z",
     "start_time": "2023-09-18T17:39:40.367209Z"
    },
    "hidden": true
   },
   "outputs": [],
   "source": [
    "# na coluna device_type substituir '-unknown-' por 'nan'\n",
    "df_sessions_01.loc[df_sessions_01['device_type'] == '-unknown-', 'device_type'] = np.nan\n",
    "\n",
    "# na coluna action_detail substituir '-unknown-' por 'nan'\n",
    "df_sessions_01.loc[df_sessions_01['action_detail'] == '-unknown-', 'action_detail'] = np.nan\n",
    "\n",
    "# na coluna action_type substituir '-unknown-' por 'nan'\n",
    "df_sessions_01.loc[df_sessions_01['action_type'] == '-unknown-', 'action_type'] = np.nan"
   ]
  },
  {
   "cell_type": "code",
   "execution_count": 189,
   "id": "55cf8b80",
   "metadata": {
    "ExecuteTime": {
     "end_time": "2023-09-18T18:41:58.665804Z",
     "start_time": "2023-09-18T18:41:00.021397Z"
    },
    "hidden": true
   },
   "outputs": [
    {
     "name": "stderr",
     "output_type": "stream",
     "text": [
      "C:\\Users\\allan\\AppData\\Local\\Temp\\ipykernel_37900\\1355702275.py:2: SettingWithCopyWarning: \n",
      "A value is trying to be set on a copy of a slice from a DataFrame.\n",
      "Try using .loc[row_indexer,col_indexer] = value instead\n",
      "\n",
      "See the caveats in the documentation: https://pandas.pydata.org/pandas-docs/stable/user_guide/indexing.html#returning-a-view-versus-a-copy\n",
      "  df_sessions_01[cat_attributes_sessions.columns] = df_sessions_01[cat_attributes_sessions.columns].apply(lambda x: x.str.lower())\n"
     ]
    }
   ],
   "source": [
    "# deixar tudo em letra minúscula nas colunas categoricas\n",
    "df_sessions_01[cat_attributes_sessions.columns] = df_sessions_01[cat_attributes_sessions.columns].apply(lambda x: x.str.lower())"
   ]
  },
  {
   "cell_type": "code",
   "execution_count": 190,
   "id": "7c27a21d",
   "metadata": {
    "ExecuteTime": {
     "end_time": "2023-09-18T18:41:58.801174Z",
     "start_time": "2023-09-18T18:41:58.681431Z"
    },
    "hidden": true
   },
   "outputs": [
    {
     "data": {
      "text/html": [
       "<div>\n",
       "<style scoped>\n",
       "    .dataframe tbody tr th:only-of-type {\n",
       "        vertical-align: middle;\n",
       "    }\n",
       "\n",
       "    .dataframe tbody tr th {\n",
       "        vertical-align: top;\n",
       "    }\n",
       "\n",
       "    .dataframe thead th {\n",
       "        text-align: right;\n",
       "    }\n",
       "</style>\n",
       "<table border=\"1\" class=\"dataframe\">\n",
       "  <thead>\n",
       "    <tr style=\"text-align: right;\">\n",
       "      <th></th>\n",
       "      <th>user_id</th>\n",
       "      <th>action</th>\n",
       "      <th>action_type</th>\n",
       "      <th>action_detail</th>\n",
       "      <th>device_type</th>\n",
       "      <th>secs_elapsed</th>\n",
       "    </tr>\n",
       "  </thead>\n",
       "  <tbody>\n",
       "    <tr>\n",
       "      <th>0</th>\n",
       "      <td>d1mm9tcy42</td>\n",
       "      <td>lookup</td>\n",
       "      <td>NaN</td>\n",
       "      <td>NaN</td>\n",
       "      <td>windows desktop</td>\n",
       "      <td>319.0</td>\n",
       "    </tr>\n",
       "    <tr>\n",
       "      <th>2</th>\n",
       "      <td>d1mm9tcy42</td>\n",
       "      <td>lookup</td>\n",
       "      <td>NaN</td>\n",
       "      <td>NaN</td>\n",
       "      <td>windows desktop</td>\n",
       "      <td>301.0</td>\n",
       "    </tr>\n",
       "    <tr>\n",
       "      <th>4</th>\n",
       "      <td>d1mm9tcy42</td>\n",
       "      <td>lookup</td>\n",
       "      <td>NaN</td>\n",
       "      <td>NaN</td>\n",
       "      <td>windows desktop</td>\n",
       "      <td>435.0</td>\n",
       "    </tr>\n",
       "    <tr>\n",
       "      <th>5</th>\n",
       "      <td>d1mm9tcy42</td>\n",
       "      <td>search_results</td>\n",
       "      <td>click</td>\n",
       "      <td>view_search_results</td>\n",
       "      <td>windows desktop</td>\n",
       "      <td>7703.0</td>\n",
       "    </tr>\n",
       "    <tr>\n",
       "      <th>6</th>\n",
       "      <td>d1mm9tcy42</td>\n",
       "      <td>lookup</td>\n",
       "      <td>NaN</td>\n",
       "      <td>NaN</td>\n",
       "      <td>windows desktop</td>\n",
       "      <td>115.0</td>\n",
       "    </tr>\n",
       "  </tbody>\n",
       "</table>\n",
       "</div>"
      ],
      "text/plain": [
       "      user_id          action action_type        action_detail  \\\n",
       "0  d1mm9tcy42          lookup         NaN                  NaN   \n",
       "2  d1mm9tcy42          lookup         NaN                  NaN   \n",
       "4  d1mm9tcy42          lookup         NaN                  NaN   \n",
       "5  d1mm9tcy42  search_results       click  view_search_results   \n",
       "6  d1mm9tcy42          lookup         NaN                  NaN   \n",
       "\n",
       "       device_type  secs_elapsed  \n",
       "0  windows desktop         319.0  \n",
       "2  windows desktop         301.0  \n",
       "4  windows desktop         435.0  \n",
       "5  windows desktop        7703.0  \n",
       "6  windows desktop         115.0  "
      ]
     },
     "execution_count": 190,
     "metadata": {},
     "output_type": "execute_result"
    }
   ],
   "source": [
    "df_sessions_01.head()"
   ]
  },
  {
   "cell_type": "markdown",
   "id": "8ca86595",
   "metadata": {
    "ExecuteTime": {
     "end_time": "2023-05-10T13:32:43.176121Z",
     "start_time": "2023-05-10T13:32:43.172115Z"
    }
   },
   "source": [
    "# 6.0 Feature Engineering"
   ]
  },
  {
   "cell_type": "markdown",
   "id": "2afff53f",
   "metadata": {
    "heading_collapsed": true
   },
   "source": [
    "## Users"
   ]
  },
  {
   "cell_type": "code",
   "execution_count": null,
   "id": "7faa51e2",
   "metadata": {
    "ExecuteTime": {
     "end_time": "2023-09-18T18:54:34.290965Z",
     "start_time": "2023-09-18T18:54:34.246444Z"
    },
    "hidden": true
   },
   "outputs": [],
   "source": [
    "#diferença de dias entre a date_first_booking e date_account_created\n",
    "df_users_01['delta1'] = (df_users_01['date_first_booking'] - df_users_01['date_account_created']).dt.days\n",
    "\n",
    "#diferença de dias entre date_first_booking e date_first_active\n",
    "df_users_01['delta2'] = (df_users_01['date_first_booking'] - df_users_01['date_first_active']).dt.days\n",
    "\n",
    "#diferença de dias entre date_account_created e date_first_active\n",
    "df_users_01['delta3'] = (df_users_01['date_account_created'] - df_users_01['date_first_active']).dt.days"
   ]
  },
  {
   "cell_type": "code",
   "execution_count": 227,
   "id": "d4d110e3",
   "metadata": {
    "ExecuteTime": {
     "end_time": "2023-09-18T18:56:08.679604Z",
     "start_time": "2023-09-18T18:56:08.647991Z"
    },
    "hidden": true
   },
   "outputs": [
    {
     "data": {
      "text/html": [
       "<div>\n",
       "<style scoped>\n",
       "    .dataframe tbody tr th:only-of-type {\n",
       "        vertical-align: middle;\n",
       "    }\n",
       "\n",
       "    .dataframe tbody tr th {\n",
       "        vertical-align: top;\n",
       "    }\n",
       "\n",
       "    .dataframe thead th {\n",
       "        text-align: right;\n",
       "    }\n",
       "</style>\n",
       "<table border=\"1\" class=\"dataframe\">\n",
       "  <thead>\n",
       "    <tr style=\"text-align: right;\">\n",
       "      <th></th>\n",
       "      <th>id</th>\n",
       "      <th>date_account_created</th>\n",
       "      <th>date_first_booking</th>\n",
       "      <th>gender</th>\n",
       "      <th>age</th>\n",
       "      <th>signup_method</th>\n",
       "      <th>signup_flow</th>\n",
       "      <th>language</th>\n",
       "      <th>affiliate_channel</th>\n",
       "      <th>affiliate_provider</th>\n",
       "      <th>first_affiliate_tracked</th>\n",
       "      <th>signup_app</th>\n",
       "      <th>first_device_type</th>\n",
       "      <th>first_browser</th>\n",
       "      <th>country_destination</th>\n",
       "      <th>date_first_active</th>\n",
       "      <th>delta1</th>\n",
       "      <th>delta2</th>\n",
       "      <th>delta3</th>\n",
       "    </tr>\n",
       "  </thead>\n",
       "  <tbody>\n",
       "    <tr>\n",
       "      <th>1</th>\n",
       "      <td>820tgsjxq7</td>\n",
       "      <td>2011-05-25</td>\n",
       "      <td>2023-09-18</td>\n",
       "      <td>male</td>\n",
       "      <td>38</td>\n",
       "      <td>facebook</td>\n",
       "      <td>0</td>\n",
       "      <td>en</td>\n",
       "      <td>seo</td>\n",
       "      <td>google</td>\n",
       "      <td>untracked</td>\n",
       "      <td>web</td>\n",
       "      <td>mac desktop</td>\n",
       "      <td>male</td>\n",
       "      <td>ndf</td>\n",
       "      <td>2009-05-23</td>\n",
       "      <td>4499</td>\n",
       "      <td>5231</td>\n",
       "      <td>732</td>\n",
       "    </tr>\n",
       "    <tr>\n",
       "      <th>2</th>\n",
       "      <td>4ft3gnwmtx</td>\n",
       "      <td>2010-09-28</td>\n",
       "      <td>2010-08-02</td>\n",
       "      <td>female</td>\n",
       "      <td>56</td>\n",
       "      <td>basic</td>\n",
       "      <td>3</td>\n",
       "      <td>en</td>\n",
       "      <td>direct</td>\n",
       "      <td>direct</td>\n",
       "      <td>untracked</td>\n",
       "      <td>web</td>\n",
       "      <td>windows desktop</td>\n",
       "      <td>female</td>\n",
       "      <td>us</td>\n",
       "      <td>2009-06-09</td>\n",
       "      <td>-57</td>\n",
       "      <td>419</td>\n",
       "      <td>476</td>\n",
       "    </tr>\n",
       "    <tr>\n",
       "      <th>3</th>\n",
       "      <td>bjjt8pjhuk</td>\n",
       "      <td>2011-12-05</td>\n",
       "      <td>2012-09-08</td>\n",
       "      <td>female</td>\n",
       "      <td>42</td>\n",
       "      <td>facebook</td>\n",
       "      <td>0</td>\n",
       "      <td>en</td>\n",
       "      <td>direct</td>\n",
       "      <td>direct</td>\n",
       "      <td>untracked</td>\n",
       "      <td>web</td>\n",
       "      <td>mac desktop</td>\n",
       "      <td>female</td>\n",
       "      <td>other</td>\n",
       "      <td>2009-10-31</td>\n",
       "      <td>278</td>\n",
       "      <td>1043</td>\n",
       "      <td>765</td>\n",
       "    </tr>\n",
       "    <tr>\n",
       "      <th>4</th>\n",
       "      <td>87mebub9p4</td>\n",
       "      <td>2010-09-14</td>\n",
       "      <td>2010-02-18</td>\n",
       "      <td>NaN</td>\n",
       "      <td>41</td>\n",
       "      <td>basic</td>\n",
       "      <td>0</td>\n",
       "      <td>en</td>\n",
       "      <td>direct</td>\n",
       "      <td>direct</td>\n",
       "      <td>untracked</td>\n",
       "      <td>web</td>\n",
       "      <td>mac desktop</td>\n",
       "      <td>NaN</td>\n",
       "      <td>us</td>\n",
       "      <td>2009-12-08</td>\n",
       "      <td>-208</td>\n",
       "      <td>72</td>\n",
       "      <td>280</td>\n",
       "    </tr>\n",
       "    <tr>\n",
       "      <th>6</th>\n",
       "      <td>lsw9q7uk0j</td>\n",
       "      <td>2010-01-02</td>\n",
       "      <td>2010-01-05</td>\n",
       "      <td>female</td>\n",
       "      <td>46</td>\n",
       "      <td>basic</td>\n",
       "      <td>0</td>\n",
       "      <td>en</td>\n",
       "      <td>other</td>\n",
       "      <td>craigslist</td>\n",
       "      <td>untracked</td>\n",
       "      <td>web</td>\n",
       "      <td>mac desktop</td>\n",
       "      <td>female</td>\n",
       "      <td>us</td>\n",
       "      <td>2010-01-02</td>\n",
       "      <td>3</td>\n",
       "      <td>3</td>\n",
       "      <td>0</td>\n",
       "    </tr>\n",
       "  </tbody>\n",
       "</table>\n",
       "</div>"
      ],
      "text/plain": [
       "           id date_account_created date_first_booking  gender  age  \\\n",
       "1  820tgsjxq7           2011-05-25         2023-09-18    male   38   \n",
       "2  4ft3gnwmtx           2010-09-28         2010-08-02  female   56   \n",
       "3  bjjt8pjhuk           2011-12-05         2012-09-08  female   42   \n",
       "4  87mebub9p4           2010-09-14         2010-02-18     NaN   41   \n",
       "6  lsw9q7uk0j           2010-01-02         2010-01-05  female   46   \n",
       "\n",
       "  signup_method  signup_flow language affiliate_channel affiliate_provider  \\\n",
       "1      facebook            0       en               seo             google   \n",
       "2         basic            3       en            direct             direct   \n",
       "3      facebook            0       en            direct             direct   \n",
       "4         basic            0       en            direct             direct   \n",
       "6         basic            0       en             other         craigslist   \n",
       "\n",
       "  first_affiliate_tracked signup_app first_device_type first_browser  \\\n",
       "1               untracked        web       mac desktop          male   \n",
       "2               untracked        web   windows desktop        female   \n",
       "3               untracked        web       mac desktop        female   \n",
       "4               untracked        web       mac desktop           NaN   \n",
       "6               untracked        web       mac desktop        female   \n",
       "\n",
       "  country_destination date_first_active  delta1  delta2  delta3  \n",
       "1                 ndf        2009-05-23    4499    5231     732  \n",
       "2                  us        2009-06-09     -57     419     476  \n",
       "3               other        2009-10-31     278    1043     765  \n",
       "4                  us        2009-12-08    -208      72     280  \n",
       "6                  us        2010-01-02       3       3       0  "
      ]
     },
     "execution_count": 227,
     "metadata": {},
     "output_type": "execute_result"
    }
   ],
   "source": [
    "df_users_01.head()"
   ]
  },
  {
   "cell_type": "markdown",
   "id": "7331c3ff",
   "metadata": {},
   "source": [
    "## Sessions"
   ]
  },
  {
   "cell_type": "code",
   "execution_count": 192,
   "id": "a290b412",
   "metadata": {
    "ExecuteTime": {
     "end_time": "2023-09-18T18:45:10.345804Z",
     "start_time": "2023-09-18T18:45:10.314552Z"
    }
   },
   "outputs": [
    {
     "data": {
      "text/html": [
       "<div>\n",
       "<style scoped>\n",
       "    .dataframe tbody tr th:only-of-type {\n",
       "        vertical-align: middle;\n",
       "    }\n",
       "\n",
       "    .dataframe tbody tr th {\n",
       "        vertical-align: top;\n",
       "    }\n",
       "\n",
       "    .dataframe thead th {\n",
       "        text-align: right;\n",
       "    }\n",
       "</style>\n",
       "<table border=\"1\" class=\"dataframe\">\n",
       "  <thead>\n",
       "    <tr style=\"text-align: right;\">\n",
       "      <th></th>\n",
       "      <th>user_id</th>\n",
       "      <th>action</th>\n",
       "      <th>action_type</th>\n",
       "      <th>action_detail</th>\n",
       "      <th>device_type</th>\n",
       "      <th>secs_elapsed</th>\n",
       "    </tr>\n",
       "  </thead>\n",
       "  <tbody>\n",
       "    <tr>\n",
       "      <th>0</th>\n",
       "      <td>d1mm9tcy42</td>\n",
       "      <td>lookup</td>\n",
       "      <td>NaN</td>\n",
       "      <td>NaN</td>\n",
       "      <td>windows desktop</td>\n",
       "      <td>319.0</td>\n",
       "    </tr>\n",
       "    <tr>\n",
       "      <th>2</th>\n",
       "      <td>d1mm9tcy42</td>\n",
       "      <td>lookup</td>\n",
       "      <td>NaN</td>\n",
       "      <td>NaN</td>\n",
       "      <td>windows desktop</td>\n",
       "      <td>301.0</td>\n",
       "    </tr>\n",
       "    <tr>\n",
       "      <th>4</th>\n",
       "      <td>d1mm9tcy42</td>\n",
       "      <td>lookup</td>\n",
       "      <td>NaN</td>\n",
       "      <td>NaN</td>\n",
       "      <td>windows desktop</td>\n",
       "      <td>435.0</td>\n",
       "    </tr>\n",
       "    <tr>\n",
       "      <th>5</th>\n",
       "      <td>d1mm9tcy42</td>\n",
       "      <td>search_results</td>\n",
       "      <td>click</td>\n",
       "      <td>view_search_results</td>\n",
       "      <td>windows desktop</td>\n",
       "      <td>7703.0</td>\n",
       "    </tr>\n",
       "    <tr>\n",
       "      <th>6</th>\n",
       "      <td>d1mm9tcy42</td>\n",
       "      <td>lookup</td>\n",
       "      <td>NaN</td>\n",
       "      <td>NaN</td>\n",
       "      <td>windows desktop</td>\n",
       "      <td>115.0</td>\n",
       "    </tr>\n",
       "  </tbody>\n",
       "</table>\n",
       "</div>"
      ],
      "text/plain": [
       "      user_id          action action_type        action_detail  \\\n",
       "0  d1mm9tcy42          lookup         NaN                  NaN   \n",
       "2  d1mm9tcy42          lookup         NaN                  NaN   \n",
       "4  d1mm9tcy42          lookup         NaN                  NaN   \n",
       "5  d1mm9tcy42  search_results       click  view_search_results   \n",
       "6  d1mm9tcy42          lookup         NaN                  NaN   \n",
       "\n",
       "       device_type  secs_elapsed  \n",
       "0  windows desktop         319.0  \n",
       "2  windows desktop         301.0  \n",
       "4  windows desktop         435.0  \n",
       "5  windows desktop        7703.0  \n",
       "6  windows desktop         115.0  "
      ]
     },
     "execution_count": 192,
     "metadata": {},
     "output_type": "execute_result"
    }
   ],
   "source": [
    "df_sessions_01.head()"
   ]
  },
  {
   "cell_type": "code",
   "execution_count": 311,
   "id": "1867d9a8",
   "metadata": {
    "ExecuteTime": {
     "end_time": "2023-09-18T20:42:03.392323Z",
     "start_time": "2023-09-18T20:41:29.703567Z"
    }
   },
   "outputs": [],
   "source": [
    "action = df_sessions_01.pivot_table(index='user_id', columns='action', aggfunc='size', fill_value=0).reset_index()\n",
    "action_type = df_sessions_01.pivot_table(index='user_id', columns='action_type', aggfunc='size', fill_value=0).reset_index()\n",
    "action_detail = df_sessions_01.pivot_table(index='user_id', columns='action_detail', aggfunc='size', fill_value=0).reset_index()\n",
    "device_type = df_sessions_01.pivot_table(index='user_id', columns='device_type', aggfunc='size', fill_value=0).reset_index()\n",
    "secs_elapsed = df_sessions_01.pivot_table(index='user_id', values='secs_elapsed', aggfunc=('mean', 'std', 'max', 'min', 'quantile')).reset_index()"
   ]
  },
  {
   "cell_type": "code",
   "execution_count": 312,
   "id": "5d35b8a5",
   "metadata": {
    "ExecuteTime": {
     "end_time": "2023-09-18T20:49:23.303431Z",
     "start_time": "2023-09-18T20:49:23.280844Z"
    }
   },
   "outputs": [],
   "source": [
    "pivot_tables = [secs_elapsed, action, action_type, action_detail, device_type]"
   ]
  },
  {
   "cell_type": "code",
   "execution_count": 319,
   "id": "01986443",
   "metadata": {
    "ExecuteTime": {
     "end_time": "2023-09-18T20:53:00.562522Z",
     "start_time": "2023-09-18T20:52:55.918804Z"
    }
   },
   "outputs": [],
   "source": [
    "# joining the dataframes\n",
    "merged_df = secs_elapsed.merge(action, on='user_id', how='left')\n",
    "merged_df = merged_df.merge(action_type, on='user_id', how='left')\n",
    "merged_df = merged_df.merge(action_detail, on='user_id', how='left')\n",
    "sessions_data = merged_df.merge(device_type, on='user_id', how='left')"
   ]
  },
  {
   "cell_type": "code",
   "execution_count": 320,
   "id": "c185a649",
   "metadata": {
    "ExecuteTime": {
     "end_time": "2023-09-18T20:53:05.498677Z",
     "start_time": "2023-09-18T20:53:05.446878Z"
    }
   },
   "outputs": [
    {
     "data": {
      "text/html": [
       "<div>\n",
       "<style scoped>\n",
       "    .dataframe tbody tr th:only-of-type {\n",
       "        vertical-align: middle;\n",
       "    }\n",
       "\n",
       "    .dataframe tbody tr th {\n",
       "        vertical-align: top;\n",
       "    }\n",
       "\n",
       "    .dataframe thead th {\n",
       "        text-align: right;\n",
       "    }\n",
       "</style>\n",
       "<table border=\"1\" class=\"dataframe\">\n",
       "  <thead>\n",
       "    <tr style=\"text-align: right;\">\n",
       "      <th></th>\n",
       "      <th>user_id</th>\n",
       "      <th>max</th>\n",
       "      <th>mean</th>\n",
       "      <th>min</th>\n",
       "      <th>quantile</th>\n",
       "      <th>std</th>\n",
       "      <th>10</th>\n",
       "      <th>11</th>\n",
       "      <th>12</th>\n",
       "      <th>15</th>\n",
       "      <th>...</th>\n",
       "      <th>chromebook</th>\n",
       "      <th>ipad tablet</th>\n",
       "      <th>iphone</th>\n",
       "      <th>ipodtouch</th>\n",
       "      <th>linux desktop</th>\n",
       "      <th>mac desktop</th>\n",
       "      <th>opera phone</th>\n",
       "      <th>tablet</th>\n",
       "      <th>windows desktop</th>\n",
       "      <th>windows phone</th>\n",
       "    </tr>\n",
       "  </thead>\n",
       "  <tbody>\n",
       "    <tr>\n",
       "      <th>0</th>\n",
       "      <td>00023iyk9l</td>\n",
       "      <td>20438.0</td>\n",
       "      <td>2166.000000</td>\n",
       "      <td>0.0</td>\n",
       "      <td>820.0</td>\n",
       "      <td>4195.651103</td>\n",
       "      <td>0.0</td>\n",
       "      <td>0.0</td>\n",
       "      <td>0.0</td>\n",
       "      <td>0.0</td>\n",
       "      <td>...</td>\n",
       "      <td>0.0</td>\n",
       "      <td>0.0</td>\n",
       "      <td>3.0</td>\n",
       "      <td>0.0</td>\n",
       "      <td>0.0</td>\n",
       "      <td>31.0</td>\n",
       "      <td>0.0</td>\n",
       "      <td>0.0</td>\n",
       "      <td>0.0</td>\n",
       "      <td>0.0</td>\n",
       "    </tr>\n",
       "    <tr>\n",
       "      <th>1</th>\n",
       "      <td>0010k6l0om</td>\n",
       "      <td>17450.0</td>\n",
       "      <td>2326.629630</td>\n",
       "      <td>3.0</td>\n",
       "      <td>697.0</td>\n",
       "      <td>4325.572761</td>\n",
       "      <td>0.0</td>\n",
       "      <td>0.0</td>\n",
       "      <td>0.0</td>\n",
       "      <td>0.0</td>\n",
       "      <td>...</td>\n",
       "      <td>0.0</td>\n",
       "      <td>0.0</td>\n",
       "      <td>0.0</td>\n",
       "      <td>0.0</td>\n",
       "      <td>0.0</td>\n",
       "      <td>54.0</td>\n",
       "      <td>0.0</td>\n",
       "      <td>0.0</td>\n",
       "      <td>0.0</td>\n",
       "      <td>0.0</td>\n",
       "    </tr>\n",
       "    <tr>\n",
       "      <th>2</th>\n",
       "      <td>001wyh0pz8</td>\n",
       "      <td>20501.0</td>\n",
       "      <td>2641.102273</td>\n",
       "      <td>35.0</td>\n",
       "      <td>1104.0</td>\n",
       "      <td>4191.974900</td>\n",
       "      <td>0.0</td>\n",
       "      <td>0.0</td>\n",
       "      <td>0.0</td>\n",
       "      <td>0.0</td>\n",
       "      <td>...</td>\n",
       "      <td>0.0</td>\n",
       "      <td>0.0</td>\n",
       "      <td>0.0</td>\n",
       "      <td>0.0</td>\n",
       "      <td>0.0</td>\n",
       "      <td>0.0</td>\n",
       "      <td>0.0</td>\n",
       "      <td>0.0</td>\n",
       "      <td>0.0</td>\n",
       "      <td>0.0</td>\n",
       "    </tr>\n",
       "    <tr>\n",
       "      <th>3</th>\n",
       "      <td>0028jgx1x1</td>\n",
       "      <td>15904.0</td>\n",
       "      <td>3469.240000</td>\n",
       "      <td>3.0</td>\n",
       "      <td>222.0</td>\n",
       "      <td>4970.775638</td>\n",
       "      <td>0.0</td>\n",
       "      <td>0.0</td>\n",
       "      <td>0.0</td>\n",
       "      <td>0.0</td>\n",
       "      <td>...</td>\n",
       "      <td>NaN</td>\n",
       "      <td>NaN</td>\n",
       "      <td>NaN</td>\n",
       "      <td>NaN</td>\n",
       "      <td>NaN</td>\n",
       "      <td>NaN</td>\n",
       "      <td>NaN</td>\n",
       "      <td>NaN</td>\n",
       "      <td>NaN</td>\n",
       "      <td>NaN</td>\n",
       "    </tr>\n",
       "    <tr>\n",
       "      <th>4</th>\n",
       "      <td>002qnbzfs5</td>\n",
       "      <td>20665.0</td>\n",
       "      <td>2084.283984</td>\n",
       "      <td>0.0</td>\n",
       "      <td>408.0</td>\n",
       "      <td>3719.765276</td>\n",
       "      <td>4.0</td>\n",
       "      <td>0.0</td>\n",
       "      <td>0.0</td>\n",
       "      <td>0.0</td>\n",
       "      <td>...</td>\n",
       "      <td>0.0</td>\n",
       "      <td>0.0</td>\n",
       "      <td>731.0</td>\n",
       "      <td>0.0</td>\n",
       "      <td>0.0</td>\n",
       "      <td>0.0</td>\n",
       "      <td>0.0</td>\n",
       "      <td>0.0</td>\n",
       "      <td>0.0</td>\n",
       "      <td>0.0</td>\n",
       "    </tr>\n",
       "  </tbody>\n",
       "</table>\n",
       "<p>5 rows × 529 columns</p>\n",
       "</div>"
      ],
      "text/plain": [
       "      user_id      max         mean   min  quantile          std   10   11  \\\n",
       "0  00023iyk9l  20438.0  2166.000000   0.0     820.0  4195.651103  0.0  0.0   \n",
       "1  0010k6l0om  17450.0  2326.629630   3.0     697.0  4325.572761  0.0  0.0   \n",
       "2  001wyh0pz8  20501.0  2641.102273  35.0    1104.0  4191.974900  0.0  0.0   \n",
       "3  0028jgx1x1  15904.0  3469.240000   3.0     222.0  4970.775638  0.0  0.0   \n",
       "4  002qnbzfs5  20665.0  2084.283984   0.0     408.0  3719.765276  4.0  0.0   \n",
       "\n",
       "    12   15  ...  chromebook  ipad tablet  iphone  ipodtouch  linux desktop  \\\n",
       "0  0.0  0.0  ...         0.0          0.0     3.0        0.0            0.0   \n",
       "1  0.0  0.0  ...         0.0          0.0     0.0        0.0            0.0   \n",
       "2  0.0  0.0  ...         0.0          0.0     0.0        0.0            0.0   \n",
       "3  0.0  0.0  ...         NaN          NaN     NaN        NaN            NaN   \n",
       "4  0.0  0.0  ...         0.0          0.0   731.0        0.0            0.0   \n",
       "\n",
       "   mac desktop  opera phone  tablet  windows desktop  windows phone  \n",
       "0         31.0          0.0     0.0              0.0            0.0  \n",
       "1         54.0          0.0     0.0              0.0            0.0  \n",
       "2          0.0          0.0     0.0              0.0            0.0  \n",
       "3          NaN          NaN     NaN              NaN            NaN  \n",
       "4          0.0          0.0     0.0              0.0            0.0  \n",
       "\n",
       "[5 rows x 529 columns]"
      ]
     },
     "execution_count": 320,
     "metadata": {},
     "output_type": "execute_result"
    }
   ],
   "source": [
    "sessions_data.head()"
   ]
  },
  {
   "cell_type": "markdown",
   "id": "53bb0e43",
   "metadata": {},
   "source": [
    "# 7.0 EDA"
   ]
  },
  {
   "cell_type": "markdown",
   "id": "f6c7e8b2",
   "metadata": {},
   "source": [
    "# 7.0 Data Preparation"
   ]
  },
  {
   "cell_type": "markdown",
   "id": "1b404caf",
   "metadata": {},
   "source": [
    "# 8.0 Feature Selection"
   ]
  },
  {
   "cell_type": "markdown",
   "id": "dddaaed0",
   "metadata": {},
   "source": [
    "# 9.0 Modelling"
   ]
  },
  {
   "cell_type": "markdown",
   "id": "1dc4be02",
   "metadata": {},
   "source": [
    "# 10.0 Hyperparameter Fine Tuning"
   ]
  },
  {
   "cell_type": "markdown",
   "id": "7521d5ae",
   "metadata": {},
   "source": [
    "# 11.0 Final Metrics"
   ]
  },
  {
   "cell_type": "markdown",
   "id": "e1b8f335",
   "metadata": {},
   "source": [
    "# 12.0 Business Performance"
   ]
  }
 ],
 "metadata": {
  "kernelspec": {
   "display_name": "Python 3 (ipykernel)",
   "language": "python",
   "name": "python3"
  },
  "language_info": {
   "codemirror_mode": {
    "name": "ipython",
    "version": 3
   },
   "file_extension": ".py",
   "mimetype": "text/x-python",
   "name": "python",
   "nbconvert_exporter": "python",
   "pygments_lexer": "ipython3",
   "version": "3.9.12"
  }
 },
 "nbformat": 4,
 "nbformat_minor": 5
}
